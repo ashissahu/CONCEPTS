{
  "cells": [
    {
      "cell_type": "markdown",
      "metadata": {
        "id": "view-in-github",
        "colab_type": "text"
      },
      "source": [
        "<a href=\"https://colab.research.google.com/github/ashissahu/CONCEPTS/blob/master/21_packages.ipynb\" target=\"_parent\"><img src=\"https://colab.research.google.com/assets/colab-badge.svg\" alt=\"Open In Colab\"/></a>"
      ]
    },
    {
      "cell_type": "markdown",
      "metadata": {
        "id": "LE105L2_TmGL"
      },
      "source": [
        "# Package"
      ]
    },
    {
      "cell_type": "markdown",
      "metadata": {
        "id": "EeYY4D64TmGT"
      },
      "source": [
        "Packages are a way of structuring Python’s module namespace by using “dotted module names”.\n",
        "\n",
        "A directory must contain a file named __init__.py in order for Python to consider it as a package. This file can be left empty but we generally place the initialization code for that package in this file."
      ]
    },
    {
      "cell_type": "markdown",
      "metadata": {
        "id": "cUGgSZoUTmGV"
      },
      "source": [
        "![title](package.jpg)"
      ]
    },
    {
      "cell_type": "markdown",
      "metadata": {
        "id": "uC_3hPsGTmGY"
      },
      "source": [
        "# importing module from a package"
      ]
    },
    {
      "cell_type": "markdown",
      "metadata": {
        "id": "DXmB_twjTmGb"
      },
      "source": [
        "We can import modules from packages using the dot (.) operator."
      ]
    },
    {
      "cell_type": "code",
      "execution_count": null,
      "metadata": {
        "collapsed": true,
        "id": "P3U7O2B7TmGc"
      },
      "outputs": [],
      "source": [
        "# import Gate.Image.open "
      ]
    }
  ],
  "metadata": {
    "kernelspec": {
      "display_name": "Python 3",
      "language": "python",
      "name": "python3"
    },
    "language_info": {
      "codemirror_mode": {
        "name": "ipython",
        "version": 3
      },
      "file_extension": ".py",
      "mimetype": "text/x-python",
      "name": "python",
      "nbconvert_exporter": "python",
      "pygments_lexer": "ipython3",
      "version": "3.6.1"
    },
    "colab": {
      "name": "21_packages.ipynb",
      "provenance": [],
      "collapsed_sections": [],
      "include_colab_link": true
    }
  },
  "nbformat": 4,
  "nbformat_minor": 0
}