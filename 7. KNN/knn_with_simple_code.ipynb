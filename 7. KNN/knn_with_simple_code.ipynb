{
 "cells": [
  {
   "cell_type": "code",
   "execution_count": 1,
   "metadata": {
    "colab": {},
    "colab_type": "code",
    "id": "hbM6UEyRO_3S"
   },
   "outputs": [
    {
     "name": "stderr",
     "output_type": "stream",
     "text": [
      "\n",
      "Bad key \"text.kerning_factor\" on line 4 in\n",
      "C:\\Users\\Ad\\Anaconda3\\envs\\newenvt\\lib\\site-packages\\matplotlib\\mpl-data\\stylelib\\_classic_test_patch.mplstyle.\n",
      "You probably need to get an updated matplotlibrc file from\n",
      "http://github.com/matplotlib/matplotlib/blob/master/matplotlibrc.template\n",
      "or from the matplotlib source distribution\n"
     ]
    }
   ],
   "source": [
    "import numpy as np\n",
    "import matplotlib.pyplot as plt\n",
    "from sklearn import datasets, neighbors\n"
   ]
  },
  {
   "cell_type": "code",
   "execution_count": 2,
   "metadata": {},
   "outputs": [
    {
     "ename": "ModuleNotFoundError",
     "evalue": "No module named 'mlxtend'",
     "output_type": "error",
     "traceback": [
      "\u001b[1;31m---------------------------------------------------------------------------\u001b[0m",
      "\u001b[1;31mModuleNotFoundError\u001b[0m                       Traceback (most recent call last)",
      "\u001b[1;32m<ipython-input-2-639f0f5de316>\u001b[0m in \u001b[0;36m<module>\u001b[1;34m()\u001b[0m\n\u001b[0;32m      1\u001b[0m \u001b[1;31m# https://anaconda.org/conda-forge/mlxtend      mlxtend=machine learning extensions()\u001b[0m\u001b[1;33m\u001b[0m\u001b[1;33m\u001b[0m\u001b[0m\n\u001b[1;32m----> 2\u001b[1;33m \u001b[1;32mfrom\u001b[0m \u001b[0mmlxtend\u001b[0m\u001b[1;33m.\u001b[0m\u001b[0mplotting\u001b[0m \u001b[1;32mimport\u001b[0m \u001b[0mplot_decision_regions\u001b[0m\u001b[1;33m\u001b[0m\u001b[0m\n\u001b[0m\u001b[0;32m      3\u001b[0m \u001b[1;32mimport\u001b[0m \u001b[0mpandas\u001b[0m \u001b[1;32mas\u001b[0m \u001b[0mpd\u001b[0m\u001b[1;33m\u001b[0m\u001b[0m\n",
      "\u001b[1;31mModuleNotFoundError\u001b[0m: No module named 'mlxtend'"
     ]
    }
   ],
   "source": [
    "# https://anaconda.org/conda-forge/mlxtend      mlxtend=machine learning extensions()\n",
    "from mlxtend.plotting import plot_decision_regions\n",
    "import pandas as pd"
   ]
  },
  {
   "cell_type": "code",
   "execution_count": null,
   "metadata": {},
   "outputs": [],
   "source": [
    "def knn_comparision(data, k):\n",
    "    X = data[['x1','x2']].values\n",
    "    y = data['y'].astype(int).values\n",
    "    clf = neighbors.KNeighborsClassifier(n_neighbors=k)\n",
    "    clf.fit(X, y)\n",
    "\n",
    "    # Plotting decision regions\n",
    "    plot_decision_regions(X, y, clf=clf, legend=2)\n",
    "\n",
    "    # Adding axes annotations\n",
    "    plt.xlabel('X1')\n",
    "    plt.ylabel('X2')\n",
    "    plt.title('Knn with K='+ str(k))\n",
    "    plt.show()"
   ]
  },
  {
   "cell_type": "code",
   "execution_count": null,
   "metadata": {},
   "outputs": [],
   "source": [
    "data = pd.read_csv('demo_data/6.overlap.csv', names=['x1', 'x2', 'y'])\n",
    "for i in [1, 5, 15, 30, 45]:\n",
    "    knn_comparision(data, i)"
   ]
  },
  {
   "cell_type": "code",
   "execution_count": null,
   "metadata": {},
   "outputs": [],
   "source": [
    "data = pd.read_csv('demo_data/1.ushape.csv', names=['x1', 'x2', 'y'])\n",
    "print(data.head(3))\n",
    "for i in [1, 5, 15, 30, 45]:\n",
    "    knn_comparision(data, i)"
   ]
  },
  {
   "cell_type": "code",
   "execution_count": null,
   "metadata": {
    "colab": {},
    "colab_type": "code",
    "id": "uLeOu_i1O_3z",
    "outputId": "aa79be42-fda5-4bac-9f6d-eb2f7107fbc6"
   },
   "outputs": [],
   "source": [
    "data = pd.read_csv('demo_data/2.concerticcir1.csv', names=['x1', 'x2', 'y'])\n",
    "print(data.head(3))\n",
    "for i in [1, 5, 15, 30, 45]:\n",
    "    knn_comparision(data, i)"
   ]
  },
  {
   "cell_type": "code",
   "execution_count": null,
   "metadata": {
    "colab": {},
    "colab_type": "code",
    "id": "cIH8SSjhO_32",
    "outputId": "95d6d0c3-7801-43ff-c28d-d2146868c019"
   },
   "outputs": [],
   "source": [
    "data = pd.read_csv('demo_data/3.concertriccir2.csv', names=['x1', 'x2', 'y'])\n",
    "print(data.head(3))\n",
    "for i in [1, 5, 15, 30, 45]:\n",
    "    knn_comparision(data, i)"
   ]
  },
  {
   "cell_type": "code",
   "execution_count": null,
   "metadata": {
    "colab": {},
    "colab_type": "code",
    "id": "w55pqzl5O_36",
    "outputId": "1986889a-1324-43c9-e187-4c1fd09f60e4"
   },
   "outputs": [],
   "source": [
    "data = pd.read_csv('demo_data/4.linearsep.csv', names=['x1', 'x2', 'y'])\n",
    "print(data.head(3))\n",
    "for i in [1, 5, 15, 30, 45]:\n",
    "    knn_comparision(data, i)"
   ]
  },
  {
   "cell_type": "code",
   "execution_count": null,
   "metadata": {
    "colab": {},
    "colab_type": "code",
    "id": "8MGjlK3UO_3_",
    "outputId": "6213dcb0-11b1-4708-ef6d-39e271b7246a"
   },
   "outputs": [],
   "source": [
    "data = pd.read_csv('demo_data/5.outlier.csv', names=['x1', 'x2', 'y'])\n",
    "print(data.head(3))\n",
    "for i in [1, 5, 15, 30, 45]:\n",
    "    knn_comparision(data, i)"
   ]
  },
  {
   "cell_type": "code",
   "execution_count": null,
   "metadata": {
    "colab": {},
    "colab_type": "code",
    "id": "YgoCeNW8O_4D",
    "outputId": "f270b6f6-cc1c-4f85-9956-f8be115f7b4e"
   },
   "outputs": [],
   "source": [
    "data = pd.read_csv('demo_data/7.xor.csv', names=['x1', 'x2', 'y'])\n",
    "print(data.head(3))\n",
    "for i in [1, 5, 15, 30, 45]:\n",
    "    knn_comparision(data, i)"
   ]
  },
  {
   "cell_type": "code",
   "execution_count": null,
   "metadata": {
    "colab": {},
    "colab_type": "code",
    "id": "vYBboh7BO_4J",
    "outputId": "15b4558b-77d3-414d-bea3-ece6799286db"
   },
   "outputs": [],
   "source": [
    "data = pd.read_csv('demo_data/8.twospirals.csv', names=['x1', 'x2', 'y'])\n",
    "print(data.head(3))\n",
    "for i in [1, 5, 15, 30, 45]:\n",
    "    knn_comparision(data, i)"
   ]
  },
  {
   "cell_type": "code",
   "execution_count": null,
   "metadata": {
    "colab": {},
    "colab_type": "code",
    "id": "NYU70g28O_4P",
    "outputId": "639a9b03-8331-42c2-e1d5-ca62c1d44f18"
   },
   "outputs": [],
   "source": [
    "data = pd.read_csv('demo_data/9.random.csv', names=['x1', 'x2', 'y'])\n",
    "print(data.head(3))\n",
    "for i in [1, 5, 15, 30, 45]:\n",
    "    knn_comparision(data, i)"
   ]
  }
 ],
 "metadata": {
  "colab": {
   "name": "knn.ipynb",
   "provenance": [],
   "version": "0.3.2"
  },
  "kernelspec": {
   "display_name": "Python 3",
   "language": "python",
   "name": "python3"
  },
  "language_info": {
   "codemirror_mode": {
    "name": "ipython",
    "version": 3
   },
   "file_extension": ".py",
   "mimetype": "text/x-python",
   "name": "python",
   "nbconvert_exporter": "python",
   "pygments_lexer": "ipython3",
   "version": "3.6.5"
  }
 },
 "nbformat": 4,
 "nbformat_minor": 1
}
