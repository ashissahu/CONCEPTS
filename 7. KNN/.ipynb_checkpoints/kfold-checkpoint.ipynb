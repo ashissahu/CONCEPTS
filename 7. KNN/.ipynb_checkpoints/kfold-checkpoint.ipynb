{
 "cells": [
  {
   "cell_type": "code",
   "execution_count": 1,
   "metadata": {
    "colab": {},
    "colab_type": "code",
    "id": "oCdH4fBwGdCY",
    "outputId": "81bc9f40-2d8b-48c8-b739-4e4f25b2e6f3"
   },
   "outputs": [],
   "source": [
    "# ============================== loading libraries ===========================================\n",
    "import numpy as np\n",
    "import pandas as pd\n",
    "import matplotlib.pyplot as plt\n",
    "from sklearn.model_selection import train_test_split\n",
    "from sklearn.neighbors import KNeighborsClassifier\n",
    "from sklearn.metrics import accuracy_score\n",
    "from sklearn.model_selection import cross_val_score\n",
    "from collections import Counter\n",
    "from sklearn.metrics import accuracy_score\n",
    "from sklearn import model_selection\n",
    "\n",
    "#to remove DeprecationWarning\n",
    "import warnings\n",
    "warnings.filterwarnings(\"ignore\",category=DeprecationWarning)\n",
    "# ============================================================================================="
   ]
  },
  {
   "cell_type": "code",
   "execution_count": 2,
   "metadata": {
    "colab": {},
    "colab_type": "code",
    "id": "UWsDjpSYGdCi",
    "outputId": "efa553ef-7ba0-45fa-a8ca-f167caa765ed"
   },
   "outputs": [
    {
     "name": "stdout",
     "output_type": "stream",
     "text": [
      "          x         y  class\n",
      "0  0.700335 -0.247068    0.0\n",
      "1 -3.950019  2.740080    1.0\n",
      "2  0.150222 -2.157638    1.0\n",
      "3 -1.672050 -0.941519    1.0\n",
      "4  2.560483 -1.846577    1.0\n"
     ]
    }
   ],
   "source": [
    "# Part I\n",
    "# ============================== data preprocessing ===========================================\n",
    "\n",
    "# define column names\n",
    "names = ['x', 'y', 'class']\n",
    "\n",
    "# loading training data\n",
    "df = pd.read_csv('./demo_data/3.concertriccir2.csv', header=None, names=names)\n",
    "print(df.head())\n",
    "\n",
    "# create design matrix X and target vector y\n",
    "X = np.array(df.iloc[:, 0:2]) # end index is exclusive\n",
    "y = np.array(df['class']) # showing you two ways of indexing a pandas df\n"
   ]
  },
  {
   "cell_type": "markdown",
   "metadata": {
    "colab_type": "text",
    "id": "UVVtNgCFGdCm"
   },
   "source": [
    "### Simple Cross Validation "
   ]
  },
  {
   "cell_type": "code",
   "execution_count": 5,
   "metadata": {
    "colab": {},
    "colab_type": "code",
    "id": "T14J4B9FGdCn",
    "outputId": "47e53c29-b23b-407f-c26d-f4b1493ff29b",
    "scrolled": false
   },
   "outputs": [
    {
     "name": "stdout",
     "output_type": "stream",
     "text": [
      "\n",
      "CV accuracy for k = 1 is 88%\n",
      "\n",
      "CV accuracy for k = 3 is 87%\n",
      "\n",
      "CV accuracy for k = 5 is 86%\n",
      "\n",
      "CV accuracy for k = 7 is 87%\n",
      "\n",
      "CV accuracy for k = 9 is 85%\n",
      "\n",
      "CV accuracy for k = 11 is 81%\n",
      "\n",
      "CV accuracy for k = 13 is 82%\n",
      "\n",
      "CV accuracy for k = 15 is 80%\n",
      "\n",
      "CV accuracy for k = 17 is 78%\n",
      "\n",
      "CV accuracy for k = 19 is 75%\n",
      "\n",
      "CV accuracy for k = 21 is 74%\n",
      "\n",
      "CV accuracy for k = 23 is 72%\n",
      "\n",
      "CV accuracy for k = 25 is 71%\n",
      "\n",
      "CV accuracy for k = 27 is 69%\n",
      "\n",
      "CV accuracy for k = 29 is 67%\n",
      "\n",
      "CV accuracy for k = 31 is 63%\n",
      "\n",
      "CV accuracy for k = 33 is 63%\n",
      "\n",
      "CV accuracy for k = 35 is 62%\n",
      "\n",
      "CV accuracy for k = 37 is 62%\n",
      "\n",
      "CV accuracy for k = 39 is 61%\n",
      "\n",
      "CV accuracy for k = 41 is 60%\n",
      "\n",
      "CV accuracy for k = 43 is 60%\n",
      "\n",
      "CV accuracy for k = 45 is 60%\n",
      "\n",
      "CV accuracy for k = 47 is 60%\n",
      "\n",
      "CV accuracy for k = 49 is 60%\n",
      "\n",
      "CV accuracy for k = 51 is 59%\n",
      "\n",
      "CV accuracy for k = 53 is 59%\n",
      "\n",
      "CV accuracy for k = 55 is 59%\n",
      "\n",
      "CV accuracy for k = 57 is 58%\n",
      "\n",
      "CV accuracy for k = 59 is 57%\n",
      "\n",
      "****Test accuracy for k = 1 is 91%\n"
     ]
    }
   ],
   "source": [
    "# split the data set into train and test\n",
    "X_1, X_test, y_1, y_test = model_selection.train_test_split(X, y, test_size=0.3, random_state=0)\n",
    "\n",
    "# split the train data set into cross validation train and cross validation test\n",
    "X_tr, X_cv, y_tr, y_cv = model_selection.train_test_split(X_1, y_1, test_size=0.3)\n",
    "\n",
    "for i in range(1,60,2):\n",
    "    # instantiate learning model (k = 30)\n",
    "    knn = KNeighborsClassifier(n_neighbors=i)\n",
    "\n",
    "    # fitting the model on crossvalidation train\n",
    "    knn.fit(X_tr, y_tr)\n",
    "\n",
    "    # predict the response on the crossvalidation train\n",
    "    pred = knn.predict(X_cv)\n",
    "\n",
    "    # evaluate CV accuracy\n",
    "    acc = accuracy_score(y_cv, pred, normalize=True) * float(100)  #y_cv=actual value,pred=predicted value\n",
    "    print('\\nCV accuracy for k = %d is %d%%' % (i, acc))\n",
    "#predicting fortestdata    \n",
    "knn = KNeighborsClassifier(1)\n",
    "knn.fit(X_tr,y_tr)\n",
    "pred = knn.predict(X_test)\n",
    "acc = accuracy_score(y_test, pred, normalize=True) * float(100)\n",
    "print('\\n****Test accuracy for k = 1 is %d%%' % (acc))"
   ]
  },
  {
   "cell_type": "markdown",
   "metadata": {
    "colab_type": "text",
    "id": "ZRuToE6OGdCs"
   },
   "source": [
    "### 10 fold cross validation "
   ]
  },
  {
   "cell_type": "code",
   "execution_count": 11,
   "metadata": {
    "colab": {},
    "colab_type": "code",
    "id": "_f9Cr5pjGdCu",
    "outputId": "c5c3dfed-525e-4461-deb0-796c03c35ef8"
   },
   "outputs": [
    {
     "name": "stdout",
     "output_type": "stream",
     "text": [
      "accracy: [0.8531666666666666, 0.8809999999999999, 0.8606666666666667, 0.8320000000000001, 0.8281666666666668, 0.8361666666666668, 0.8240000000000001, 0.8198333333333332, 0.8119999999999999, 0.7958333333333333, 0.7666666666666667, 0.7298333333333333, 0.7056666666666666, 0.6895, 0.6855, 0.6811666666666667, 0.6811666666666666, 0.6608333333333333, 0.6568333333333334, 0.6446666666666666, 0.6405, 0.6283333333333333, 0.6323333333333333, 0.628, 0.6118333333333333]\n",
      "\n",
      "Misclassification error: [0.14683333333333337, 0.1190000000000001, 0.1393333333333333, 0.16799999999999993, 0.17183333333333317, 0.16383333333333316, 0.17599999999999993, 0.1801666666666668, 0.18800000000000006, 0.20416666666666672, 0.23333333333333328, 0.27016666666666667, 0.29433333333333345, 0.3105, 0.3145, 0.3188333333333333, 0.3188333333333334, 0.3391666666666667, 0.3431666666666666, 0.3553333333333334, 0.35950000000000004, 0.3716666666666667, 0.3676666666666667, 0.372, 0.38816666666666666]\n",
      "\n",
      "The optimal number of neighbors is 3.\n"
     ]
    },
    {
     "data": {
      "image/png": "[encoded data removed]",
      "text/plain": [
       "<Figure size 432x288 with 1 Axes>"
      ]
     },
     "metadata": {},
     "output_type": "display_data"
    },
    {
     "name": "stdout",
     "output_type": "stream",
     "text": [
      "the misclassification error for each k value is :  [0.147 0.119 0.139 0.168 0.172 0.164 0.176 0.18  0.188 0.204 0.233 0.27\n",
      " 0.294 0.31  0.314 0.319 0.319 0.339 0.343 0.355 0.36  0.372 0.368 0.372\n",
      " 0.388]\n"
     ]
    }
   ],
   "source": [
    "\n",
    "\n",
    "# creating odd list of K for KNN\n",
    "myList = list(range(0,50))\n",
    "neighbors = list(filter(lambda x: x % 2 != 0, myList))\n",
    "\n",
    "# empty list that will hold cv scores\n",
    "cv_scores = []\n",
    "\n",
    "# perform 10-fold cross validation\n",
    "for k in neighbors:\n",
    "    knn = KNeighborsClassifier(n_neighbors=k)\n",
    "    scores = cross_val_score(knn, X_tr, y_tr, cv=10, scoring='accuracy') #cv=10 means 10 fold cross validation\n",
    "    cv_scores.append(scores.mean())\n",
    "    \n",
    "print(\"accracy:\",cv_scores)\n",
    "\n",
    "# changing to misclassification error\n",
    "MSE = [1 - x for x in cv_scores]\n",
    "print()\n",
    "print(\"Misclassification error:\",MSE)\n",
    "\n",
    "\n",
    "# determining best k\n",
    "optimal_k = neighbors[MSE.index(min(MSE))]\n",
    "print('\\nThe optimal number of neighbors is %d.' % optimal_k)\n",
    "\n",
    "# plot misclassification error vs k \n",
    "plt.plot(neighbors, MSE)\n",
    "\n",
    "for xy in zip(neighbors, np.round(MSE,3)):\n",
    "    plt.annotate('(%s, %s)' % xy, xy=xy, textcoords='data')\n",
    "\n",
    "plt.xlabel('Number of Neighbors K')\n",
    "plt.ylabel('Misclassification Error')\n",
    "plt.show()\n",
    "\n",
    "print(\"the misclassification error for each k value is : \", np.round(MSE,3))"
   ]
  },
  {
   "cell_type": "code",
   "execution_count": 13,
   "metadata": {
    "colab": {},
    "colab_type": "code",
    "id": "SzVqv1-qGdCy",
    "outputId": "0deda05e-91f5-477a-df14-d463d2d27d08"
   },
   "outputs": [
    {
     "name": "stdout",
     "output_type": "stream",
     "text": [
      "\n",
      "The accuracy of the knn classifier for k = 3 is 90.000000%\n"
     ]
    }
   ],
   "source": [
    "# ============================== KNN with k = optimal_k ===============================================\n",
    "# instantiate learning model k = optimal_k\n",
    "knn_optimal = KNeighborsClassifier(n_neighbors=optimal_k)\n",
    "\n",
    "# fitting the model\n",
    "knn_optimal.fit(X_tr, y_tr)\n",
    "\n",
    "# predict the response\n",
    "pred = knn_optimal.predict(X_test)\n",
    "\n",
    "# evaluate accuracy\n",
    "acc = accuracy_score(y_test, pred) * 100\n",
    "print('\\nThe accuracy of the knn classifier for k = %d is %f%%' % (optimal_k, acc))"
   ]
  },
  {
   "cell_type": "code",
   "execution_count": null,
   "metadata": {
    "colab": {},
    "colab_type": "code",
    "id": "sHLRZhFfGdC4"
   },
   "outputs": [],
   "source": []
  },
  {
   "cell_type": "code",
   "execution_count": null,
   "metadata": {
    "colab": {},
    "colab_type": "code",
    "id": "Dr9HOKLdGdC8"
   },
   "outputs": [],
   "source": []
  }
 ],
 "metadata": {
  "colab": {
   "collapsed_sections": [],
   "name": "kfold.ipynb",
   "provenance": [],
   "version": "0.3.2"
  },
  "kernelspec": {
   "display_name": "Python 3",
   "language": "python",
   "name": "python3"
  },
  "language_info": {
   "codemirror_mode": {
    "name": "ipython",
    "version": 3
   },
   "file_extension": ".py",
   "mimetype": "text/x-python",
   "name": "python",
   "nbconvert_exporter": "python",
   "pygments_lexer": "ipython3",
   "version": "3.6.5"
  }
 },
 "nbformat": 4,
 "nbformat_minor": 1
}
