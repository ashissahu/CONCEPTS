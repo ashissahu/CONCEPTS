{
 "cells": [
  {
   "cell_type": "code",
   "execution_count": 12,
   "metadata": {},
   "outputs": [],
   "source": [
    "#https://towardsdatascience.com/hypothesis-testing-in-machine-learning-using-python-a0dc89e169ce\n",
    "#https://towardsdatascience.com/demystifying-hypothesis-testing-with-simple-python-examples-4997ad3c5294"
   ]
  },
  {
   "cell_type": "markdown",
   "metadata": {},
   "source": [
    "T- Test :- A t-test is a type of inferential statistic which is used to determine if there is a significant difference between the means of two groups which may be related in certain features. It is mostly used when the data sets, like the set of data recorded as outcome from flipping a coin a 100 times, would follow a normal distribution and may have unknown variances. T test is used as a hypothesis testing tool, which allows testing of an assumption applicable to a population.  \n",
    "\n",
    "T-test has 2 types : 1. one sampled t-test 2. two-sampled t-test.  \n",
    "\n",
    "One sample t-test : The One Sample t Test determines whether the sample mean is statistically different from a known or hypothesised population mean. The One Sample t Test is a parametric test.    \n",
    "Example :- you have 10 ages and you are checking whether avg age is 30 or not. (check code below for that using python)"
   ]
  },
  {
   "cell_type": "markdown",
   "metadata": {},
   "source": [
    "# One sample t-test :"
   ]
  },
  {
   "cell_type": "code",
   "execution_count": 9,
   "metadata": {},
   "outputs": [
    {
     "name": "stdout",
     "output_type": "stream",
     "text": [
      "[20 25 28 30 35 37 28 32 21 35]\n",
      "29.1\n",
      "p-values 0.6387193286541082\n",
      "we are accepting null hypothesis\n"
     ]
    }
   ],
   "source": [
    "from scipy.stats import ttest_1samp\n",
    "import numpy as np\n",
    "ages = np.array([20,25,28,30,35,37,28,32,21,35])\n",
    "print(ages)\n",
    "ages_mean = np.mean(ages)\n",
    "print(ages_mean)\n",
    "\n",
    "tset,pval = ttest_1samp(ages, 30)\n",
    "print(\"p-values\",pval)\n",
    "if pval < 0.05:    # alpha value is 0.05 or 5%\n",
    "   print(\" we are rejecting null hypothesis\")\n",
    "else:\n",
    "  print(\"we are accepting null hypothesis\")\n"
   ]
  },
  {
   "cell_type": "markdown",
   "metadata": {},
   "source": [
    "# Two sampled T-test :"
   ]
  },
  {
   "cell_type": "code",
   "execution_count": 11,
   "metadata": {},
   "outputs": [
    {
     "name": "stdout",
     "output_type": "stream",
     "text": [
      "[20 25 28 30 35 37 28 32 21 35]\n",
      "week2 data :-\n",
      "\n",
      "[10 35 18 20 15 27 38 32 21 45]\n",
      "week1 mean value: 29.1\n",
      "week2 mean value: 26.1\n",
      "week1 std value: 5.5578772926361015\n",
      "week2 std value: 10.6061303028013\n",
      "p-value 0.46199497663467726\n",
      "we accept null hypothesis\n"
     ]
    }
   ],
   "source": [
    "from scipy.stats import ttest_ind\n",
    "import numpy as np\n",
    "week1 =  np.array([20,25,28,30,35,37,28,32,21,35])\n",
    "week2 =  np.array([10,35,18,20,15,27,38,32,21,45])\n",
    "print(week1)\n",
    "print(\"week2 data :-\\n\")\n",
    "print(week2)\n",
    "week1_mean = np.mean(week1)\n",
    "week2_mean = np.mean(week2)\n",
    "print(\"week1 mean value:\",week1_mean)\n",
    "print(\"week2 mean value:\",week2_mean)\n",
    "week1_std = np.std(week1)\n",
    "week2_std = np.std(week2)\n",
    "print(\"week1 std value:\",week1_std)\n",
    "print(\"week2 std value:\",week2_std)\n",
    "ttest,pval = ttest_ind(week1,week2)\n",
    "print(\"p-value\",pval)\n",
    "if pval <0.05:\n",
    "  print(\"we reject null hypothesis\")\n",
    "else:\n",
    "  print(\"we accept null hypothesis\")"
   ]
  },
  {
   "cell_type": "markdown",
   "metadata": {},
   "source": [
    "# Paired sampled t-test"
   ]
  },
  {
   "cell_type": "code",
   "execution_count": 17,
   "metadata": {},
   "outputs": [
    {
     "data": {
      "text/plain": [
       "'\\nPaired sampled t-test :- The paired sample t-test is also called dependent sample t-test. \\nIt’s an uni variate test that tests for a significant difference between 2 related variables.\\nAn example of this is if you where to collect the blood pressure for an individual before and after some treatment,\\ncondition, or time point.\\nH0 :- means difference between two sample is 0\\nH1:- mean difference between two sample is not\\n'"
      ]
     },
     "execution_count": 17,
     "metadata": {},
     "output_type": "execute_result"
    }
   ],
   "source": [
    "\"\"\"\n",
    "Paired sampled t-test :- The paired sample t-test is also called dependent sample t-test. \n",
    "It’s an uni variate test that tests for a significant difference between 2 related variables.\n",
    "An example of this is if you where to collect the blood pressure for an individual before and after some treatment,\n",
    "condition, or time point.\n",
    "H0 :- means difference between two sample is 0\n",
    "H1:- mean difference between two sample is not\n",
    "\"\"\""
   ]
  },
  {
   "cell_type": "code",
   "execution_count": 14,
   "metadata": {},
   "outputs": [],
   "source": [
    "import pandas as pd\n",
    "from scipy import stats\n",
    "from statsmodels.stats import weightstats as stests"
   ]
  },
  {
   "cell_type": "code",
   "execution_count": 16,
   "metadata": {},
   "outputs": [
    {
     "data": {
      "text/html": [
       "<div>\n",
       "<style scoped>\n",
       "    .dataframe tbody tr th:only-of-type {\n",
       "        vertical-align: middle;\n",
       "    }\n",
       "\n",
       "    .dataframe tbody tr th {\n",
       "        vertical-align: top;\n",
       "    }\n",
       "\n",
       "    .dataframe thead th {\n",
       "        text-align: right;\n",
       "    }\n",
       "</style>\n",
       "<table border=\"1\" class=\"dataframe\">\n",
       "  <thead>\n",
       "    <tr style=\"text-align: right;\">\n",
       "      <th></th>\n",
       "      <th>patient</th>\n",
       "      <th>sex</th>\n",
       "      <th>agegrp</th>\n",
       "      <th>bp_before</th>\n",
       "      <th>bp_after</th>\n",
       "    </tr>\n",
       "  </thead>\n",
       "  <tbody>\n",
       "    <tr>\n",
       "      <th>0</th>\n",
       "      <td>1</td>\n",
       "      <td>Male</td>\n",
       "      <td>30-45</td>\n",
       "      <td>143</td>\n",
       "      <td>153</td>\n",
       "    </tr>\n",
       "    <tr>\n",
       "      <th>1</th>\n",
       "      <td>2</td>\n",
       "      <td>Male</td>\n",
       "      <td>30-45</td>\n",
       "      <td>163</td>\n",
       "      <td>170</td>\n",
       "    </tr>\n",
       "    <tr>\n",
       "      <th>2</th>\n",
       "      <td>3</td>\n",
       "      <td>Male</td>\n",
       "      <td>30-45</td>\n",
       "      <td>153</td>\n",
       "      <td>168</td>\n",
       "    </tr>\n",
       "    <tr>\n",
       "      <th>3</th>\n",
       "      <td>4</td>\n",
       "      <td>Male</td>\n",
       "      <td>30-45</td>\n",
       "      <td>153</td>\n",
       "      <td>142</td>\n",
       "    </tr>\n",
       "    <tr>\n",
       "      <th>4</th>\n",
       "      <td>5</td>\n",
       "      <td>Male</td>\n",
       "      <td>30-45</td>\n",
       "      <td>146</td>\n",
       "      <td>141</td>\n",
       "    </tr>\n",
       "  </tbody>\n",
       "</table>\n",
       "</div>"
      ],
      "text/plain": [
       "   patient   sex agegrp  bp_before  bp_after\n",
       "0        1  Male  30-45        143       153\n",
       "1        2  Male  30-45        163       170\n",
       "2        3  Male  30-45        153       168\n",
       "3        4  Male  30-45        153       142\n",
       "4        5  Male  30-45        146       141"
      ]
     },
     "execution_count": 16,
     "metadata": {},
     "output_type": "execute_result"
    }
   ],
   "source": [
    "df = pd.read_csv(\"blood_pressure.csv\")\n",
    "\n",
    "df.head(5)"
   ]
  },
  {
   "cell_type": "code",
   "execution_count": 18,
   "metadata": {},
   "outputs": [
    {
     "data": {
      "text/html": [
       "<div>\n",
       "<style scoped>\n",
       "    .dataframe tbody tr th:only-of-type {\n",
       "        vertical-align: middle;\n",
       "    }\n",
       "\n",
       "    .dataframe tbody tr th {\n",
       "        vertical-align: top;\n",
       "    }\n",
       "\n",
       "    .dataframe thead th {\n",
       "        text-align: right;\n",
       "    }\n",
       "</style>\n",
       "<table border=\"1\" class=\"dataframe\">\n",
       "  <thead>\n",
       "    <tr style=\"text-align: right;\">\n",
       "      <th></th>\n",
       "      <th>bp_before</th>\n",
       "      <th>bp_after</th>\n",
       "    </tr>\n",
       "  </thead>\n",
       "  <tbody>\n",
       "    <tr>\n",
       "      <th>count</th>\n",
       "      <td>120.000000</td>\n",
       "      <td>120.000000</td>\n",
       "    </tr>\n",
       "    <tr>\n",
       "      <th>mean</th>\n",
       "      <td>156.450000</td>\n",
       "      <td>151.358333</td>\n",
       "    </tr>\n",
       "    <tr>\n",
       "      <th>std</th>\n",
       "      <td>11.389845</td>\n",
       "      <td>14.177622</td>\n",
       "    </tr>\n",
       "    <tr>\n",
       "      <th>min</th>\n",
       "      <td>138.000000</td>\n",
       "      <td>125.000000</td>\n",
       "    </tr>\n",
       "    <tr>\n",
       "      <th>25%</th>\n",
       "      <td>147.000000</td>\n",
       "      <td>140.750000</td>\n",
       "    </tr>\n",
       "    <tr>\n",
       "      <th>50%</th>\n",
       "      <td>154.500000</td>\n",
       "      <td>149.500000</td>\n",
       "    </tr>\n",
       "    <tr>\n",
       "      <th>75%</th>\n",
       "      <td>164.000000</td>\n",
       "      <td>161.000000</td>\n",
       "    </tr>\n",
       "    <tr>\n",
       "      <th>max</th>\n",
       "      <td>185.000000</td>\n",
       "      <td>185.000000</td>\n",
       "    </tr>\n",
       "  </tbody>\n",
       "</table>\n",
       "</div>"
      ],
      "text/plain": [
       "        bp_before    bp_after\n",
       "count  120.000000  120.000000\n",
       "mean   156.450000  151.358333\n",
       "std     11.389845   14.177622\n",
       "min    138.000000  125.000000\n",
       "25%    147.000000  140.750000\n",
       "50%    154.500000  149.500000\n",
       "75%    164.000000  161.000000\n",
       "max    185.000000  185.000000"
      ]
     },
     "execution_count": 18,
     "metadata": {},
     "output_type": "execute_result"
    }
   ],
   "source": [
    "df[['bp_before','bp_after']].describe()"
   ]
  },
  {
   "cell_type": "code",
   "execution_count": 21,
   "metadata": {},
   "outputs": [
    {
     "name": "stdout",
     "output_type": "stream",
     "text": [
      "0.0011297914644840823\n"
     ]
    }
   ],
   "source": [
    "ttest,pval = stats.ttest_rel(df['bp_before'], df['bp_after'])\n",
    "print(pval)"
   ]
  },
  {
   "cell_type": "code",
   "execution_count": 22,
   "metadata": {},
   "outputs": [
    {
     "name": "stdout",
     "output_type": "stream",
     "text": [
      "reject null hypothesis\n"
     ]
    }
   ],
   "source": [
    "if pval<0.05:\n",
    "    print(\"reject null hypothesis\")\n",
    "else:\n",
    "    print(\"accept null hypothesis\")"
   ]
  },
  {
   "cell_type": "code",
   "execution_count": null,
   "metadata": {},
   "outputs": [],
   "source": []
  }
 ],
 "metadata": {
  "kernelspec": {
   "display_name": "Python 3",
   "language": "python",
   "name": "python3"
  },
  "language_info": {
   "codemirror_mode": {
    "name": "ipython",
    "version": 3
   },
   "file_extension": ".py",
   "mimetype": "text/x-python",
   "name": "python",
   "nbconvert_exporter": "python",
   "pygments_lexer": "ipython3",
   "version": "3.6.5"
  }
 },
 "nbformat": 4,
 "nbformat_minor": 2
}
