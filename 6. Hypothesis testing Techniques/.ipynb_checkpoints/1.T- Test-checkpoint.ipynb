{
 "cells": [
  {
   "cell_type": "code",
   "execution_count": 12,
   "metadata": {},
   "outputs": [],
   "source": [
    "#https://towardsdatascience.com/hypothesis-testing-in-machine-learning-using-python-a0dc89e169ce\n",
    "#https://towardsdatascience.com/demystifying-hypothesis-testing-with-simple-python-examples-4997ad3c5294"
   ]
  },
  {
   "cell_type": "markdown",
   "metadata": {},
   "source": [
    "T- Test :- A t-test is a type of inferential statistic which is used to determine if there is a significant difference between the means of two groups which may be related in certain features. It is mostly used when the data sets, like the set of data recorded as outcome from flipping a coin a 100 times, would follow a normal distribution and may have unknown variances. T test is used as a hypothesis testing tool, which allows testing of an assumption applicable to a population.  \n",
    "\n",
    "T-test has 2 types : 1. one sampled t-test 2. two-sampled t-test.  \n",
    "\n",
    "One sample t-test : The One Sample t Test determines whether the sample mean is statistically different from a known or hypothesised population mean. The One Sample t Test is a parametric test.    \n",
    "Example :- you have 10 ages and you are checking whether avg age is 30 or not. (check code below for that using python)"
   ]
  },
  {
   "cell_type": "markdown",
   "metadata": {},
   "source": [
    "# One sample t-test :"
   ]
  },
  {
   "cell_type": "code",
   "execution_count": 9,
   "metadata": {},
   "outputs": [
    {
     "name": "stdout",
     "output_type": "stream",
     "text": [
      "[20 25 28 30 35 37 28 32 21 35]\n",
      "29.1\n",
      "p-values 0.6387193286541082\n",
      "we are accepting null hypothesis\n"
     ]
    }
   ],
   "source": [
    "from scipy.stats import ttest_1samp\n",
    "import numpy as np\n",
    "ages = np.array([20,25,28,30,35,37,28,32,21,35])\n",
    "print(ages)\n",
    "ages_mean = np.mean(ages)\n",
    "print(ages_mean)\n",
    "\n",
    "tset,pval = ttest_1samp(ages, 30)\n",
    "print(\"p-values\",pval)\n",
    "if pval < 0.05:    # alpha value is 0.05 or 5%\n",
    "   print(\" we are rejecting null hypothesis\")\n",
    "else:\n",
    "  print(\"we are accepting null hypothesis\")\n"
   ]
  },
  {
   "cell_type": "markdown",
   "metadata": {},
   "source": [
    "# Two sampled T-test :"
   ]
  },
  {
   "cell_type": "code",
   "execution_count": 11,
   "metadata": {},
   "outputs": [
    {
     "name": "stdout",
     "output_type": "stream",
     "text": [
      "[20 25 28 30 35 37 28 32 21 35]\n",
      "week2 data :-\n",
      "\n",
      "[10 35 18 20 15 27 38 32 21 45]\n",
      "week1 mean value: 29.1\n",
      "week2 mean value: 26.1\n",
      "week1 std value: 5.5578772926361015\n",
      "week2 std value: 10.6061303028013\n",
      "p-value 0.46199497663467726\n",
      "we accept null hypothesis\n"
     ]
    }
   ],
   "source": [
    "from scipy.stats import ttest_ind\n",
    "import numpy as np\n",
    "week1 =  np.array([20,25,28,30,35,37,28,32,21,35])\n",
    "week2 =  np.array([10,35,18,20,15,27,38,32,21,45])\n",
    "print(week1)\n",
    "print(\"week2 data :-\\n\")\n",
    "print(week2)\n",
    "week1_mean = np.mean(week1)\n",
    "week2_mean = np.mean(week2)\n",
    "print(\"week1 mean value:\",week1_mean)\n",
    "print(\"week2 mean value:\",week2_mean)\n",
    "week1_std = np.std(week1)\n",
    "week2_std = np.std(week2)\n",
    "print(\"week1 std value:\",week1_std)\n",
    "print(\"week2 std value:\",week2_std)\n",
    "ttest,pval = ttest_ind(week1,week2)\n",
    "print(\"p-value\",pval)\n",
    "if pval <0.05:\n",
    "  print(\"we reject null hypothesis\")\n",
    "else:\n",
    "  print(\"we accept null hypothesis\")"
   ]
  },
  {
   "cell_type": "code",
   "execution_count": null,
   "metadata": {},
   "outputs": [],
   "source": []
  }
 ],
 "metadata": {
  "kernelspec": {
   "display_name": "Python 3",
   "language": "python",
   "name": "python3"
  },
  "language_info": {
   "codemirror_mode": {
    "name": "ipython",
    "version": 3
   },
   "file_extension": ".py",
   "mimetype": "text/x-python",
   "name": "python",
   "nbconvert_exporter": "python",
   "pygments_lexer": "ipython3",
   "version": "3.6.5"
  }
 },
 "nbformat": 4,
 "nbformat_minor": 2
}
