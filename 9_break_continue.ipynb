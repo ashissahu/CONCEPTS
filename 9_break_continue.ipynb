{
  "nbformat": 4,
  "nbformat_minor": 0,
  "metadata": {
    "colab": {
      "name": "9_break_continue.ipynb",
      "provenance": [],
      "collapsed_sections": [],
      "include_colab_link": true
    },
    "kernelspec": {
      "display_name": "Python 3",
      "language": "python",
      "name": "python3"
    }
  },
  "cells": [
    {
      "cell_type": "markdown",
      "metadata": {
        "id": "view-in-github",
        "colab_type": "text"
      },
      "source": [
        "<a href=\"https://colab.research.google.com/github/ashissahu/CONCEPTS/blob/master/9_break_continue.ipynb\" target=\"_parent\"><img src=\"https://colab.research.google.com/assets/colab-badge.svg\" alt=\"Open In Colab\"/></a>"
      ]
    },
    {
      "cell_type": "markdown",
      "metadata": {
        "id": "sywvYJn4bHvQ"
      },
      "source": [
        "# Python break and continue Statements"
      ]
    },
    {
      "cell_type": "markdown",
      "metadata": {
        "id": "Nvwj3K2QbHvU"
      },
      "source": [
        "In Python, break and continue statements can alter the flow of a normal loop.\n",
        "\n",
        "Loops iterate over a block of code until test expression is false, but sometimes we wish to terminate the current iteration or even the whole loop without cheking test expression.\n",
        "\n",
        "The break and continue statements are used in these cases."
      ]
    },
    {
      "cell_type": "markdown",
      "metadata": {
        "id": "i3QBjhRtbHvV"
      },
      "source": [
        "# Python break Statement"
      ]
    },
    {
      "cell_type": "markdown",
      "metadata": {
        "id": "h6fXbdvObHvY"
      },
      "source": [
        "Syntax:\n",
        "    \n",
        "    break"
      ]
    },
    {
      "cell_type": "markdown",
      "metadata": {
        "id": "QcV9OkMjbHva"
      },
      "source": [
        "![title](break.jpg)"
      ]
    },
    {
      "cell_type": "markdown",
      "metadata": {
        "id": "021E6hkgbHvc"
      },
      "source": [
        "![title](break_works.jpg)"
      ]
    },
    {
      "cell_type": "markdown",
      "metadata": {
        "id": "C54FsONgbHve"
      },
      "source": [
        "# Example"
      ]
    },
    {
      "cell_type": "code",
      "metadata": {
        "id": "mpNVa_wObHvg",
        "colab": {
          "base_uri": "https://localhost:8080/"
        },
        "outputId": "44423638-baa6-4f0f-a32e-2273026832d4"
      },
      "source": [
        "numbers = [1, 2, 3, 4 ,5]\n",
        "for num in numbers:          #iterating over list\n",
        "    if num == 4:\n",
        "        continue\n",
        "    print(num)\n",
        "else:\n",
        "    print(\"in the else-block\")\n",
        "print(\"Outside of for loop\")"
      ],
      "execution_count": 1,
      "outputs": [
        {
          "output_type": "stream",
          "name": "stdout",
          "text": [
            "1\n",
            "2\n",
            "3\n",
            "5\n",
            "in the else-block\n",
            "Outside of for loop\n"
          ]
        }
      ]
    },
    {
      "cell_type": "markdown",
      "metadata": {
        "id": "RinedMWEbHvo"
      },
      "source": [
        "# Python Program to check given number is Prime number or not (using break)\n"
      ]
    },
    {
      "cell_type": "code",
      "metadata": {
        "id": "YMyA2u4JbHvp",
        "outputId": "392146c8-bc1e-4776-a508-50aaf9a31e29",
        "colab": {
          "base_uri": "https://localhost:8080/"
        }
      },
      "source": [
        "num = int(input(\"Enter a number: \"))        #convert string to int\n",
        "\n",
        "\n",
        "isDivisible = False;\n",
        "\n",
        "i=2;\n",
        "while i < num:\n",
        "    if num % i == 0:\n",
        "        isDivisible = True;\n",
        "        print (\"{} is divisible by {}\".format(num,i) )\n",
        "        break; # this line is the only addition.\n",
        "    i += 1;\n",
        "    \n",
        "if isDivisible:\n",
        "    print(\"{} is NOT a Prime number\".format(num))\n",
        "else:\n",
        "    print(\"{} is a Prime number\".format(num))"
      ],
      "execution_count": 3,
      "outputs": [
        {
          "output_type": "stream",
          "name": "stdout",
          "text": [
            "Enter a number: 53\n",
            "53 is a Prime number\n"
          ]
        }
      ]
    },
    {
      "cell_type": "markdown",
      "metadata": {
        "id": "QO76VTitbHvt"
      },
      "source": [
        "# Python Continue Statement"
      ]
    },
    {
      "cell_type": "markdown",
      "metadata": {
        "id": "YiAeAbeDbHvt"
      },
      "source": [
        "syntax:\n",
        "    \n",
        "    continue"
      ]
    },
    {
      "cell_type": "markdown",
      "metadata": {
        "id": "fOQWieXrbHvv"
      },
      "source": [
        "# Flow Chart"
      ]
    },
    {
      "cell_type": "markdown",
      "metadata": {
        "id": "4efWz_0wbHvw"
      },
      "source": [
        "![title](continue.jpg)"
      ]
    },
    {
      "cell_type": "markdown",
      "metadata": {
        "id": "h3UBPJSMbHvw"
      },
      "source": [
        "![title](continue_works.jpg)"
      ]
    },
    {
      "cell_type": "markdown",
      "metadata": {
        "id": "Bdk9BNsebHvy"
      },
      "source": [
        "# Example"
      ]
    },
    {
      "cell_type": "code",
      "metadata": {
        "id": "wuPT1JLvbHvz",
        "outputId": "b1624914-e092-48e9-d79b-7d71589afcfc",
        "colab": {
          "base_uri": "https://localhost:8080/"
        }
      },
      "source": [
        "#print odd numbers present in a list\n",
        "numbers = [1, 2, 3, 4, 5]\n",
        "\n",
        "for num in numbers:\n",
        "    if num % 2 == 0:\n",
        "        continue\n",
        "    print(num)\n",
        "else:\n",
        "    print(\"else-block\")"
      ],
      "execution_count": 2,
      "outputs": [
        {
          "output_type": "stream",
          "name": "stdout",
          "text": [
            "1\n",
            "3\n",
            "5\n",
            "else-block\n"
          ]
        }
      ]
    },
    {
      "cell_type": "code",
      "metadata": {
        "id": "29TGPUjnbHv3"
      },
      "source": [
        ""
      ],
      "execution_count": null,
      "outputs": []
    }
  ]
}