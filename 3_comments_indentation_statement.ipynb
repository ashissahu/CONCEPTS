{
  "cells": [
    {
      "cell_type": "markdown",
      "metadata": {
        "id": "view-in-github",
        "colab_type": "text"
      },
      "source": [
        "<a href=\"https://colab.research.google.com/github/ashissahu/CONCEPTS/blob/master/3_comments_indentation_statement.ipynb\" target=\"_parent\"><img src=\"https://colab.research.google.com/assets/colab-badge.svg\" alt=\"Open In Colab\"/></a>"
      ]
    },
    {
      "cell_type": "markdown",
      "metadata": {
        "id": "WFcnaVqRXxyV"
      },
      "source": [
        "# Python Comments"
      ]
    },
    {
      "cell_type": "markdown",
      "metadata": {
        "id": "06v_xqaEXxyd"
      },
      "source": [
        "Comments are lines that exist in computer programs that are ignored by compilers and interpreters. \n",
        "\n",
        "Including comments in programs makes code more readable for humans as it provides some information or explanation about what each part of a program is doing.\n",
        "\n",
        "In general, it is a good idea to write comments while you are writing or updating a program as it is easy to forget your thought process later on, and comments written later may be less useful in the long term. "
      ]
    },
    {
      "cell_type": "markdown",
      "metadata": {
        "id": "S-9sxHf5Xxyg"
      },
      "source": [
        "In Python, we use the hash (#) symbol to start writing a comment."
      ]
    },
    {
      "cell_type": "code",
      "execution_count": 1,
      "metadata": {
        "colab": {
          "base_uri": "https://localhost:8080/"
        },
        "id": "GEm3IJg_Xxyi",
        "outputId": "f5d5e61c-ed31-4cab-f191-701b5dbe34c4"
      },
      "outputs": [
        {
          "output_type": "stream",
          "name": "stdout",
          "text": [
            "Hello, world\n"
          ]
        }
      ],
      "source": [
        "#Print Hello, world to console\n",
        "print(\"Hello, world\")"
      ]
    },
    {
      "cell_type": "markdown",
      "metadata": {
        "id": "UB91B0HjXxyo"
      },
      "source": [
        "# Multi Line Comments"
      ]
    },
    {
      "cell_type": "markdown",
      "metadata": {
        "id": "5URZG61yXxyp"
      },
      "source": [
        "If we have comments that extend multiple lines, one way of doing it is to use hash (#) in the beginning of each line."
      ]
    },
    {
      "cell_type": "code",
      "execution_count": 2,
      "metadata": {
        "collapsed": true,
        "id": "fj8etpBvXxyq"
      },
      "outputs": [],
      "source": [
        "#This is a long comment\n",
        "#and it extends \n",
        "#Multiple lines"
      ]
    },
    {
      "cell_type": "markdown",
      "metadata": {
        "id": "Kbi_7dj1Xxys"
      },
      "source": [
        "Another way of doing this is to use triple quotes, either ''' or \"\"\"."
      ]
    },
    {
      "cell_type": "code",
      "execution_count": 3,
      "metadata": {
        "colab": {
          "base_uri": "https://localhost:8080/",
          "height": 35
        },
        "id": "EEeIynKsXxyu",
        "outputId": "5a080fb1-7775-4461-ce74-4a5a1aa5868d"
      },
      "outputs": [
        {
          "output_type": "execute_result",
          "data": {
            "text/plain": [
              "'This is also a\\nperfect example of\\nmulti-line comments'"
            ],
            "application/vnd.google.colaboratory.intrinsic+json": {
              "type": "string"
            }
          },
          "metadata": {},
          "execution_count": 3
        }
      ],
      "source": [
        "\"\"\"This is also a\n",
        "perfect example of\n",
        "multi-line comments\"\"\""
      ]
    },
    {
      "cell_type": "markdown",
      "metadata": {
        "id": "QJZ0k3R8Xxyx"
      },
      "source": [
        "# DocString in python"
      ]
    },
    {
      "cell_type": "markdown",
      "metadata": {
        "id": "lKGq7h3YXxyz"
      },
      "source": [
        "Docstring is short for documentation string.\n",
        "\n",
        "It is a string that occurs as the first statement in a module, function, class, or method definition."
      ]
    },
    {
      "cell_type": "code",
      "execution_count": 5,
      "metadata": {
        "colab": {
          "base_uri": "https://localhost:8080/"
        },
        "id": "aXTKiWl3Xxy0",
        "outputId": "0b08fb07-c912-470b-e5d6-4be20fc01ccd"
      },
      "outputs": [
        {
          "output_type": "stream",
          "name": "stdout",
          "text": [
            "20\n"
          ]
        }
      ],
      "source": [
        "def double(num):\n",
        "    \"\"\"\n",
        "    function to double the number\n",
        "    \"\"\"\n",
        "    return 2 * num\n",
        "\n",
        "print(double(10))"
      ]
    },
    {
      "cell_type": "code",
      "execution_count": 6,
      "metadata": {
        "colab": {
          "base_uri": "https://localhost:8080/"
        },
        "id": "kAUZJCEhXxy2",
        "outputId": "1a0674e7-4f32-43af-bcf8-ea18b86f5840"
      },
      "outputs": [
        {
          "output_type": "stream",
          "name": "stdout",
          "text": [
            "\n",
            "    function to double the number\n",
            "    \n"
          ]
        }
      ],
      "source": [
        "print(double.__doc__) #Docstring is available to us as the attribute __doc__ of the function"
      ]
    },
    {
      "cell_type": "markdown",
      "metadata": {
        "id": "prRj-VPEXxy3"
      },
      "source": [
        "# Python Indentation"
      ]
    },
    {
      "cell_type": "markdown",
      "metadata": {
        "id": "7eZfkEgKXxy8"
      },
      "source": [
        "1. Most of the programming languages like C, C++, Java use braces { } to define a block of code. Python uses indentation.\n",
        "\n",
        "2. A code block (body of a function, loop etc.) starts with indentation and ends with the first unindented line. The amount of indentation is up to you, but it must be consistent throughout that block.\n",
        "\n",
        "3. Generally four whitespaces are used for indentation and is preferred over tabs."
      ]
    },
    {
      "cell_type": "code",
      "execution_count": 7,
      "metadata": {
        "colab": {
          "base_uri": "https://localhost:8080/"
        },
        "id": "PbKtlojhXxy9",
        "outputId": "5ef9febd-0680-4a53-d194-43a2b8692c60"
      },
      "outputs": [
        {
          "output_type": "stream",
          "name": "stdout",
          "text": [
            "0\n",
            "1\n",
            "2\n",
            "3\n",
            "4\n",
            "5\n",
            "6\n",
            "7\n",
            "8\n",
            "9\n"
          ]
        }
      ],
      "source": [
        "for i in range(10):\n",
        "    print(i)"
      ]
    },
    {
      "cell_type": "markdown",
      "metadata": {
        "id": "3DpPnXQtXxy-"
      },
      "source": [
        "Indentation can be ignored in line continuation. But it's a good idea to always indent. It makes the code more readable."
      ]
    },
    {
      "cell_type": "code",
      "execution_count": 8,
      "metadata": {
        "colab": {
          "base_uri": "https://localhost:8080/"
        },
        "id": "3wOeeFT-XxzA",
        "outputId": "06169b7c-6e53-42f5-ae46-e8468cd5ef09"
      },
      "outputs": [
        {
          "output_type": "stream",
          "name": "stdout",
          "text": [
            "Machine Learning\n"
          ]
        }
      ],
      "source": [
        "if True:\n",
        "    print(\"Machine Learning\")\n",
        "    c = \"AAIC\""
      ]
    },
    {
      "cell_type": "code",
      "execution_count": 9,
      "metadata": {
        "colab": {
          "base_uri": "https://localhost:8080/"
        },
        "id": "y9mB8iiOXxzB",
        "outputId": "a3b0dfa2-faf5-4aea-92cb-71be985301ae"
      },
      "outputs": [
        {
          "output_type": "stream",
          "name": "stdout",
          "text": [
            "Machine Learning\n"
          ]
        }
      ],
      "source": [
        "if True: print(\"Machine Learning\"); c = \"AAIC\""
      ]
    },
    {
      "cell_type": "markdown",
      "metadata": {
        "id": "pBIY36aBXxzC"
      },
      "source": [
        "# Python Statement"
      ]
    },
    {
      "cell_type": "markdown",
      "metadata": {
        "id": "UQT_42kdXxzD"
      },
      "source": [
        "Instructions that a Python interpreter can execute are called statements."
      ]
    },
    {
      "cell_type": "markdown",
      "metadata": {
        "id": "qIY6tR_bXxzE"
      },
      "source": [
        "Examples:"
      ]
    },
    {
      "cell_type": "code",
      "execution_count": 10,
      "metadata": {
        "collapsed": true,
        "id": "0egJSen2XxzF"
      },
      "outputs": [],
      "source": [
        " a = 1  #single statement"
      ]
    },
    {
      "cell_type": "markdown",
      "metadata": {
        "id": "658f3CdiXxzG"
      },
      "source": [
        "# Multi-Line Statement"
      ]
    },
    {
      "cell_type": "markdown",
      "metadata": {
        "id": "VXwOob8yXxzH"
      },
      "source": [
        "In Python, end of a statement is marked by a newline character. But we can make a statement extend over multiple lines with the line continuation character (\\)."
      ]
    },
    {
      "cell_type": "code",
      "execution_count": 11,
      "metadata": {
        "collapsed": true,
        "id": "pHJ9RLeRXxzH"
      },
      "outputs": [],
      "source": [
        "a = 1 + 2 + 3 + \\\n",
        "    4 + 5 + 6 + \\\n",
        "    7 + 8"
      ]
    },
    {
      "cell_type": "code",
      "execution_count": 12,
      "metadata": {
        "colab": {
          "base_uri": "https://localhost:8080/"
        },
        "id": "EQCLRbKXXxzI",
        "outputId": "f464fd35-56aa-4c99-e815-29bf0a26af4d"
      },
      "outputs": [
        {
          "output_type": "stream",
          "name": "stdout",
          "text": [
            "36\n"
          ]
        }
      ],
      "source": [
        "print(a)"
      ]
    },
    {
      "cell_type": "code",
      "execution_count": 13,
      "metadata": {
        "colab": {
          "base_uri": "https://localhost:8080/"
        },
        "id": "dt4q4gU6XxzJ",
        "outputId": "40924618-55f5-425d-947c-0d70398105c6"
      },
      "outputs": [
        {
          "output_type": "stream",
          "name": "stdout",
          "text": [
            "36\n"
          ]
        }
      ],
      "source": [
        "#another way is\n",
        "a = (1 + 2 + 3 +\n",
        "    4 + 5 + 6 + \n",
        "    7 + 8)\n",
        "print(a)"
      ]
    },
    {
      "cell_type": "code",
      "execution_count": 14,
      "metadata": {
        "collapsed": true,
        "id": "go3Znp5iXxzK"
      },
      "outputs": [],
      "source": [
        "a = 10; b = 20; c = 30   #put multiple statements in a single line using ;"
      ]
    }
  ],
  "metadata": {
    "kernelspec": {
      "display_name": "Python 2",
      "language": "python",
      "name": "python2"
    },
    "language_info": {
      "codemirror_mode": {
        "name": "ipython",
        "version": 2
      },
      "file_extension": ".py",
      "mimetype": "text/x-python",
      "name": "python",
      "nbconvert_exporter": "python",
      "pygments_lexer": "ipython2",
      "version": "2.7.10"
    },
    "colab": {
      "name": "3_comments_indentation_statement.ipynb",
      "provenance": [],
      "collapsed_sections": [],
      "include_colab_link": true
    }
  },
  "nbformat": 4,
  "nbformat_minor": 0
}