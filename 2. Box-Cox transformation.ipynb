{
 "cells": [
  {
   "cell_type": "markdown",
   "metadata": {},
   "source": [
    "# Box-Cox transformation"
   ]
  },
  {
   "cell_type": "markdown",
   "metadata": {},
   "source": [
    "Box-Cox transformation is a way to transform non-normal dependent variables into a normal shape"
   ]
  },
  {
   "cell_type": "code",
   "execution_count": 5,
   "metadata": {},
   "outputs": [],
   "source": [
    "import numpy as np\n",
    "from scipy import stats\n",
    "from sklearn.model_selection import train_test_split\n",
    "\n",
    "#plotting modules\n",
    "import seaborn as sns\n",
    "import matplotlib.pyplot as plt"
   ]
  },
  {
   "cell_type": "code",
   "execution_count": 6,
   "metadata": {},
   "outputs": [],
   "source": [
    "#generate non normal data(non-Gaussian data)\n",
    "original_data=np.random.exponential(size=1000)"
   ]
  },
  {
   "cell_type": "code",
   "execution_count": 12,
   "metadata": {},
   "outputs": [],
   "source": [
    "# split into testing & training data\n",
    "train,test=train_test_split(original_data,shuffle=False)"
   ]
  },
  {
   "cell_type": "code",
   "execution_count": 11,
   "metadata": {},
   "outputs": [
    {
     "data": {
      "text/plain": [
       "array([2.91335245e+00, 8.37840743e-01, 4.04944451e-01, 3.81097644e-01,\n",
       "       8.01572659e-01, 5.11692509e-01, 6.03829068e-01, 9.02689486e-02,\n",
       "       4.43706358e-01, 1.05891034e+00, 1.53522737e-02, 8.93077247e-01,\n",
       "       1.97868645e+00, 2.21889799e+00, 5.97419276e-01, 9.24796650e-01,\n",
       "       5.98983345e-01, 3.07775428e+00, 1.81780514e+00, 9.95989380e-02,\n",
       "       3.11697789e+00, 3.82647097e+00, 2.25997331e-01, 2.33582651e+00,\n",
       "       4.71897363e-01, 5.90416450e-01, 8.34242872e-02, 9.31553626e-01,\n",
       "       3.66836904e-02, 2.67779500e-02, 7.64627745e-01, 6.29823345e-01,\n",
       "       3.59491761e-01, 2.59541099e+00, 1.30987847e-01, 1.92383179e-01,\n",
       "       1.01941031e+00, 6.78753372e-01, 9.83951701e-01, 3.93636072e-02,\n",
       "       1.02840595e+00, 1.00662598e+00, 2.13560253e+00, 4.49780906e-01,\n",
       "       3.72390691e+00, 1.41942845e-01, 8.02319080e-01, 1.48755119e+00,\n",
       "       1.98909774e+00, 7.86307761e-01, 3.35721278e-02, 3.16118928e-01,\n",
       "       1.56036797e+00, 4.92017660e-01, 1.06567080e+00, 1.33758681e-01,\n",
       "       1.84752167e+00, 2.94599149e-01, 4.01426908e-01, 1.32945078e-01,\n",
       "       1.52682402e+00, 6.67833528e-01, 1.65725716e-01, 2.64467794e-01,\n",
       "       2.24526570e-01, 5.72297974e-01, 3.12576338e+00, 1.28928439e+00,\n",
       "       1.03801867e+00, 2.44944251e+00, 1.71742617e+00, 2.76434130e+00,\n",
       "       8.45811583e-01, 1.08159928e+00, 3.85484289e-01, 7.81761455e-01,\n",
       "       1.02858659e-01, 4.03540931e-01, 5.81615143e-02, 5.21405156e-01,\n",
       "       3.41672574e-01, 4.12416570e+00, 3.99215094e-01, 3.53175363e-01,\n",
       "       9.61180658e-01, 5.88619231e-02, 1.87351032e+00, 7.70891297e-01,\n",
       "       6.92064369e-01, 9.07225254e-01, 3.70248564e-02, 4.15863064e-01,\n",
       "       4.83821209e-01, 8.89556370e-01, 1.77221270e-01, 2.59373123e-01,\n",
       "       2.59860799e-01, 3.19631993e-01, 4.63579604e-01, 1.76988786e+00,\n",
       "       1.60104492e-01, 8.71632589e-01, 1.35743199e-01, 7.70798893e-01,\n",
       "       5.43030090e-01, 2.04432669e-01, 1.66619112e+00, 2.13442090e+00,\n",
       "       1.04275290e-01, 3.90658770e+00, 4.25175973e-01, 2.51781676e-01,\n",
       "       2.55749969e-01, 3.25792357e-02, 5.72186200e-01, 2.54394043e-02,\n",
       "       4.72642174e-02, 1.19050419e-01, 2.22229366e-01, 2.92035104e-01,\n",
       "       6.47898363e-01, 7.50450084e-01, 3.91318557e-01, 5.04583110e-01,\n",
       "       1.47765682e-02, 4.47357548e-01, 1.40477672e+00, 4.57495165e+00,\n",
       "       7.27037787e-03, 4.81147759e-01, 8.53705713e-02, 1.94791634e+00,\n",
       "       6.32038233e-01, 4.27510869e-01, 2.45506134e+00, 2.08977071e+00,\n",
       "       5.92304308e-01, 2.79583693e-01, 2.78975378e-03, 6.32399870e-01,\n",
       "       8.36678919e-01, 7.14645727e-02, 7.19438180e-01, 5.69956426e-01,\n",
       "       1.23677424e+00, 5.62964958e-01, 2.47365293e-01, 1.72967952e+00,\n",
       "       9.46027909e-01, 6.76954196e-01, 3.89979249e-01, 1.24280167e-02,\n",
       "       1.41138138e-02, 2.30266251e+00, 9.64674445e-01, 3.68039402e-01,\n",
       "       1.01749207e-01, 2.77746218e+00, 1.61520523e-01, 1.37228933e+00,\n",
       "       1.07955350e+00, 2.83996956e-01, 4.76017716e-01, 2.48285871e-01,\n",
       "       1.87590125e-01, 1.63593781e-01, 1.64945417e-01, 9.77616953e-01,\n",
       "       5.99568277e-02, 1.93907988e-01, 2.94914314e-01, 3.10911734e-01,\n",
       "       1.71831703e+00, 4.38142183e-01, 4.83761783e+00, 1.70812935e-01,\n",
       "       1.00849141e+00, 6.60631213e-01, 1.17320626e+00, 4.23655483e-01,\n",
       "       5.89062512e-01, 3.10327409e-01, 1.75936226e+00, 1.00930874e+00,\n",
       "       8.38868639e-01, 3.00433912e+00, 3.17342031e-02, 3.50585545e-02,\n",
       "       6.85639538e-01, 5.36910950e-01, 2.04409626e+00, 3.98889463e-02,\n",
       "       2.54586885e-01, 1.34902398e-01, 1.30449775e+00, 4.47981523e-02,\n",
       "       1.23769827e+00, 1.59915922e+00, 1.22364545e+00, 1.09075770e-01,\n",
       "       1.75082901e+00, 7.63785324e-01, 1.40761501e+00, 2.45779954e+00,\n",
       "       9.71896426e-02, 8.63474605e-02, 9.13975871e-01, 7.09821384e-01,\n",
       "       2.79001939e+00, 3.04504255e-01, 9.82096610e-01, 3.89764296e-01,\n",
       "       6.64445170e-01, 7.96329878e-01, 8.31675836e-01, 7.79575036e-01,\n",
       "       1.81152242e-01, 2.11202823e+00, 1.11564477e+00, 3.10892395e+00,\n",
       "       5.52042114e-01, 6.96721401e-02, 6.73340537e-01, 1.15348932e+00,\n",
       "       6.13714435e-01, 1.67335626e+00, 4.36648600e-01, 2.69027292e-01,\n",
       "       4.35287840e-01, 2.66427862e-01, 2.81010132e-01, 4.57264408e-01,\n",
       "       5.11712133e-01, 1.68916238e+00, 9.67931684e-02, 2.42287453e+00,\n",
       "       9.48368141e-01, 5.35780498e-01, 8.14638288e-01, 1.85800653e-01,\n",
       "       6.75925355e-01, 7.06057271e-02, 1.98459971e-01, 1.71575453e+00,\n",
       "       1.75370833e-01, 1.16268874e+00, 1.03820733e-01, 1.66780693e+00,\n",
       "       3.21381222e-01, 7.69312456e-02, 5.47404789e-01, 1.33501985e+00,\n",
       "       1.31007058e+00, 1.47309692e+00, 4.97539986e-01, 5.70998140e-01,\n",
       "       4.76728497e-01, 6.31034337e-01, 7.57740526e-01, 7.43985492e-01,\n",
       "       1.85127256e+00, 4.65885481e-02, 1.40231511e+00, 8.52414355e-01,\n",
       "       9.30794386e-02, 3.64503699e+00, 3.04563354e+00, 5.60899742e-01,\n",
       "       1.92265610e+00, 1.51554861e+00, 1.45174316e+00, 8.38245352e-01,\n",
       "       5.69710289e-01, 2.06586970e-01, 4.26011694e-01, 1.86267100e-01,\n",
       "       1.94565989e-01, 2.43585044e+00, 7.26927370e-01, 8.93065806e-01,\n",
       "       2.64294842e+00, 1.44348500e+00, 9.07250248e-01, 7.93167339e-01,\n",
       "       3.01210539e-01, 1.40705029e+00, 1.08166011e+00, 1.14679431e+00,\n",
       "       1.46225689e-01, 1.60879917e+00, 4.24933386e-01, 1.96770735e+00,\n",
       "       1.72125454e-01, 1.81794511e+00, 1.29237301e-01, 3.68683488e-01,\n",
       "       3.50963468e-01, 1.86245277e-01, 9.88130908e-01, 5.30948167e-01,\n",
       "       1.05211217e+00, 2.34689314e+00, 1.51389936e-01, 9.55598257e-01,\n",
       "       1.83977997e+00, 6.70960496e-01, 4.14590311e-01, 3.45534838e-01,\n",
       "       2.29941694e+00, 3.05563216e-01, 1.26872132e+00, 1.12534567e+00,\n",
       "       4.20305502e+00, 4.44808044e-01, 5.29124060e-01, 9.78951845e-01,\n",
       "       8.27293930e-01, 1.68885621e-01, 1.22395849e+00, 8.07625411e-01,\n",
       "       3.70038734e-01, 3.29059056e-01, 2.50365615e+00, 3.32297071e+00,\n",
       "       6.50408735e-02, 2.73488690e+00, 1.63987000e-02, 8.60843796e-01,\n",
       "       6.77161641e-01, 4.50873340e-01, 4.92873223e-01, 3.08725159e-01,\n",
       "       1.44818920e-01, 2.65455806e+00, 7.59880965e-01, 4.94274743e-01,\n",
       "       9.18202462e-01, 6.98383472e-01, 5.88051067e-01, 1.84188973e-01,\n",
       "       5.84012874e-01, 8.21332334e-02, 7.51276325e-01, 7.38680795e-01,\n",
       "       7.29113150e-02, 5.08835030e-01, 4.48352826e-01, 2.60224763e-01,\n",
       "       3.89369789e-02, 4.46877632e-02, 4.70742689e-02, 2.58618083e-02,\n",
       "       1.38286716e-02, 8.24723376e-02, 6.93319490e-01, 4.00874383e-01,\n",
       "       1.15908148e+00, 2.59604850e+00, 2.57641277e-02, 9.00861530e-01,\n",
       "       4.46844731e-01, 6.17743887e-01, 8.50127102e-01, 1.44362943e-01,\n",
       "       9.69660914e-01, 1.21143651e+00, 1.92164418e-01, 1.24205980e+00,\n",
       "       9.63490217e-01, 1.80332068e+00, 6.56721686e-02, 1.29124426e+00,\n",
       "       1.03921140e+00, 1.52870776e-01, 3.21458137e-01, 2.72686844e-01,\n",
       "       2.21233452e-01, 7.46845070e-01, 1.20799434e+00, 1.45870824e+00,\n",
       "       8.84468193e-01, 2.31305661e+00, 2.57264461e+00, 9.36295921e-01,\n",
       "       2.41010727e+00, 1.39655291e+00, 6.59651344e-01, 4.20476527e-01,\n",
       "       1.24015270e+00, 9.09859211e-01, 1.26563805e+00, 7.66626213e-01,\n",
       "       1.87703047e+00, 3.04339389e-03, 5.17075462e-01, 1.49367547e+00,\n",
       "       1.03503829e+00, 2.04312872e-01, 1.28614304e+00, 2.03723289e+00,\n",
       "       1.11323918e+00, 1.07615942e-01, 1.00140825e-01, 1.90522016e+00,\n",
       "       2.07561437e-01, 1.92339104e+00, 3.03239175e+00, 1.97591013e+00,\n",
       "       9.18023984e-02, 1.26412977e+00, 2.55497589e-01, 1.28149986e+00,\n",
       "       2.86725958e-01, 3.17426784e-01, 3.80973242e-01, 1.33835160e+00,\n",
       "       1.40494732e-02, 2.02215018e-01, 1.51872678e+00, 2.66650627e+00,\n",
       "       1.68512600e-01, 1.35269706e-01, 9.93221815e-01, 7.08065613e-01,\n",
       "       1.05171709e+00, 2.07523181e+00, 7.78721220e-01, 5.37878986e-01,\n",
       "       1.92037435e+00, 2.87853269e+00, 3.60453785e-01, 1.97868907e+00,\n",
       "       2.03251142e+00, 1.29831413e-02, 1.43240123e+00, 6.53496588e-01,\n",
       "       6.50688397e-01, 2.23969822e-01, 2.66196840e-01, 1.37544918e+00,\n",
       "       3.28744794e-01, 4.49230168e-02, 1.69599672e-02, 3.37953452e-01,\n",
       "       5.15507063e-01, 6.05362406e-01, 2.57504399e-01, 9.40054144e-01,\n",
       "       1.90609502e+00, 3.68603384e-01, 5.10953406e+00, 1.48400606e+00,\n",
       "       8.11579354e-01, 4.22372945e-01, 8.97077214e-01, 5.24217301e-01,\n",
       "       5.01984882e-01, 6.02319355e-01, 1.38102789e+00, 5.13226377e-01,\n",
       "       1.85529340e-02, 3.93373752e-01, 6.71660535e-01, 3.63022749e-01,\n",
       "       1.05744736e+00, 1.35527599e+00, 1.32885494e+00, 5.43788279e-02,\n",
       "       1.78937278e+00, 1.16937090e+00, 6.57938285e-01, 3.74288255e+00,\n",
       "       8.28416110e-01, 1.52924863e+00, 1.12658140e+00, 9.11518507e-01,\n",
       "       2.63041181e-01, 2.84122310e-01, 1.60407446e+00, 5.68780902e-01,\n",
       "       7.25655528e-01, 8.52693906e-01, 4.18545072e-01, 2.08236057e+00,\n",
       "       5.62423462e-01, 1.48387152e+00, 1.37527673e+00, 5.21998224e-01,\n",
       "       6.41816246e-01, 2.66486238e+00, 4.77113373e-02, 8.76125948e-02,\n",
       "       2.08466515e+00, 4.07992389e-01, 1.69503059e-01, 8.50148408e-02,\n",
       "       7.11667946e-01, 4.20692723e+00, 1.21513136e+00, 6.55843875e-01,\n",
       "       9.38348214e-01, 4.01567056e-01, 3.81849330e-01, 1.96715023e+00,\n",
       "       2.14764632e+00, 9.33126902e-01, 2.90761463e+00, 7.32057158e-01,\n",
       "       1.01373249e+00, 1.26197694e+00, 2.19614500e-01, 4.93720021e-02,\n",
       "       1.08150427e+00, 3.90037479e-01, 3.62822274e-01, 1.12328614e+00,\n",
       "       2.38542640e-01, 1.49758483e+00, 4.76015293e-01, 6.03439852e-01,\n",
       "       1.50445257e+00, 3.85743390e-01, 3.88457157e+00, 2.79461770e-02,\n",
       "       2.13738313e+00, 4.63611589e-02, 1.06845830e+00, 8.84057106e-01,\n",
       "       1.41076922e+00, 3.20941259e-01, 4.76921723e-01, 5.76703006e-01,\n",
       "       4.05908836e-01, 5.22787161e-01, 4.51436615e-01, 3.97391116e-02,\n",
       "       1.41205486e+00, 1.56834063e-01, 2.12983933e+00, 3.44132156e-01,\n",
       "       1.21961437e+00, 1.83612273e+00, 7.35412082e-02, 1.35023394e+00,\n",
       "       4.79605879e-01, 1.56516206e-01, 1.70775971e+00, 5.05833474e-02,\n",
       "       8.81477192e-01, 5.01930896e-01, 1.33111720e+00, 2.44272815e+00,\n",
       "       9.50090239e-01, 7.32241220e-01, 3.66766669e+00, 1.80008427e+00,\n",
       "       2.40276914e-01, 9.54041476e-01, 2.10075416e-01, 2.25932338e-01,\n",
       "       9.56900018e-01, 2.53523356e+00, 1.42832626e-02, 1.13089757e+00,\n",
       "       9.74379352e-01, 1.12080316e+00, 2.38102513e+00, 1.88356046e-02,\n",
       "       5.36047613e-01, 4.23851073e+00, 1.28331026e+00, 4.09662583e-01,\n",
       "       1.30524222e+00, 1.06018518e+00, 7.16460115e-01, 5.31669880e+00,\n",
       "       4.04855585e-01, 6.07738811e-01, 9.28063386e-01, 1.96981368e+00,\n",
       "       2.12610954e+00, 5.94415937e-01, 3.04853134e-02, 3.11488074e-01,\n",
       "       2.16824377e-02, 1.05291527e+00, 9.84351967e-02, 3.14084149e+00,\n",
       "       2.69774111e+00, 2.88485870e-01, 5.80988004e+00, 5.45930813e-01,\n",
       "       1.03640855e-01, 2.65416684e-01, 5.55613820e+00, 1.07676346e+00,\n",
       "       4.26484693e-01, 1.99260941e+00, 4.24757903e-01, 8.83505050e-01,\n",
       "       2.55985878e-01, 2.76279455e-01, 7.06135826e-01, 2.18957269e+00,\n",
       "       8.70180765e-01, 1.68466817e+00, 2.81720405e-01, 5.73212595e-01,\n",
       "       7.95303203e-02, 2.41657444e+00, 3.24943773e-01, 2.12051969e-01,\n",
       "       1.97135882e+00, 4.75362476e-02, 1.13965852e-01, 4.68393843e-02,\n",
       "       2.59367084e-01, 2.23971074e-01, 1.08721821e+00, 1.89672647e+00,\n",
       "       2.74231459e-01, 2.30878776e-01, 4.26439940e-02, 6.95190558e-01,\n",
       "       2.01196805e+00, 3.46748257e-01, 1.04679926e+00, 8.06028926e-01,\n",
       "       1.46855038e-01, 3.10322353e+00, 1.61694331e+00, 7.48840466e-01,\n",
       "       2.51481536e+00, 1.71937478e-01, 1.76926116e-01, 1.09301000e+00,\n",
       "       1.03940103e+00, 3.75154234e-01, 3.76756315e-01, 4.20438877e-01,\n",
       "       8.39608777e-01, 7.74515699e-01, 2.80295371e-01, 2.15573962e-01,\n",
       "       7.26749491e-01, 9.24754908e-01, 1.19325788e+00, 2.45274873e+00,\n",
       "       2.16726989e+00, 9.20957274e-01, 2.73321380e+00, 1.25284461e+00,\n",
       "       3.37521621e-01, 1.60732727e+00, 9.72376223e-02, 1.11378792e+00,\n",
       "       1.69020669e+00, 1.40322911e-01, 5.71227766e-01, 1.79248269e+00,\n",
       "       1.61641293e-01, 3.62951968e-01, 1.02747498e-01, 1.93889930e+00,\n",
       "       7.44592089e-01, 2.17705642e-01, 5.19285503e-01, 4.77958024e-01,\n",
       "       9.03488512e-02, 4.57088134e-02, 8.00384013e-01, 4.49844016e-02,\n",
       "       4.22366857e-01, 1.07855605e+00, 1.01912929e+00, 1.04781358e-01,\n",
       "       4.27053855e-01, 7.26650022e-01, 1.91965301e-01, 2.47765254e-01,\n",
       "       9.30716702e-01, 1.59181310e+00, 8.08699544e-01, 1.77655129e+00,\n",
       "       8.79960220e-01, 7.03369887e-01, 1.87248953e+00, 9.16081017e-02,\n",
       "       5.22213191e-01, 8.97019414e-01, 3.68110663e-01, 1.20509371e+00,\n",
       "       2.71608140e-01, 4.78677223e-01, 3.74583742e-01, 2.31560412e+00,\n",
       "       9.45837513e-01, 1.99445990e+00, 1.49061843e+00, 2.04931809e+00,\n",
       "       1.90486824e+00, 3.45389323e-01, 2.53405218e-01, 2.09258754e+00,\n",
       "       2.59091186e+00, 4.59928994e-02, 1.13298467e-01, 1.96442858e-01,\n",
       "       1.22007812e+00, 5.53732541e-01, 5.70523284e-01, 1.69716239e+00,\n",
       "       9.32578797e-01, 4.62228936e-01, 1.02357697e+00, 3.94845759e-03,\n",
       "       6.90250292e-01, 2.38451577e-02, 1.44057510e+00, 7.80151762e-01,\n",
       "       4.60562234e-01, 2.91703567e+00, 1.75734309e+00, 7.25223152e-01,\n",
       "       9.79167195e+00, 6.50191235e-01, 7.39795731e-01, 3.56606497e+00,\n",
       "       2.64566785e-01, 2.27942751e+00, 8.31143890e-01, 1.35724263e-01,\n",
       "       2.07471517e-02, 4.39095513e-01, 5.50706220e-01, 4.39729437e-01,\n",
       "       8.49612856e-01, 9.99436635e-01, 1.19832698e+00, 1.28417539e+00,\n",
       "       4.00738920e+00, 1.63779765e+00, 3.63842458e-01, 3.43820248e-01,\n",
       "       7.85509272e-01, 4.00482580e-01, 7.48698458e-01, 2.97823429e-02,\n",
       "       2.53503931e-01, 4.53619950e-01])"
      ]
     },
     "execution_count": 11,
     "metadata": {},
     "output_type": "execute_result"
    }
   ],
   "source": [
    "train"
   ]
  },
  {
   "cell_type": "code",
   "execution_count": 14,
   "metadata": {},
   "outputs": [
    {
     "name": "stderr",
     "output_type": "stream",
     "text": [
      "C:\\Users\\Ad\\Anaconda3\\envs\\newenvt\\lib\\site-packages\\matplotlib\\axes\\_axes.py:6462: UserWarning: The 'normed' kwarg is deprecated, and has been replaced by the 'density' kwarg.\n",
      "  warnings.warn(\"The 'normed' kwarg is deprecated, and has been \"\n",
      "C:\\Users\\Ad\\Anaconda3\\envs\\newenvt\\lib\\site-packages\\matplotlib\\axes\\_axes.py:6462: UserWarning: The 'normed' kwarg is deprecated, and has been replaced by the 'density' kwarg.\n",
      "  warnings.warn(\"The 'normed' kwarg is deprecated, and has been \"\n"
     ]
    },
    {
     "data": {
      "text/plain": [
       "<matplotlib.axes._subplots.AxesSubplot at 0x69e5980f60>"
      ]
     },
     "execution_count": 14,
     "metadata": {},
     "output_type": "execute_result"
    },
    {
     "data": {
      "image/png": "[encoded data removed]",
      "text/plain": [
       "<Figure size 432x288 with 2 Axes>"
      ]
     },
     "metadata": {},
     "output_type": "display_data"
    }
   ],
   "source": [
    "#verifying the non-normal distribution\n",
    "\n",
    "fig, ax=plt.subplots(1,2)\n",
    "sns.distplot(train, ax=ax[0])\n",
    "sns.distplot(test, ax=ax[1])"
   ]
  },
  {
   "cell_type": "code",
   "execution_count": 15,
   "metadata": {},
   "outputs": [
    {
     "name": "stderr",
     "output_type": "stream",
     "text": [
      "C:\\Users\\Ad\\Anaconda3\\envs\\newenvt\\lib\\site-packages\\matplotlib\\axes\\_axes.py:6462: UserWarning: The 'normed' kwarg is deprecated, and has been replaced by the 'density' kwarg.\n",
      "  warnings.warn(\"The 'normed' kwarg is deprecated, and has been \"\n",
      "C:\\Users\\Ad\\Anaconda3\\envs\\newenvt\\lib\\site-packages\\matplotlib\\axes\\_axes.py:6462: UserWarning: The 'normed' kwarg is deprecated, and has been replaced by the 'density' kwarg.\n",
      "  warnings.warn(\"The 'normed' kwarg is deprecated, and has been \"\n"
     ]
    },
    {
     "data": {
      "text/plain": [
       "<matplotlib.axes._subplots.AxesSubplot at 0x69e5aae320>"
      ]
     },
     "execution_count": 15,
     "metadata": {},
     "output_type": "execute_result"
    },
    {
     "data": {
      "image/png": "[encoded data removed]",
      "text/plain": [
       "<Figure size 432x288 with 2 Axes>"
      ]
     },
     "metadata": {},
     "output_type": "display_data"
    }
   ],
   "source": [
    "# transform training data & save lambda value\n",
    "train_data,fitted_lambda = stats.boxcox(train)\n",
    "\n",
    "# use lambda value to transform test data\n",
    "test_data = stats.boxcox(test, fitted_lambda)\n",
    "\n",
    "# (optional) plot train & test\n",
    "fig, ax=plt.subplots(1,2)\n",
    "sns.distplot(train_data, ax=ax[0])\n",
    "sns.distplot(test_data, ax=ax[1])"
   ]
  },
  {
   "cell_type": "code",
   "execution_count": null,
   "metadata": {},
   "outputs": [],
   "source": []
  }
 ],
 "metadata": {
  "kernelspec": {
   "display_name": "Python 3",
   "language": "python",
   "name": "python3"
  },
  "language_info": {
   "codemirror_mode": {
    "name": "ipython",
    "version": 3
   },
   "file_extension": ".py",
   "mimetype": "text/x-python",
   "name": "python",
   "nbconvert_exporter": "python",
   "pygments_lexer": "ipython3",
   "version": "3.6.5"
  }
 },
 "nbformat": 4,
 "nbformat_minor": 2
}
