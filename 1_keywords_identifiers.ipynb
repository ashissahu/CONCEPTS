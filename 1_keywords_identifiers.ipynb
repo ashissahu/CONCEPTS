{
  "cells": [
    {
      "cell_type": "markdown",
      "metadata": {
        "id": "view-in-github",
        "colab_type": "text"
      },
      "source": [
        "<a href=\"https://colab.research.google.com/github/ashissahu/CONCEPTS/blob/master/1_keywords_identifiers.ipynb\" target=\"_parent\"><img src=\"https://colab.research.google.com/assets/colab-badge.svg\" alt=\"Open In Colab\"/></a>"
      ]
    },
    {
      "cell_type": "markdown",
      "metadata": {
        "id": "B--5-pOJPH-e"
      },
      "source": [
        "# Python Keywords"
      ]
    },
    {
      "cell_type": "markdown",
      "metadata": {
        "id": "xlu7R5iZPH-p"
      },
      "source": [
        "Keywords are the reserved words in python\n",
        "\n",
        "We can't use a keyword as variable name, function name or any other identifier\n",
        "\n",
        "Keywords are case sentive"
      ]
    },
    {
      "cell_type": "code",
      "execution_count": 4,
      "metadata": {
        "colab": {
          "base_uri": "https://localhost:8080/"
        },
        "id": "GyfvG8lWPH-r",
        "outputId": "b07c58fd-433e-4217-d643-464da4c258d7"
      },
      "outputs": [
        {
          "output_type": "stream",
          "name": "stdout",
          "text": [
            "['False', 'None', 'True', 'and', 'as', 'assert', 'async', 'await', 'break', 'class', 'continue', 'def', 'del', 'elif', 'else', 'except', 'finally', 'for', 'from', 'global', 'if', 'import', 'in', 'is', 'lambda', 'nonlocal', 'not', 'or', 'pass', 'raise', 'return', 'try', 'while', 'with', 'yield']\n",
            "Total number of keywords  35\n"
          ]
        }
      ],
      "source": [
        "#Get all keywords in python 3.6\n",
        "\n",
        "import keyword\n",
        "\n",
        "print(keyword.kwlist)\n",
        "\n",
        "print(\"Total number of keywords \", len(keyword.kwlist))"
      ]
    },
    {
      "cell_type": "markdown",
      "metadata": {
        "collapsed": true,
        "id": "ErHmyyF-PH-w"
      },
      "source": [
        "# Identifiers"
      ]
    },
    {
      "cell_type": "markdown",
      "metadata": {
        "id": "G4PKYFjHPH-x"
      },
      "source": [
        "Identifier is the name given to entities like class, functions, variables etc. in Python. It helps differentiating one entity from another."
      ]
    },
    {
      "cell_type": "markdown",
      "metadata": {
        "id": "dyBGdoGcPH-y"
      },
      "source": [
        "Rules for Writing Identifiers:\n",
        "\n",
        "1. Identifiers can be a combination of letters in lowercase (a to z) or uppercase (A to Z) or digits (0 to 9) or an underscore (_).\n",
        "\n",
        "2. An identifier cannot start with a digit. 1variable is invalid, but variable1 is perfectly fine.\n",
        "\n",
        "3. Keywords cannot be used as identifiers."
      ]
    },
    {
      "cell_type": "code",
      "execution_count": 5,
      "metadata": {
        "colab": {
          "base_uri": "https://localhost:8080/",
          "height": 130
        },
        "id": "CpVvY2ZMPH-z",
        "outputId": "dda38425-f4c0-45df-8c5f-03e99701ae7d"
      },
      "outputs": [
        {
          "output_type": "error",
          "ename": "SyntaxError",
          "evalue": "ignored",
          "traceback": [
            "\u001b[0;36m  File \u001b[0;32m\"<ipython-input-5-3d177345d6e4>\"\u001b[0;36m, line \u001b[0;32m1\u001b[0m\n\u001b[0;31m    global = 1\u001b[0m\n\u001b[0m           ^\u001b[0m\n\u001b[0;31mSyntaxError\u001b[0m\u001b[0;31m:\u001b[0m invalid syntax\n"
          ]
        }
      ],
      "source": [
        "global = 1"
      ]
    },
    {
      "cell_type": "markdown",
      "metadata": {
        "id": "-iXaEtf3PH-1"
      },
      "source": [
        " We cannot use special symbols like !, @, #, $, % etc. in our identifier."
      ]
    },
    {
      "cell_type": "code",
      "execution_count": null,
      "metadata": {
        "id": "ZL6Oy8PUPH-2"
      },
      "outputs": [],
      "source": [
        "a@ = 10             #can't use special symbols as an identifier"
      ]
    },
    {
      "cell_type": "code",
      "source": [
        ""
      ],
      "metadata": {
        "id": "pQthahz2WhaD"
      },
      "execution_count": null,
      "outputs": []
    }
  ],
  "metadata": {
    "kernelspec": {
      "display_name": "Python 3",
      "language": "python",
      "name": "python3"
    },
    "language_info": {
      "codemirror_mode": {
        "name": "ipython",
        "version": 2
      },
      "file_extension": ".py",
      "mimetype": "text/x-python",
      "name": "python",
      "nbconvert_exporter": "python",
      "pygments_lexer": "ipython2",
      "version": "2.7.10"
    },
    "colab": {
      "name": "1_keywords_identifiers.ipynb",
      "provenance": [],
      "collapsed_sections": [],
      "include_colab_link": true
    }
  },
  "nbformat": 4,
  "nbformat_minor": 0
}