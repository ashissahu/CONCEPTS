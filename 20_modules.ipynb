{
  "nbformat": 4,
  "nbformat_minor": 0,
  "metadata": {
    "kernelspec": {
      "display_name": "Python 3",
      "language": "python",
      "name": "python3"
    },
    "language_info": {
      "codemirror_mode": {
        "name": "ipython",
        "version": 3
      },
      "file_extension": ".py",
      "mimetype": "text/x-python",
      "name": "python",
      "nbconvert_exporter": "python",
      "pygments_lexer": "ipython3",
      "version": "3.6.1"
    },
    "colab": {
      "name": "20_modules.ipynb",
      "provenance": [],
      "collapsed_sections": [],
      "include_colab_link": true
    }
  },
  "cells": [
    {
      "cell_type": "markdown",
      "metadata": {
        "id": "view-in-github",
        "colab_type": "text"
      },
      "source": [
        "<a href=\"https://colab.research.google.com/github/ashissahu/CONCEPTS/blob/master/20_modules.ipynb\" target=\"_parent\"><img src=\"https://colab.research.google.com/assets/colab-badge.svg\" alt=\"Open In Colab\"/></a>"
      ]
    },
    {
      "cell_type": "markdown",
      "metadata": {
        "id": "NDrXKN-NHeYR"
      },
      "source": [
        "# Modules"
      ]
    },
    {
      "cell_type": "markdown",
      "metadata": {
        "id": "i0AVpPtvHeYU"
      },
      "source": [
        "Modules refer to a file containing Python statements and definitions.\n",
        "\n",
        "A file containing Python code, for e.g.: abc.py, is called a module and its module name would be \"abc\"."
      ]
    },
    {
      "cell_type": "markdown",
      "metadata": {
        "id": "Cncmoy9XHeYW"
      },
      "source": [
        "We use modules to break down large programs into small manageable and organized files. Furthermore, modules provide reusability of code.\n",
        "\n",
        "We can define our most used functions in a module and import it, instead of copying their definitions into different programs."
      ]
    },
    {
      "cell_type": "markdown",
      "metadata": {
        "id": "OMq5zEJZHeYY"
      },
      "source": [
        "# How to import a module?"
      ]
    },
    {
      "cell_type": "markdown",
      "metadata": {
        "id": "-BZo1veLHeYa"
      },
      "source": [
        "We use the import keyword to do this."
      ]
    },
    {
      "cell_type": "markdown",
      "metadata": {
        "id": "8QYfvfCiHeYh"
      },
      "source": [
        "Using the module name we can access the function using dot (.) operation."
      ]
    },
    {
      "cell_type": "markdown",
      "metadata": {
        "id": "UzrMkOH9HeYs"
      },
      "source": [
        "Python has a lot of standard modules available.\n",
        "\n",
        "https://docs.python.org/3/py-modindex.html "
      ]
    },
    {
      "cell_type": "markdown",
      "metadata": {
        "id": "k-zR_tU7HeYs"
      },
      "source": [
        "# Examples:"
      ]
    },
    {
      "cell_type": "code",
      "metadata": {
        "id": "dRUqBrXjHeYt",
        "outputId": "a4fe794e-45e9-43a9-c3a0-cae915db5c44",
        "colab": {
          "base_uri": "https://localhost:8080/"
        }
      },
      "source": [
        "import math\n",
        "print(math.pi)\n"
      ],
      "execution_count": 2,
      "outputs": [
        {
          "output_type": "stream",
          "name": "stdout",
          "text": [
            "3.141592653589793\n"
          ]
        }
      ]
    },
    {
      "cell_type": "code",
      "metadata": {
        "id": "wr-Jyr-cHeY1",
        "outputId": "f8f2b81d-a5b6-44ed-c0fc-7ad211f51a81",
        "colab": {
          "base_uri": "https://localhost:8080/"
        }
      },
      "source": [
        "import datetime\n",
        "datetime.datetime.now()\n"
      ],
      "execution_count": 3,
      "outputs": [
        {
          "output_type": "execute_result",
          "data": {
            "text/plain": [
              "datetime.datetime(2022, 7, 21, 19, 53, 5, 577517)"
            ]
          },
          "metadata": {},
          "execution_count": 3
        }
      ]
    },
    {
      "cell_type": "markdown",
      "metadata": {
        "id": "34mCV3oJHeY4"
      },
      "source": [
        "# import with renaming"
      ]
    },
    {
      "cell_type": "code",
      "metadata": {
        "id": "BljTPvmRHeY5",
        "outputId": "1af7485f-9ffa-47f9-b314-b1a458317860",
        "colab": {
          "base_uri": "https://localhost:8080/"
        }
      },
      "source": [
        "import math as m\n",
        "print(m.pi)\n"
      ],
      "execution_count": 4,
      "outputs": [
        {
          "output_type": "stream",
          "name": "stdout",
          "text": [
            "3.141592653589793\n"
          ]
        }
      ]
    },
    {
      "cell_type": "markdown",
      "metadata": {
        "id": "Yck3dGWaHeY-"
      },
      "source": [
        "# from...import statement"
      ]
    },
    {
      "cell_type": "markdown",
      "metadata": {
        "id": "PgxZkgecHeY_"
      },
      "source": [
        "We can import specific names form a module without importing the module as a whole."
      ]
    },
    {
      "cell_type": "code",
      "metadata": {
        "id": "SAgwJxMuHeZA",
        "outputId": "8206e85e-7186-4d11-87e8-3226970b7025",
        "colab": {
          "base_uri": "https://localhost:8080/"
        }
      },
      "source": [
        "from datetime import datetime \n",
        "datetime.now()\n"
      ],
      "execution_count": 5,
      "outputs": [
        {
          "output_type": "execute_result",
          "data": {
            "text/plain": [
              "datetime.datetime(2022, 7, 21, 19, 53, 17, 55229)"
            ]
          },
          "metadata": {},
          "execution_count": 5
        }
      ]
    },
    {
      "cell_type": "markdown",
      "metadata": {
        "id": "3FKKbMKCHeZL"
      },
      "source": [
        "# import all names"
      ]
    },
    {
      "cell_type": "code",
      "metadata": {
        "id": "OvEe2dxZHeZM",
        "outputId": "0931a684-f93a-42cc-f73a-a53fa26ea78e",
        "colab": {
          "base_uri": "https://localhost:8080/"
        }
      },
      "source": [
        "from math import *\n",
        "print(\"Value of PI is \" + str(pi))\n"
      ],
      "execution_count": 6,
      "outputs": [
        {
          "output_type": "stream",
          "name": "stdout",
          "text": [
            "Value of PI is 3.141592653589793\n"
          ]
        }
      ]
    },
    {
      "cell_type": "markdown",
      "metadata": {
        "id": "dPVCLPyQHeZR"
      },
      "source": [
        "# dir() built in function"
      ]
    },
    {
      "cell_type": "markdown",
      "metadata": {
        "id": "EPRn9wTiHeZT"
      },
      "source": [
        "We can use the dir() function to find out names that are defined inside a module."
      ]
    },
    {
      "cell_type": "code",
      "source": [
        "!pip install example"
      ],
      "metadata": {
        "colab": {
          "base_uri": "https://localhost:8080/"
        },
        "id": "fEf_-jdiUrRL",
        "outputId": "b27b1d8d-839a-4900-f593-4add7cdaa82e"
      },
      "execution_count": 8,
      "outputs": [
        {
          "output_type": "stream",
          "name": "stdout",
          "text": [
            "Looking in indexes: https://pypi.org/simple, https://us-python.pkg.dev/colab-wheels/public/simple/\n",
            "Collecting example\n",
            "  Downloading example-0.1.0.tar.gz (860 bytes)\n",
            "Requirement already satisfied: six in /usr/local/lib/python3.7/dist-packages (from example) (1.15.0)\n",
            "Building wheels for collected packages: example\n",
            "  Building wheel for example (setup.py) ... \u001b[?25l\u001b[?25hdone\n",
            "  Created wheel for example: filename=example-0.1.0-py3-none-any.whl size=1237 sha256=e015b0c0e2528fc938a80ed4a5d0f3662a128f0604e9201dc8eb7f903053e703\n",
            "  Stored in directory: /root/.cache/pip/wheels/8d/ea/09/d4642cabc2ea6d60ab48ecabea4f62d604108571d1a059d6d9\n",
            "Successfully built example\n",
            "Installing collected packages: example\n",
            "Successfully installed example-0.1.0\n"
          ]
        }
      ]
    },
    {
      "cell_type": "code",
      "metadata": {
        "id": "LkdtsKI-HeYb"
      },
      "source": [
        "import example #imported example module\n"
      ],
      "execution_count": 10,
      "outputs": []
    },
    {
      "cell_type": "code",
      "metadata": {
        "id": "T9PeK-KxHeZX",
        "outputId": "3a1fd1b6-0bcb-4b28-fad9-a50d4c4608d1",
        "colab": {
          "base_uri": "https://localhost:8080/"
        }
      },
      "source": [
        "dir(example)\n"
      ],
      "execution_count": 11,
      "outputs": [
        {
          "output_type": "execute_result",
          "data": {
            "text/plain": [
              "['__builtins__',\n",
              " '__cached__',\n",
              " '__doc__',\n",
              " '__file__',\n",
              " '__loader__',\n",
              " '__name__',\n",
              " '__package__',\n",
              " '__path__',\n",
              " '__spec__']"
            ]
          },
          "metadata": {},
          "execution_count": 11
        }
      ]
    },
    {
      "cell_type": "code",
      "metadata": {
        "id": "4aS7F29GHeYk",
        "outputId": "49b82906-0ac0-47d2-dcd5-1b54ebf8260c",
        "colab": {
          "base_uri": "https://localhost:8080/",
          "height": 166
        }
      },
      "source": [
        "example.add(10, 20)\n"
      ],
      "execution_count": 13,
      "outputs": [
        {
          "output_type": "error",
          "ename": "AttributeError",
          "evalue": "ignored",
          "traceback": [
            "\u001b[0;31m---------------------------------------------------------------------------\u001b[0m",
            "\u001b[0;31mAttributeError\u001b[0m                            Traceback (most recent call last)",
            "\u001b[0;32m<ipython-input-13-865fb5942dcf>\u001b[0m in \u001b[0;36m<module>\u001b[0;34m()\u001b[0m\n\u001b[0;32m----> 1\u001b[0;31m \u001b[0mexample\u001b[0m\u001b[0;34m.\u001b[0m\u001b[0madd\u001b[0m\u001b[0;34m(\u001b[0m\u001b[0;36m10\u001b[0m\u001b[0;34m,\u001b[0m \u001b[0;36m20\u001b[0m\u001b[0;34m)\u001b[0m\u001b[0;34m\u001b[0m\u001b[0;34m\u001b[0m\u001b[0m\n\u001b[0m",
            "\u001b[0;31mAttributeError\u001b[0m: module 'example' has no attribute 'add'"
          ]
        }
      ]
    },
    {
      "cell_type": "code",
      "metadata": {
        "id": "1vvA0aSwHeZb",
        "outputId": "65fe877f-d5de-4f7c-df82-9f6212c667fe",
        "colab": {
          "base_uri": "https://localhost:8080/",
          "height": 166
        }
      },
      "source": [
        "print(example.add.__doc__)\n"
      ],
      "execution_count": 12,
      "outputs": [
        {
          "output_type": "error",
          "ename": "AttributeError",
          "evalue": "ignored",
          "traceback": [
            "\u001b[0;31m---------------------------------------------------------------------------\u001b[0m",
            "\u001b[0;31mAttributeError\u001b[0m                            Traceback (most recent call last)",
            "\u001b[0;32m<ipython-input-12-f89cd3d9901a>\u001b[0m in \u001b[0;36m<module>\u001b[0;34m()\u001b[0m\n\u001b[0;32m----> 1\u001b[0;31m \u001b[0mprint\u001b[0m\u001b[0;34m(\u001b[0m\u001b[0mexample\u001b[0m\u001b[0;34m.\u001b[0m\u001b[0madd\u001b[0m\u001b[0;34m.\u001b[0m\u001b[0m__doc__\u001b[0m\u001b[0;34m)\u001b[0m\u001b[0;34m\u001b[0m\u001b[0;34m\u001b[0m\u001b[0m\n\u001b[0m",
            "\u001b[0;31mAttributeError\u001b[0m: module 'example' has no attribute 'add'"
          ]
        }
      ]
    }
  ]
}