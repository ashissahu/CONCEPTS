{
  "nbformat": 4,
  "nbformat_minor": 0,
  "metadata": {
    "colab": {
      "name": "18_recursive_functions.ipynb",
      "provenance": [],
      "collapsed_sections": [],
      "include_colab_link": true
    },
    "kernelspec": {
      "display_name": "Python 3",
      "language": "python",
      "name": "python3"
    }
  },
  "cells": [
    {
      "cell_type": "markdown",
      "metadata": {
        "id": "view-in-github",
        "colab_type": "text"
      },
      "source": [
        "<a href=\"https://colab.research.google.com/github/ashissahu/CONCEPTS/blob/master/18_recursive_functions.ipynb\" target=\"_parent\"><img src=\"https://colab.research.google.com/assets/colab-badge.svg\" alt=\"Open In Colab\"/></a>"
      ]
    },
    {
      "metadata": {
        "id": "2un6HEflRbVI"
      },
      "cell_type": "markdown",
      "source": [
        "# Recurison"
      ]
    },
    {
      "metadata": {
        "id": "pouXX8gWRbVJ"
      },
      "cell_type": "markdown",
      "source": [
        "We know that in Python, a function can call other functions. It is even possible for the function to call itself. These type of construct are termed as recursive functions."
      ]
    },
    {
      "metadata": {
        "id": "ZVWIU4QvRbVK"
      },
      "cell_type": "markdown",
      "source": [
        "# Example:"
      ]
    },
    {
      "metadata": {
        "id": "mnaRd5dzRbVL",
        "outputId": "8ab3d15e-1dd3-478b-929a-b95f1cfc68c7",
        "colab": {
          "base_uri": "https://localhost:8080/"
        }
      },
      "cell_type": "code",
      "source": [
        "#python program to print factorial of a number using recurion\n",
        "\n",
        "def factorial(num):\n",
        "    \"\"\"\n",
        "    This is a recursive function to find the factorial of a given number\n",
        "    \"\"\"\n",
        "    return 1 if num == 1 else (num * factorial(num-1))\n",
        "\n",
        "num = 5\n",
        "print (\"Factorial of {0} is {1}\".format(num, factorial(num)))\n"
      ],
      "execution_count": 1,
      "outputs": [
        {
          "output_type": "stream",
          "name": "stdout",
          "text": [
            "Factorial of 5 is 120\n"
          ]
        }
      ]
    },
    {
      "metadata": {
        "id": "s2ewPFszRbVR"
      },
      "cell_type": "markdown",
      "source": [
        "# Advantages"
      ]
    },
    {
      "metadata": {
        "id": "Gl6k7MLLRbVR"
      },
      "cell_type": "markdown",
      "source": [
        "1. Recursive functions make the code look clean and elegant.\n",
        "\n",
        "2. A complex task can be broken down into simpler sub-problems using recursion.\n",
        "\n",
        "3. Sequence generation is easier with recursion than using some nested iteration.\n"
      ]
    },
    {
      "metadata": {
        "id": "tZh9p_qrRbVS"
      },
      "cell_type": "markdown",
      "source": [
        "# Disadvantages"
      ]
    },
    {
      "metadata": {
        "id": "lzJRnnfdRbVT"
      },
      "cell_type": "markdown",
      "source": [
        "1. Sometimes the logic behind recursion is hard to follow through.\n",
        "\n",
        "2. Recursive calls are expensive (inefficient) as they take up a lot of memory and time.\n",
        "\n",
        "3. Recursive functions are hard to debug.\n"
      ]
    },
    {
      "metadata": {
        "id": "wSEYBp_BRbVU"
      },
      "cell_type": "markdown",
      "source": [
        "# Python program to display the fibonacci sequence up to n-th term using recursive function"
      ]
    },
    {
      "metadata": {
        "id": "598cYHQ3RbVW",
        "outputId": "45971d18-c29d-4f28-ed61-a42298ea7395",
        "colab": {
          "base_uri": "https://localhost:8080/"
        }
      },
      "cell_type": "code",
      "source": [
        "def fibonacci(num):\n",
        "    \"\"\"\n",
        "    Recursive function to print fibonacci sequence\n",
        "    \"\"\"\n",
        "    return num if num <= 1 else fibonacci(num-1) + fibonacci(num-2)\n",
        "\n",
        "nterms = 10\n",
        "print(\"Fibonacci sequence\")\n",
        "for num in range(nterms):\n",
        "    print(fibonacci(num))"
      ],
      "execution_count": 2,
      "outputs": [
        {
          "output_type": "stream",
          "name": "stdout",
          "text": [
            "Fibonacci sequence\n",
            "0\n",
            "1\n",
            "1\n",
            "2\n",
            "3\n",
            "5\n",
            "8\n",
            "13\n",
            "21\n",
            "34\n"
          ]
        }
      ]
    },
    {
      "metadata": {
        "id": "lzigbouGRbVa"
      },
      "cell_type": "code",
      "source": [
        ""
      ],
      "execution_count": null,
      "outputs": []
    }
  ]
}