{
  "nbformat": 4,
  "nbformat_minor": 0,
  "metadata": {
    "colab": {
      "name": "22_debugging.ipynb",
      "provenance": [],
      "collapsed_sections": [],
      "include_colab_link": true
    },
    "kernelspec": {
      "display_name": "Python 3",
      "language": "python",
      "name": "python3"
    }
  },
  "cells": [
    {
      "cell_type": "markdown",
      "metadata": {
        "id": "view-in-github",
        "colab_type": "text"
      },
      "source": [
        "<a href=\"https://colab.research.google.com/github/ashissahu/CONCEPTS/blob/master/22_debugging.ipynb\" target=\"_parent\"><img src=\"https://colab.research.google.com/assets/colab-badge.svg\" alt=\"Open In Colab\"/></a>"
      ]
    },
    {
      "metadata": {
        "collapsed": true,
        "id": "3d0kT43Hs9Hb"
      },
      "cell_type": "markdown",
      "source": [
        "# Debugging"
      ]
    },
    {
      "metadata": {
        "id": "dNQnVsqAs9Hd"
      },
      "cell_type": "markdown",
      "source": [
        "**pdb** implements an interactive debugging environment for Python programs. It includes features to let you pause your program, look at the values of variables, and watch program execution step-by-step, so you can understand what your program actually does and find bugs in the logic."
      ]
    },
    {
      "metadata": {
        "id": "AqsZUm-9s9Hd"
      },
      "cell_type": "markdown",
      "source": [
        "# Starting the Debugger"
      ]
    },
    {
      "metadata": {
        "id": "hwglejl-s9He"
      },
      "cell_type": "markdown",
      "source": [
        "**From the Command Line**"
      ]
    },
    {
      "metadata": {
        "id": "Gboz0XI7s9Hf",
        "outputId": "2444e17b-15a8-4942-85d8-f7a48a9f37f6",
        "colab": {
          "base_uri": "https://localhost:8080/"
        }
      },
      "cell_type": "code",
      "source": [
        "def seq(n):\n",
        "    for i in range(n):\n",
        "        print(i)\n",
        "    return\n",
        "\n",
        "seq(5)"
      ],
      "execution_count": 1,
      "outputs": [
        {
          "output_type": "stream",
          "name": "stdout",
          "text": [
            "0\n",
            "1\n",
            "2\n",
            "3\n",
            "4\n"
          ]
        }
      ]
    },
    {
      "metadata": {
        "id": "xU9U-jBns9Hm"
      },
      "cell_type": "markdown",
      "source": [
        "**From Within Your Program**"
      ]
    },
    {
      "metadata": {
        "id": "5fk77hhTs9Hn",
        "outputId": "21de680b-47bc-41f9-de0a-88a9d3d02d06",
        "colab": {
          "base_uri": "https://localhost:8080/"
        }
      },
      "cell_type": "code",
      "source": [
        "]import pdb\n",
        "\n",
        "#interactive debugging\n",
        "def seq(n):\n",
        "    for i in range(n):\n",
        "        pdb.set_trace() # breakpoint\n",
        "        print(i)\n",
        "    return\n",
        "\n",
        "seq(5)\n",
        "\n",
        "\n",
        "# c : continue\n",
        "# q: quit\n",
        "# h: help\n",
        "# list\n",
        "# p: print\n",
        "# p locals()\n",
        "# p globals()\n",
        "\n"
      ],
      "execution_count": 2,
      "outputs": [
        {
          "output_type": "stream",
          "name": "stderr",
          "text": [
            "\n",
            "PYDEV DEBUGGER WARNING:\n",
            "sys.settrace() should not be used when the debugger is being used.\n",
            "This may cause the debugger to stop working correctly.\n",
            "If this is needed, please check: \n",
            "http://pydev.blogspot.com/2007/06/why-cant-pydev-debugger-work-with.html\n",
            "to see how to restore the debug tracing back correctly.\n",
            "Call Location:\n",
            "  File \"/usr/lib/python3.7/bdb.py\", line 332, in set_trace\n",
            "    sys.settrace(self.trace_dispatch)\n",
            "\n"
          ]
        },
        {
          "name": "stdout",
          "output_type": "stream",
          "text": [
            "> <ipython-input-2-f5932230ad26>(7)seq()\n",
            "-> print(i)\n",
            "(Pdb) c\n"
          ]
        },
        {
          "output_type": "stream",
          "name": "stderr",
          "text": [
            "\n",
            "PYDEV DEBUGGER WARNING:\n",
            "sys.settrace() should not be used when the debugger is being used.\n",
            "This may cause the debugger to stop working correctly.\n",
            "If this is needed, please check: \n",
            "http://pydev.blogspot.com/2007/06/why-cant-pydev-debugger-work-with.html\n",
            "to see how to restore the debug tracing back correctly.\n",
            "Call Location:\n",
            "  File \"/usr/lib/python3.7/bdb.py\", line 343, in set_continue\n",
            "    sys.settrace(None)\n",
            "\n"
          ]
        },
        {
          "output_type": "stream",
          "name": "stdout",
          "text": [
            "0\n",
            "> <ipython-input-2-f5932230ad26>(6)seq()\n",
            "-> pdb.set_trace() # breakpoint\n",
            "(Pdb) c\n",
            "1\n",
            "> <ipython-input-2-f5932230ad26>(7)seq()\n",
            "-> print(i)\n",
            "(Pdb) c\n",
            "2\n",
            "> <ipython-input-2-f5932230ad26>(6)seq()\n",
            "-> pdb.set_trace() # breakpoint\n",
            "(Pdb) c\n",
            "3\n",
            "> <ipython-input-2-f5932230ad26>(7)seq()\n",
            "-> print(i)\n",
            "(Pdb) c\n",
            "4\n"
          ]
        }
      ]
    },
    {
      "metadata": {
        "id": "0Q1leNPjs9Hr"
      },
      "cell_type": "markdown",
      "source": [
        "# Debugger Commands"
      ]
    },
    {
      "metadata": {
        "id": "DZ0TVZL2s9Hs"
      },
      "cell_type": "markdown",
      "source": [
        "**1. h(elp) [command]**\n"
      ]
    },
    {
      "metadata": {
        "id": "qABjXc5Ls9Hu"
      },
      "cell_type": "markdown",
      "source": [
        "Without argument, print the list of available commands. With a command as argument, print help about that command. help pdb displays the full documentation (the docstring of the pdb module). Since the command argument must be an identifier, help exec must be entered to get help on the ! command."
      ]
    },
    {
      "metadata": {
        "id": "TeMND8Ens9Hu"
      },
      "cell_type": "markdown",
      "source": [
        "**2. w(here)**\n",
        "\n",
        "Print a stack trace, with the most recent frame at the bottom. An arrow indicates the current frame, which determines the context of most commands."
      ]
    },
    {
      "metadata": {
        "id": "CYBndzsMs9Hv"
      },
      "cell_type": "markdown",
      "source": [
        "**3. d(own) [count]**\n",
        "\n",
        "Move the current frame count (default one) levels down in the stack trace (to a newer frame)."
      ]
    },
    {
      "metadata": {
        "id": "iaImF2V0s9Hw"
      },
      "cell_type": "markdown",
      "source": [
        "**4.c(ont(inue))**\n",
        "\n",
        "Continue execution, only stop when a breakpoint is encountered."
      ]
    },
    {
      "metadata": {
        "id": "AnWZRE-Js9Hx"
      },
      "cell_type": "markdown",
      "source": [
        "**5. q(uit)**\n",
        "\n",
        "Quit from the debugger. The program being executed is aborted."
      ]
    },
    {
      "metadata": {
        "id": "wZs41FKTs9Hy"
      },
      "cell_type": "markdown",
      "source": [
        "**Termial/Command prompt based debugging**"
      ]
    },
    {
      "metadata": {
        "id": "2UmazrO5s9Hz"
      },
      "cell_type": "code",
      "source": [
        ""
      ],
      "execution_count": null,
      "outputs": []
    }
  ]
}