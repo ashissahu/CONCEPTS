{
  "cells": [
    {
      "cell_type": "markdown",
      "metadata": {
        "id": "view-in-github",
        "colab_type": "text"
      },
      "source": [
        "<a href=\"https://colab.research.google.com/github/ashissahu/CONCEPTS/blob/master/2_variables_datatypes.ipynb\" target=\"_parent\"><img src=\"https://colab.research.google.com/assets/colab-badge.svg\" alt=\"Open In Colab\"/></a>"
      ]
    },
    {
      "cell_type": "markdown",
      "metadata": {
        "id": "H9vsauShW4Xa"
      },
      "source": [
        "# Variables"
      ]
    },
    {
      "cell_type": "markdown",
      "metadata": {
        "id": "bJ7tB0SrW4Xi"
      },
      "source": [
        "A variable is a location in memory used to store some data (value).\n",
        "\n",
        "They are given unique names to differentiate between different memory locations. The rules for writing a variable name is same as the rules for writing identifiers in Python.\n",
        "\n",
        "We don't need to declare a variable before using it. In Python, we simply assign a value to a variable and it will exist. We don't even have to declare the type of the variable. This is handled internally according to the type of value we assign to the variable."
      ]
    },
    {
      "cell_type": "markdown",
      "metadata": {
        "id": "6nNX6vgmW4Xk"
      },
      "source": [
        "# Variable Assignments"
      ]
    },
    {
      "cell_type": "code",
      "execution_count": 1,
      "metadata": {
        "collapsed": true,
        "id": "ichpVBnpW4Xl"
      },
      "outputs": [],
      "source": [
        "#We use the assignment operator (=) to assign values to a variable\n",
        "\n",
        "a = 10\n",
        "b = 5.5\n",
        "c = \"ML\""
      ]
    },
    {
      "cell_type": "markdown",
      "metadata": {
        "id": "CCRNiilFW4Xo"
      },
      "source": [
        "# Multiple Assignments"
      ]
    },
    {
      "cell_type": "code",
      "execution_count": 2,
      "metadata": {
        "collapsed": true,
        "id": "8cXB4u06W4Xp"
      },
      "outputs": [],
      "source": [
        "a, b, c = 10, 5.5, \"ML\""
      ]
    },
    {
      "cell_type": "code",
      "execution_count": 3,
      "metadata": {
        "collapsed": true,
        "id": "1LQnfmvtW4Xq"
      },
      "outputs": [],
      "source": [
        "a = b = c = \"AI\" #assign the same value to multiple variables at once"
      ]
    },
    {
      "cell_type": "markdown",
      "metadata": {
        "id": "nLvVNoE4W4Xr"
      },
      "source": [
        "# Storage Locations"
      ]
    },
    {
      "cell_type": "code",
      "execution_count": 4,
      "metadata": {
        "colab": {
          "base_uri": "https://localhost:8080/"
        },
        "id": "O3gzLUOeW4Xs",
        "outputId": "9ee1384b-2eb0-4f55-a2d4-29345a7ba2a9"
      },
      "outputs": [
        {
          "output_type": "stream",
          "name": "stdout",
          "text": [
            "11256128\n"
          ]
        }
      ],
      "source": [
        "x = 3\n",
        "\n",
        "print(id(x))               #print address of variable x"
      ]
    },
    {
      "cell_type": "code",
      "execution_count": 5,
      "metadata": {
        "colab": {
          "base_uri": "https://localhost:8080/"
        },
        "id": "9_17YDI3W4Xw",
        "outputId": "09b402d7-4902-412d-ea57-4399121f841e"
      },
      "outputs": [
        {
          "output_type": "stream",
          "name": "stdout",
          "text": [
            "11256128\n"
          ]
        }
      ],
      "source": [
        "y = 3\n",
        "\n",
        "print(id(y))               #print address of variable y"
      ]
    },
    {
      "cell_type": "markdown",
      "metadata": {
        "id": "uEZ1TGGVW4Xx"
      },
      "source": [
        "Observation:\n",
        "\n",
        "x and y points to same memory location\n",
        "    "
      ]
    },
    {
      "cell_type": "code",
      "execution_count": 6,
      "metadata": {
        "colab": {
          "base_uri": "https://localhost:8080/"
        },
        "id": "Sl-VkBb5W4Xy",
        "outputId": "dd20ed1b-94e4-4096-c21c-f7d11ff0ae47"
      },
      "outputs": [
        {
          "output_type": "stream",
          "name": "stdout",
          "text": [
            "11256096\n"
          ]
        }
      ],
      "source": [
        "y = 2\n",
        "print(id(y))               #print address of variable y"
      ]
    },
    {
      "cell_type": "markdown",
      "metadata": {
        "id": "eUzSNBs6W4Xz"
      },
      "source": [
        "# Data Types "
      ]
    },
    {
      "cell_type": "markdown",
      "metadata": {
        "id": "qFIia9GCW4X0"
      },
      "source": [
        "Every value in Python has a datatype. Since everything is an object in Python programming, data types are actually classes and variables are instance (object) of these classes."
      ]
    },
    {
      "cell_type": "markdown",
      "metadata": {
        "id": "FJmzdFMAW4X1"
      },
      "source": [
        "# Numbers"
      ]
    },
    {
      "cell_type": "markdown",
      "metadata": {
        "id": "y_P-vqV6W4X1"
      },
      "source": [
        "Integers, floating point numbers and complex numbers falls under Python numbers category. They are defined as int, float and complex class in Python.\n",
        "\n",
        "We can use the type() function to know which class a variable or a value belongs to and the isinstance() function to check if an object belongs to a particular class."
      ]
    },
    {
      "cell_type": "code",
      "execution_count": 7,
      "metadata": {
        "colab": {
          "base_uri": "https://localhost:8080/"
        },
        "id": "-ALbE7dHW4X2",
        "outputId": "6fc8801e-ea0a-4502-c5a4-4cb6caf90317"
      },
      "outputs": [
        {
          "output_type": "stream",
          "name": "stdout",
          "text": [
            "5  is of type <class 'int'>\n"
          ]
        }
      ],
      "source": [
        "a = 5                               #data type is implicitly set to integer\n",
        "print(a, \" is of type\", type(a))"
      ]
    },
    {
      "cell_type": "code",
      "execution_count": 8,
      "metadata": {
        "colab": {
          "base_uri": "https://localhost:8080/"
        },
        "id": "i03JyI1HW4X3",
        "outputId": "ad2fccc9-a0d0-4ca5-c408-71b339d6d69e"
      },
      "outputs": [
        {
          "output_type": "stream",
          "name": "stdout",
          "text": [
            "2.5  is of type <class 'float'>\n"
          ]
        }
      ],
      "source": [
        "a = 2.5                            #data type is changed to float\n",
        "print(a, \" is of type\", type(a))"
      ]
    },
    {
      "cell_type": "code",
      "execution_count": 9,
      "metadata": {
        "colab": {
          "base_uri": "https://localhost:8080/"
        },
        "id": "-JlJxm04W4X4",
        "outputId": "e850faba-e102-4640-fe89-b55ca0c6c18d"
      },
      "outputs": [
        {
          "output_type": "stream",
          "name": "stdout",
          "text": [
            "(1+2j)  is complex number?\n",
            "True\n"
          ]
        }
      ],
      "source": [
        "a = 1 + 2j                          #data type is changed to complex number\n",
        "print(a, \" is complex number?\") \n",
        "print(isinstance(1+2j, complex))"
      ]
    },
    {
      "cell_type": "markdown",
      "metadata": {
        "id": "6LpNwdy8W4X5"
      },
      "source": [
        "# Boolean"
      ]
    },
    {
      "cell_type": "markdown",
      "metadata": {
        "id": "1QYqVleCW4X5"
      },
      "source": [
        " Boolean represents the truth values False and True"
      ]
    },
    {
      "cell_type": "code",
      "execution_count": 10,
      "metadata": {
        "colab": {
          "base_uri": "https://localhost:8080/"
        },
        "id": "Lvc-LMd_W4X6",
        "outputId": "2dff7e6d-5696-4f22-daba-c32496ccc983"
      },
      "outputs": [
        {
          "output_type": "stream",
          "name": "stdout",
          "text": [
            "<class 'bool'>\n"
          ]
        }
      ],
      "source": [
        "a = True                          #a is a boolean type\n",
        "print(type(a))"
      ]
    },
    {
      "cell_type": "markdown",
      "metadata": {
        "id": "Hag2YFFyW4X6"
      },
      "source": [
        "# Python Strings"
      ]
    },
    {
      "cell_type": "markdown",
      "metadata": {
        "id": "INVUNPZYW4X7"
      },
      "source": [
        "String is sequence of Unicode characters. \n",
        "\n",
        "We can use single quotes or double quotes to represent strings. \n",
        "\n",
        "Multi-line strings can be denoted using triple quotes, ''' or \"\"\"."
      ]
    },
    {
      "cell_type": "markdown",
      "metadata": {
        "id": "rfzEu0vaW4X8"
      },
      "source": [
        "A string in Python consists of a series or sequence of characters - letters, numbers, and special characters. \n",
        "\n",
        "Strings can be indexed - often synonymously called subscripted as well. \n",
        "\n",
        "Similar to C, the first character of a string has the index 0."
      ]
    },
    {
      "cell_type": "code",
      "execution_count": 11,
      "metadata": {
        "colab": {
          "base_uri": "https://localhost:8080/"
        },
        "id": "XjHvw_TsW4X8",
        "outputId": "fa0abbb9-d86e-4c1a-c7e3-a275ed41c4a1"
      },
      "outputs": [
        {
          "output_type": "stream",
          "name": "stdout",
          "text": [
            "This is Online AI course\n"
          ]
        }
      ],
      "source": [
        "s = \"This is Online AI course\"\n",
        "print(s)"
      ]
    },
    {
      "cell_type": "code",
      "execution_count": 12,
      "metadata": {
        "colab": {
          "base_uri": "https://localhost:8080/"
        },
        "id": "WZZMrSYqW4X9",
        "outputId": "7a47d2e5-82ef-4dad-eeb6-6918f29cf188"
      },
      "outputs": [
        {
          "output_type": "stream",
          "name": "stdout",
          "text": [
            "T\n"
          ]
        }
      ],
      "source": [
        "print(s[0])\n",
        "#last char s[len(s)-1] or s[-1]"
      ]
    },
    {
      "cell_type": "code",
      "execution_count": 13,
      "metadata": {
        "colab": {
          "base_uri": "https://localhost:8080/",
          "height": 35
        },
        "id": "_Z3zYTtKW4X-",
        "outputId": "8ccf74d5-bdf5-4f3f-f086-7fb83d1702a7"
      },
      "outputs": [
        {
          "output_type": "execute_result",
          "data": {
            "text/plain": [
              "'is Online AI course'"
            ],
            "application/vnd.google.colaboratory.intrinsic+json": {
              "type": "string"
            }
          },
          "metadata": {},
          "execution_count": 13
        }
      ],
      "source": [
        "#slicing\n",
        "s[5:]"
      ]
    },
    {
      "cell_type": "markdown",
      "metadata": {
        "id": "n4zygcyIW4YD"
      },
      "source": [
        "# Python List"
      ]
    },
    {
      "cell_type": "markdown",
      "metadata": {
        "id": "9oIaTsagW4YE"
      },
      "source": [
        "List is an ordered sequence of items. It is one of the most used datatype in Python and is very flexible. All the items in a list do not need to be of the same type.\n",
        "\n",
        "Declaring a list is , Items separated by commas are enclosed within brackets [ ]."
      ]
    },
    {
      "cell_type": "code",
      "execution_count": 14,
      "metadata": {
        "colab": {
          "base_uri": "https://localhost:8080/"
        },
        "id": "3DapDVFiW4YF",
        "outputId": "753ef7b3-0a16-4eff-c55a-1bb69c974e52"
      },
      "outputs": [
        {
          "output_type": "stream",
          "name": "stdout",
          "text": [
            "20.5\n"
          ]
        }
      ],
      "source": [
        "a = [10, 20.5, \"Hello\"]\n",
        "print(a[1])               #print 1st index element"
      ]
    },
    {
      "cell_type": "markdown",
      "metadata": {
        "id": "TegM7zxPW4YH"
      },
      "source": [
        "Lists are mutable, meaning, value of elements of a list can be altered."
      ]
    },
    {
      "cell_type": "code",
      "execution_count": 15,
      "metadata": {
        "colab": {
          "base_uri": "https://localhost:8080/"
        },
        "id": "nuN2oli1W4YI",
        "outputId": "152c9347-c360-4df2-fefd-997ae5e899b4"
      },
      "outputs": [
        {
          "output_type": "stream",
          "name": "stdout",
          "text": [
            "[10, 30.7, 'Hello']\n"
          ]
        }
      ],
      "source": [
        "a[1] = 30.7\n",
        "print(a)"
      ]
    },
    {
      "cell_type": "markdown",
      "metadata": {
        "id": "m986ReEWW4YJ"
      },
      "source": [
        "# Python Tuple"
      ]
    },
    {
      "cell_type": "markdown",
      "metadata": {
        "id": "HbChvdW8W4YJ"
      },
      "source": [
        "Tuple is an ordered sequence of items same as list.The only difference is that tuples are immutable. Tuples once created cannot be modified."
      ]
    },
    {
      "cell_type": "code",
      "execution_count": 16,
      "metadata": {
        "collapsed": true,
        "id": "zMQAF4V_W4YL"
      },
      "outputs": [],
      "source": [
        "t = (1, 1.5, \"ML\")"
      ]
    },
    {
      "cell_type": "code",
      "execution_count": 17,
      "metadata": {
        "colab": {
          "base_uri": "https://localhost:8080/"
        },
        "id": "GqijOs5mW4YM",
        "outputId": "600133b9-85e9-4ea5-ce3b-dceffed461d1"
      },
      "outputs": [
        {
          "output_type": "stream",
          "name": "stdout",
          "text": [
            "1.5\n"
          ]
        }
      ],
      "source": [
        "print(t[1]) #extract particular element"
      ]
    },
    {
      "cell_type": "code",
      "execution_count": 18,
      "metadata": {
        "colab": {
          "base_uri": "https://localhost:8080/",
          "height": 165
        },
        "id": "valHwNpTW4YO",
        "outputId": "c11a0b65-a13a-4b7c-dcfd-e71147f57411"
      },
      "outputs": [
        {
          "output_type": "error",
          "ename": "TypeError",
          "evalue": "ignored",
          "traceback": [
            "\u001b[0;31m---------------------------------------------------------------------------\u001b[0m",
            "\u001b[0;31mTypeError\u001b[0m                                 Traceback (most recent call last)",
            "\u001b[0;32m<ipython-input-18-826a3e5c5c91>\u001b[0m in \u001b[0;36m<module>\u001b[0;34m()\u001b[0m\n\u001b[0;32m----> 1\u001b[0;31m \u001b[0mt\u001b[0m\u001b[0;34m[\u001b[0m\u001b[0;36m1\u001b[0m\u001b[0;34m]\u001b[0m \u001b[0;34m=\u001b[0m \u001b[0;36m1.25\u001b[0m\u001b[0;34m\u001b[0m\u001b[0;34m\u001b[0m\u001b[0m\n\u001b[0m",
            "\u001b[0;31mTypeError\u001b[0m: 'tuple' object does not support item assignment"
          ]
        }
      ],
      "source": [
        "t[1] = 1.25"
      ]
    },
    {
      "cell_type": "markdown",
      "metadata": {
        "id": "yQkbGlrOW4YQ"
      },
      "source": [
        "# Python Set"
      ]
    },
    {
      "cell_type": "markdown",
      "metadata": {
        "id": "COf1zR7nW4YQ"
      },
      "source": [
        "Set is an unordered collection of unique items. Set is defined by values separated by comma inside braces { }. Items in a set are not ordered."
      ]
    },
    {
      "cell_type": "code",
      "execution_count": 19,
      "metadata": {
        "colab": {
          "base_uri": "https://localhost:8080/"
        },
        "id": "2HMmo2gjW4YR",
        "outputId": "5f2479b0-99db-422f-8d6d-f2eb1969f792"
      },
      "outputs": [
        {
          "output_type": "stream",
          "name": "stdout",
          "text": [
            "{5, 40, 10, 20, 30}\n"
          ]
        }
      ],
      "source": [
        "a = {10, 30, 20, 40, 5}\n",
        "print(a)"
      ]
    },
    {
      "cell_type": "code",
      "execution_count": 22,
      "metadata": {
        "colab": {
          "base_uri": "https://localhost:8080/"
        },
        "id": "0AF31s6fW4YS",
        "outputId": "e260fff2-ee9f-458f-fc5c-96c548503014"
      },
      "outputs": [
        {
          "output_type": "stream",
          "name": "stdout",
          "text": [
            "<class 'set'>\n"
          ]
        }
      ],
      "source": [
        "print(type(a))             #print type of a"
      ]
    },
    {
      "cell_type": "markdown",
      "metadata": {
        "id": "6dEWw-BiW4YU"
      },
      "source": [
        "We can perform set operations like union, intersection on two sets. Set have unique values."
      ]
    },
    {
      "cell_type": "code",
      "execution_count": 20,
      "metadata": {
        "colab": {
          "base_uri": "https://localhost:8080/"
        },
        "id": "AJcNXx3bW4YV",
        "outputId": "8f16e512-49d7-4c74-a9c4-faf2f2859e60"
      },
      "outputs": [
        {
          "output_type": "stream",
          "name": "stdout",
          "text": [
            "{10, 20, 30}\n"
          ]
        }
      ],
      "source": [
        "s = {10, 20, 20, 30, 30, 30}\n",
        "print(s)                    #automatically set won't consider duplicate elements"
      ]
    },
    {
      "cell_type": "code",
      "execution_count": 21,
      "metadata": {
        "colab": {
          "base_uri": "https://localhost:8080/",
          "height": 183
        },
        "id": "t_Cqws6WW4YX",
        "outputId": "4c4f7541-d1e7-415a-949e-0f72f279a3d9"
      },
      "outputs": [
        {
          "output_type": "error",
          "ename": "TypeError",
          "evalue": "ignored",
          "traceback": [
            "\u001b[0;31m---------------------------------------------------------------------------\u001b[0m",
            "\u001b[0;31mTypeError\u001b[0m                                 Traceback (most recent call last)",
            "\u001b[0;32m<ipython-input-21-3e2f312e6983>\u001b[0m in \u001b[0;36m<module>\u001b[0;34m()\u001b[0m\n\u001b[0;32m----> 1\u001b[0;31m \u001b[0mprint\u001b[0m\u001b[0;34m(\u001b[0m\u001b[0ms\u001b[0m\u001b[0;34m[\u001b[0m\u001b[0;36m1\u001b[0m\u001b[0;34m]\u001b[0m\u001b[0;34m)\u001b[0m \u001b[0;31m#we can't print particular element in set because\u001b[0m\u001b[0;34m\u001b[0m\u001b[0;34m\u001b[0m\u001b[0m\n\u001b[0m\u001b[1;32m      2\u001b[0m             \u001b[0;31m#it's unorder collections of items\u001b[0m\u001b[0;34m\u001b[0m\u001b[0;34m\u001b[0m\u001b[0;34m\u001b[0m\u001b[0m\n",
            "\u001b[0;31mTypeError\u001b[0m: 'set' object is not subscriptable"
          ]
        }
      ],
      "source": [
        "print(s[1]) #we can't print particular element in set because \n",
        "            #it's unorder collections of items"
      ]
    },
    {
      "cell_type": "markdown",
      "metadata": {
        "id": "xqBLoL1mW4YY"
      },
      "source": [
        "# Python Dictionary"
      ]
    },
    {
      "cell_type": "markdown",
      "metadata": {
        "id": "_zu8N_bXW4YZ"
      },
      "source": [
        "Dictionary is an unordered collection of key-value pairs."
      ]
    },
    {
      "cell_type": "markdown",
      "metadata": {
        "id": "t3YRCHKLW4Ya"
      },
      "source": [
        "In Python, dictionaries are defined within braces {} with each item being a pair in the form key:value. Key and value can be of any type."
      ]
    },
    {
      "cell_type": "code",
      "execution_count": 23,
      "metadata": {
        "colab": {
          "base_uri": "https://localhost:8080/",
          "height": 130
        },
        "id": "RMazvr3UW4Ya",
        "outputId": "08497603-8f95-4502-fab5-aa0a3013dfcb"
      },
      "outputs": [
        {
          "output_type": "error",
          "ename": "SyntaxError",
          "evalue": "ignored",
          "traceback": [
            "\u001b[0;36m  File \u001b[0;32m\"<ipython-input-23-97295e1129c1>\"\u001b[0;36m, line \u001b[0;32m2\u001b[0m\n\u001b[0;31m    print d['a']\u001b[0m\n\u001b[0m          ^\u001b[0m\n\u001b[0;31mSyntaxError\u001b[0m\u001b[0;31m:\u001b[0m Missing parentheses in call to 'print'. Did you mean print(d['a'])?\n"
          ]
        }
      ],
      "source": [
        "d = {'a': \"apple\", 'b': \"bat\"}\n",
        "print d['a']"
      ]
    },
    {
      "cell_type": "markdown",
      "metadata": {
        "id": "MDHynhoZW4Yc"
      },
      "source": [
        "# Conversion between Datatypes"
      ]
    },
    {
      "cell_type": "markdown",
      "metadata": {
        "id": "LQ_ZTVegW4Yc"
      },
      "source": [
        "We can convert between different data types by using different type conversion functions like int(), float(), str() etc."
      ]
    },
    {
      "cell_type": "code",
      "execution_count": 24,
      "metadata": {
        "colab": {
          "base_uri": "https://localhost:8080/"
        },
        "id": "tYklJBMgW4Yd",
        "outputId": "1769e94a-988e-46c1-b38a-c917af435c1e"
      },
      "outputs": [
        {
          "output_type": "execute_result",
          "data": {
            "text/plain": [
              "5.0"
            ]
          },
          "metadata": {},
          "execution_count": 24
        }
      ],
      "source": [
        "float(5)     #convert interger to float using float() method"
      ]
    },
    {
      "cell_type": "code",
      "execution_count": 25,
      "metadata": {
        "colab": {
          "base_uri": "https://localhost:8080/"
        },
        "id": "K8zyICCaW4Ye",
        "outputId": "a7c5b785-30ad-4da3-f310-8ed9322e8d0a"
      },
      "outputs": [
        {
          "output_type": "execute_result",
          "data": {
            "text/plain": [
              "100"
            ]
          },
          "metadata": {},
          "execution_count": 25
        }
      ],
      "source": [
        "int(100.5)   #convert float to integer using int() method"
      ]
    },
    {
      "cell_type": "code",
      "execution_count": 26,
      "metadata": {
        "colab": {
          "base_uri": "https://localhost:8080/",
          "height": 35
        },
        "id": "ii1QT62xW4Yf",
        "outputId": "608f8796-9fea-4606-f13e-166dd7b1bb00"
      },
      "outputs": [
        {
          "output_type": "execute_result",
          "data": {
            "text/plain": [
              "'20'"
            ],
            "application/vnd.google.colaboratory.intrinsic+json": {
              "type": "string"
            }
          },
          "metadata": {},
          "execution_count": 26
        }
      ],
      "source": [
        "str(20)      #convert integer to string"
      ]
    },
    {
      "cell_type": "markdown",
      "metadata": {
        "id": "K1fevvZtW4Yh"
      },
      "source": [
        "Conversion to and from string must contain compatible values."
      ]
    },
    {
      "cell_type": "code",
      "execution_count": 27,
      "metadata": {
        "colab": {
          "base_uri": "https://localhost:8080/",
          "height": 165
        },
        "id": "59F1ndNmW4Yi",
        "outputId": "ea20abfb-0ae2-41bf-ac1c-2c2238d069fa"
      },
      "outputs": [
        {
          "output_type": "error",
          "ename": "ValueError",
          "evalue": "ignored",
          "traceback": [
            "\u001b[0;31m---------------------------------------------------------------------------\u001b[0m",
            "\u001b[0;31mValueError\u001b[0m                                Traceback (most recent call last)",
            "\u001b[0;32m<ipython-input-27-8bb83f613c14>\u001b[0m in \u001b[0;36m<module>\u001b[0;34m()\u001b[0m\n\u001b[0;32m----> 1\u001b[0;31m \u001b[0mint\u001b[0m\u001b[0;34m(\u001b[0m\u001b[0;34m'10p'\u001b[0m\u001b[0;34m)\u001b[0m\u001b[0;34m\u001b[0m\u001b[0;34m\u001b[0m\u001b[0m\n\u001b[0m",
            "\u001b[0;31mValueError\u001b[0m: invalid literal for int() with base 10: '10p'"
          ]
        }
      ],
      "source": [
        "int('10p')"
      ]
    },
    {
      "cell_type": "code",
      "execution_count": 28,
      "metadata": {
        "colab": {
          "base_uri": "https://localhost:8080/"
        },
        "id": "D__fMQtpW4Yj",
        "outputId": "bb1f6580-e7b2-4c33-eb49-a58f6f7da0d3"
      },
      "outputs": [
        {
          "output_type": "stream",
          "name": "stdout",
          "text": [
            "Congratulations, satish! You just wrote 100 lines of code\n"
          ]
        }
      ],
      "source": [
        "user = \"satish\"\n",
        "lines = 100\n",
        "\n",
        "print(\"Congratulations, \" + user + \"! You just wrote \" + str(lines) + \" lines of code\" )\n",
        "#remove str and gives error"
      ]
    },
    {
      "cell_type": "markdown",
      "metadata": {
        "id": "LtYQKvydW4Yk"
      },
      "source": [
        "We can convert one sequence to other"
      ]
    },
    {
      "cell_type": "code",
      "execution_count": 29,
      "metadata": {
        "colab": {
          "base_uri": "https://localhost:8080/"
        },
        "id": "nSeBPffpW4Yl",
        "outputId": "758afbed-7c60-4678-afbc-03f433cdbcff"
      },
      "outputs": [
        {
          "output_type": "stream",
          "name": "stdout",
          "text": [
            "<class 'list'>\n",
            "<class 'set'>\n"
          ]
        }
      ],
      "source": [
        "a = [1, 2, 3]\n",
        "\n",
        "print(type(a))      #type of a is list \n",
        "\n",
        "s = set(a)          #convert list to set using set() method\n",
        "\n",
        "print(type(s))      #now type of s is set"
      ]
    },
    {
      "cell_type": "code",
      "execution_count": 30,
      "metadata": {
        "colab": {
          "base_uri": "https://localhost:8080/"
        },
        "id": "iaAOs89cW4Ym",
        "outputId": "0a02c1ae-b9d6-441f-c9b4-bc1115452751"
      },
      "outputs": [
        {
          "output_type": "execute_result",
          "data": {
            "text/plain": [
              "['H', 'e', 'l', 'l', 'o']"
            ]
          },
          "metadata": {},
          "execution_count": 30
        }
      ],
      "source": [
        "list(\"Hello\")       #convert String to list using list() method"
      ]
    }
  ],
  "metadata": {
    "kernelspec": {
      "display_name": "Python 2",
      "language": "python",
      "name": "python2"
    },
    "language_info": {
      "codemirror_mode": {
        "name": "ipython",
        "version": 2
      },
      "file_extension": ".py",
      "mimetype": "text/x-python",
      "name": "python",
      "nbconvert_exporter": "python",
      "pygments_lexer": "ipython2",
      "version": "2.7.10"
    },
    "colab": {
      "name": "2_variables_datatypes.ipynb",
      "provenance": [],
      "collapsed_sections": [],
      "include_colab_link": true
    }
  },
  "nbformat": 4,
  "nbformat_minor": 0
}