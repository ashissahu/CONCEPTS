{
  "cells": [
    {
      "cell_type": "markdown",
      "metadata": {
        "id": "view-in-github",
        "colab_type": "text"
      },
      "source": [
        "<a href=\"https://colab.research.google.com/github/ashissahu/CONCEPTS/blob/master/5_operators.ipynb\" target=\"_parent\"><img src=\"https://colab.research.google.com/assets/colab-badge.svg\" alt=\"Open In Colab\"/></a>"
      ]
    },
    {
      "cell_type": "markdown",
      "metadata": {
        "id": "6epaW9_SZgs4"
      },
      "source": [
        "# Operators"
      ]
    },
    {
      "cell_type": "markdown",
      "metadata": {
        "id": "2UzhynOeZgtE"
      },
      "source": [
        "Operators are special symbols in Python that carry out arithmetic or logical computation. The value that the operator operates on is called the operand."
      ]
    },
    {
      "cell_type": "markdown",
      "metadata": {
        "id": "0Ez5LZ36ZgtF"
      },
      "source": [
        "# Operator Types"
      ]
    },
    {
      "cell_type": "markdown",
      "metadata": {
        "id": "uvXTS7mRZgtG"
      },
      "source": [
        "1. Arithmetic operators\n",
        "    \n",
        "2. Comparison (Relational) operators\n",
        "\n",
        "3. Logical (Boolean) operators\n",
        "\n",
        "4. Bitwise operators\n",
        "\n",
        "5. Assignment operators\n",
        "\n",
        "6. Special operators"
      ]
    },
    {
      "cell_type": "markdown",
      "metadata": {
        "id": "cZQkBKSkZgtI"
      },
      "source": [
        "# Arithmetic Operators"
      ]
    },
    {
      "cell_type": "markdown",
      "metadata": {
        "id": "Y2gJsOlzZgtJ"
      },
      "source": [
        "Arithmetic operators are used to perform mathematical operations like addition, subtraction, multiplication etc."
      ]
    },
    {
      "cell_type": "markdown",
      "metadata": {
        "id": "sKxJIIg5ZgtK"
      },
      "source": [
        "    + , -, *, /, %, //, **  are arithmetic operators"
      ]
    },
    {
      "cell_type": "markdown",
      "metadata": {
        "id": "HLobwfTVZgtL"
      },
      "source": [
        "Example:"
      ]
    },
    {
      "cell_type": "code",
      "execution_count": 1,
      "metadata": {
        "colab": {
          "base_uri": "https://localhost:8080/"
        },
        "id": "rstS4k8UZgtN",
        "outputId": "302468fa-6933-45f7-cfc7-8e76cc31ac23"
      },
      "outputs": [
        {
          "output_type": "stream",
          "name": "stdout",
          "text": [
            "30\n"
          ]
        }
      ],
      "source": [
        "x, y = 10, 20\n",
        "\n",
        "#addition\n",
        "print(x + y)\n",
        "\n",
        "#subtraction(-)\n",
        "\n",
        "#multiplication(*)\n",
        "\n",
        "#division(/)\n",
        "\n",
        "#modulo division (%)\n",
        "\n",
        "#Floor Division (//)\n",
        "\n",
        "#Exponent (**)"
      ]
    },
    {
      "cell_type": "markdown",
      "metadata": {
        "id": "Ais8rAEJZgtS"
      },
      "source": [
        "# Comparision Operators"
      ]
    },
    {
      "cell_type": "markdown",
      "metadata": {
        "id": "8qf9mtKnZgtT"
      },
      "source": [
        "Comparison operators are used to compare values. It either returns True or False according to the condition."
      ]
    },
    {
      "cell_type": "markdown",
      "metadata": {
        "id": "_UxjT5g6ZgtT"
      },
      "source": [
        "    >, <, ==, !=, >=, <= are comparision operators"
      ]
    },
    {
      "cell_type": "code",
      "execution_count": 2,
      "metadata": {
        "colab": {
          "base_uri": "https://localhost:8080/"
        },
        "id": "fgdtEprbZgtV",
        "outputId": "2dc2c48b-92dc-403b-dee3-29d1b8f1495f"
      },
      "outputs": [
        {
          "output_type": "stream",
          "name": "stdout",
          "text": [
            "True\n"
          ]
        }
      ],
      "source": [
        "a, b = 10, 20         \n",
        "\n",
        "print(a < b)  #check a is less than b\n",
        "\n",
        "#check a is greater than b\n",
        "\n",
        "#check a is equal to b\n",
        "\n",
        "#check a is not equal to b (!=)\n",
        "\n",
        "#check a greater than or equal to b\n",
        "\n",
        "#check a less than or equal to b\n"
      ]
    },
    {
      "cell_type": "markdown",
      "metadata": {
        "id": "O1bwCnZpZgtW"
      },
      "source": [
        "# Logical Operators"
      ]
    },
    {
      "cell_type": "markdown",
      "metadata": {
        "id": "TFs9lj8kZgtW"
      },
      "source": [
        "Logical operators are  **and, or, not** operators."
      ]
    },
    {
      "cell_type": "code",
      "execution_count": 3,
      "metadata": {
        "colab": {
          "base_uri": "https://localhost:8080/"
        },
        "id": "j_KO3c3sZgtX",
        "outputId": "95ad9003-d792-4cc1-f36c-826b62cd12a8"
      },
      "outputs": [
        {
          "output_type": "stream",
          "name": "stdout",
          "text": [
            "False\n"
          ]
        }
      ],
      "source": [
        "a, b = True, False\n",
        "\n",
        "#print a and b\n",
        "print(a and b)\n",
        "\n",
        "#print a or b\n",
        "\n",
        "#print not b\n"
      ]
    },
    {
      "cell_type": "markdown",
      "metadata": {
        "id": "2JM7wSWVZgta"
      },
      "source": [
        "# Bitwise operators"
      ]
    },
    {
      "cell_type": "markdown",
      "metadata": {
        "id": "I8cNiVn8Zgta"
      },
      "source": [
        "Bitwise operators act on operands as if they were string of binary digits. It operates bit by bit"
      ]
    },
    {
      "cell_type": "markdown",
      "metadata": {
        "id": "3D0n2LarZgtb"
      },
      "source": [
        "    &,  |,  ~,  ^,  >>,  << are Bitwise operators"
      ]
    },
    {
      "cell_type": "code",
      "execution_count": 5,
      "metadata": {
        "colab": {
          "base_uri": "https://localhost:8080/"
        },
        "id": "AdYTVteQZgtb",
        "outputId": "61d65214-8d0b-4cdd-d22f-a1c7dcaf9619"
      },
      "outputs": [
        {
          "output_type": "stream",
          "name": "stdout",
          "text": [
            "0\n",
            "10\n"
          ]
        }
      ],
      "source": [
        "a, b,c = 10, 4,10\n",
        "\n",
        "#Bitwise AND\n",
        "print(a & b)\n",
        "print(a & c)\n",
        "#Bitwise OR\n",
        "\n",
        "\n",
        "#Bitwise NOT\n",
        "\n",
        "\n",
        "#Bitwise XOR\n",
        "\n",
        "\n",
        "#Bitwise rightshift\n",
        "\n",
        "\n",
        "#Bitwise Leftshift\n"
      ]
    },
    {
      "cell_type": "markdown",
      "metadata": {
        "id": "XbntYoG9Zgtd"
      },
      "source": [
        "# Assignment operators"
      ]
    },
    {
      "cell_type": "markdown",
      "metadata": {
        "id": "n_Be45PCZgtd"
      },
      "source": [
        "Assignment operators are used in Python to assign values to variables.\n",
        "\n",
        "a = 5 is a simple assignment operator that assigns the value 5 on the right to the variable a on the left."
      ]
    },
    {
      "cell_type": "markdown",
      "metadata": {
        "id": "6ISL9WaPZgte"
      },
      "source": [
        "    =,  +=,  -=,  *=,  /=,  %=,  //=,  **=, &=,  |=,  ^=,  >>=,  <<= are Assignment operators"
      ]
    },
    {
      "cell_type": "code",
      "execution_count": 6,
      "metadata": {
        "colab": {
          "base_uri": "https://localhost:8080/"
        },
        "id": "iidJ0cMwZgtf",
        "outputId": "d7edb9c9-9c13-4bed-ee48-3ce13c432eb0"
      },
      "outputs": [
        {
          "output_type": "stream",
          "name": "stdout",
          "text": [
            "20\n"
          ]
        }
      ],
      "source": [
        "a = 10\n",
        "\n",
        "a += 10         #add AND\n",
        "print(a)\n",
        "\n",
        "#subtract AND (-=)\n",
        "\n",
        "#Multiply AND (*=)\n",
        "\n",
        "#Divide AND (/=)\n",
        "\n",
        "#Modulus AND (%=)\n",
        "\n",
        "#Floor Division (//=)\n",
        "\n",
        "#Exponent AND (**=)\n"
      ]
    },
    {
      "cell_type": "markdown",
      "metadata": {
        "id": "2prxHPWJZgtg"
      },
      "source": [
        "# Special Operators"
      ]
    },
    {
      "cell_type": "markdown",
      "metadata": {
        "id": "DMJHx7t6Zgtg"
      },
      "source": [
        "# Identity Operators"
      ]
    },
    {
      "cell_type": "markdown",
      "metadata": {
        "id": "bFqE7e6aZgtg"
      },
      "source": [
        "**is and is not** are the identity operators in Python. \n",
        "\n",
        "They are used to check if two values (or variables) are located on the same part of the memory."
      ]
    },
    {
      "cell_type": "code",
      "execution_count": 7,
      "metadata": {
        "colab": {
          "base_uri": "https://localhost:8080/"
        },
        "id": "meMbgjQFZgth",
        "outputId": "1e7d3544-1f3b-4d46-819a-f37692039f7b"
      },
      "outputs": [
        {
          "output_type": "stream",
          "name": "stdout",
          "text": [
            "True\n"
          ]
        }
      ],
      "source": [
        "a = 5\n",
        "b = 5\n",
        "print(a is b)    #5 is object created once both a and b points to same object\n",
        "\n",
        "#check is not"
      ]
    },
    {
      "cell_type": "code",
      "execution_count": 8,
      "metadata": {
        "colab": {
          "base_uri": "https://localhost:8080/"
        },
        "id": "pWJyjHBVZgth",
        "outputId": "1d4fe0dc-94e0-47dc-9fa2-f32475ab5f83"
      },
      "outputs": [
        {
          "output_type": "stream",
          "name": "stdout",
          "text": [
            "False\n"
          ]
        }
      ],
      "source": [
        "l1 = [1, 2, 3]\n",
        "l2 = [1, 2, 3]\n",
        "print(l1 is l2)"
      ]
    },
    {
      "cell_type": "code",
      "source": [
        "id(l1),id(l2) #diff location"
      ],
      "metadata": {
        "colab": {
          "base_uri": "https://localhost:8080/"
        },
        "id": "973a_7yqaJ6v",
        "outputId": "c317aa12-3554-4fc4-c68c-8817f9e6f433"
      },
      "execution_count": 9,
      "outputs": [
        {
          "output_type": "execute_result",
          "data": {
            "text/plain": [
              "(140132238740368, 140132300404848)"
            ]
          },
          "metadata": {},
          "execution_count": 9
        }
      ]
    },
    {
      "cell_type": "code",
      "execution_count": 10,
      "metadata": {
        "colab": {
          "base_uri": "https://localhost:8080/"
        },
        "id": "YXOsE5I9Zgti",
        "outputId": "1951faea-1443-45d6-88f1-797e5833db71"
      },
      "outputs": [
        {
          "output_type": "stream",
          "name": "stdout",
          "text": [
            "False\n"
          ]
        }
      ],
      "source": [
        "s1 = \"Satish\"\n",
        "s2 = \"Satish\"\n",
        "print(s1 is not s2)"
      ]
    },
    {
      "cell_type": "markdown",
      "metadata": {
        "id": "X_fqA0RlZgtj"
      },
      "source": [
        "# MemberShip Operators"
      ]
    },
    {
      "cell_type": "markdown",
      "metadata": {
        "id": "A8OenbR2Zgtj"
      },
      "source": [
        "**in and not in** are the membership operators in Python. \n",
        "    \n",
        "They are used to test whether a value or variable is found in a sequence (string, list, tuple, set and   dictionary)."
      ]
    },
    {
      "cell_type": "code",
      "execution_count": 11,
      "metadata": {
        "colab": {
          "base_uri": "https://localhost:8080/"
        },
        "id": "I-z3r1J6Zgtk",
        "outputId": "0dc49e34-14a1-4a6c-81e5-4c423cf33e3c"
      },
      "outputs": [
        {
          "output_type": "stream",
          "name": "stdout",
          "text": [
            "True\n"
          ]
        }
      ],
      "source": [
        "lst = [1, 2, 3, 4]\n",
        "print(1 in lst)       #check 1 is present in a given list or not\n",
        "\n",
        "#check 5 is present in a given list\n"
      ]
    },
    {
      "cell_type": "code",
      "execution_count": 12,
      "metadata": {
        "colab": {
          "base_uri": "https://localhost:8080/"
        },
        "id": "fO7oltkiZgtl",
        "outputId": "877660d1-7da0-410e-c743-cae6b2ccee95"
      },
      "outputs": [
        {
          "output_type": "stream",
          "name": "stdout",
          "text": [
            "True\n"
          ]
        }
      ],
      "source": [
        "d = {1: \"a\", 2: \"b\"}\n",
        "print(1 in d)"
      ]
    },
    {
      "cell_type": "code",
      "source": [
        "print('a' in d)"
      ],
      "metadata": {
        "colab": {
          "base_uri": "https://localhost:8080/"
        },
        "id": "MmgIh6NRaeRV",
        "outputId": "9502adc3-a79a-4808-dc19-8ec054a1b011"
      },
      "execution_count": 13,
      "outputs": [
        {
          "output_type": "stream",
          "name": "stdout",
          "text": [
            "False\n"
          ]
        }
      ]
    }
  ],
  "metadata": {
    "kernelspec": {
      "display_name": "Python 2",
      "language": "python",
      "name": "python2"
    },
    "language_info": {
      "codemirror_mode": {
        "name": "ipython",
        "version": 2
      },
      "file_extension": ".py",
      "mimetype": "text/x-python",
      "name": "python",
      "nbconvert_exporter": "python",
      "pygments_lexer": "ipython2",
      "version": "2.7.10"
    },
    "colab": {
      "name": "5_operators.ipynb",
      "provenance": [],
      "collapsed_sections": [],
      "include_colab_link": true
    }
  },
  "nbformat": 4,
  "nbformat_minor": 0
}