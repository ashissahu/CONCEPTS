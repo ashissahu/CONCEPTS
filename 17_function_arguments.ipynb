{
  "nbformat": 4,
  "nbformat_minor": 0,
  "metadata": {
    "kernelspec": {
      "display_name": "Python 3",
      "language": "python",
      "name": "python3"
    },
    "language_info": {
      "codemirror_mode": {
        "name": "ipython",
        "version": 3
      },
      "file_extension": ".py",
      "mimetype": "text/x-python",
      "name": "python",
      "nbconvert_exporter": "python",
      "pygments_lexer": "ipython3",
      "version": "3.6.1"
    },
    "colab": {
      "name": "17_function_arguments.ipynb",
      "provenance": [],
      "collapsed_sections": [],
      "include_colab_link": true
    }
  },
  "cells": [
    {
      "cell_type": "markdown",
      "metadata": {
        "id": "view-in-github",
        "colab_type": "text"
      },
      "source": [
        "<a href=\"https://colab.research.google.com/github/ashissahu/CONCEPTS/blob/master/17_function_arguments.ipynb\" target=\"_parent\"><img src=\"https://colab.research.google.com/assets/colab-badge.svg\" alt=\"Open In Colab\"/></a>"
      ]
    },
    {
      "cell_type": "markdown",
      "metadata": {
        "id": "xkpauDXqJRw3"
      },
      "source": [
        "# Function Arguments\n"
      ]
    },
    {
      "cell_type": "code",
      "metadata": {
        "id": "AbKNcisrJRxJ",
        "outputId": "4270fd00-9d35-45d1-df74-550cfbd02c93",
        "colab": {
          "base_uri": "https://localhost:8080/"
        }
      },
      "source": [
        "def greet(name, msg):\n",
        "    \"\"\"\n",
        "    This function greets to person with the provided message\n",
        "    \"\"\"\n",
        "    print(\"Hello {0} , {1}\".format(name, msg))\n",
        "\n",
        "#call the function with arguments\n",
        "greet(\"satish\", \"Good Morning\")\n"
      ],
      "execution_count": 1,
      "outputs": [
        {
          "output_type": "stream",
          "name": "stdout",
          "text": [
            "Hello satish , Good Morning\n"
          ]
        }
      ]
    },
    {
      "cell_type": "code",
      "metadata": {
        "id": "DdftwAr7JRxN",
        "outputId": "d16674e2-57af-4330-b6a3-104ae3831ccd",
        "colab": {
          "base_uri": "https://localhost:8080/",
          "height": 201
        }
      },
      "source": [
        "#suppose if we pass one argument\n",
        "\n",
        "greet(\"satish\") #will get an error\n"
      ],
      "execution_count": 2,
      "outputs": [
        {
          "output_type": "error",
          "ename": "TypeError",
          "evalue": "ignored",
          "traceback": [
            "\u001b[0;31m---------------------------------------------------------------------------\u001b[0m",
            "\u001b[0;31mTypeError\u001b[0m                                 Traceback (most recent call last)",
            "\u001b[0;32m<ipython-input-2-127a26d9baa0>\u001b[0m in \u001b[0;36m<module>\u001b[0;34m()\u001b[0m\n\u001b[1;32m      1\u001b[0m \u001b[0;31m#suppose if we pass one argument\u001b[0m\u001b[0;34m\u001b[0m\u001b[0;34m\u001b[0m\u001b[0;34m\u001b[0m\u001b[0m\n\u001b[1;32m      2\u001b[0m \u001b[0;34m\u001b[0m\u001b[0m\n\u001b[0;32m----> 3\u001b[0;31m \u001b[0mgreet\u001b[0m\u001b[0;34m(\u001b[0m\u001b[0;34m\"satish\"\u001b[0m\u001b[0;34m)\u001b[0m \u001b[0;31m#will get an error\u001b[0m\u001b[0;34m\u001b[0m\u001b[0;34m\u001b[0m\u001b[0m\n\u001b[0m",
            "\u001b[0;31mTypeError\u001b[0m: greet() missing 1 required positional argument: 'msg'"
          ]
        }
      ]
    },
    {
      "cell_type": "markdown",
      "metadata": {
        "id": "BzHHwgCdJRxP"
      },
      "source": [
        "# Different Forms of Arguments"
      ]
    },
    {
      "cell_type": "markdown",
      "metadata": {
        "id": "CksOvu0JJRxQ"
      },
      "source": [
        "# 1. Default Arguments"
      ]
    },
    {
      "cell_type": "markdown",
      "metadata": {
        "id": "T23E9xJoJRxQ"
      },
      "source": [
        "We can provide a default value to an argument by using the assignment operator (=). "
      ]
    },
    {
      "cell_type": "code",
      "metadata": {
        "id": "CFAS8GZ7JRxR",
        "outputId": "3c6a7bcd-8fbf-423c-8591-34fcd3577866",
        "colab": {
          "base_uri": "https://localhost:8080/"
        }
      },
      "source": [
        "def greet(name, msg=\"Good Morning\"):\n",
        "    \"\"\"\n",
        "    This function greets to person with the provided message\n",
        "    if message is not provided, it defaults to \"Good Morning\"\n",
        "    \"\"\"\n",
        "    print(\"Hello {0} , {1}\".format(name, msg))\n",
        "\n",
        "greet(\"satish\", \"Good Night\")\n"
      ],
      "execution_count": 3,
      "outputs": [
        {
          "output_type": "stream",
          "name": "stdout",
          "text": [
            "Hello satish , Good Night\n"
          ]
        }
      ]
    },
    {
      "cell_type": "code",
      "metadata": {
        "id": "L-VGeAvoJRxS",
        "outputId": "7dda33bb-7851-4cc9-c954-71e5ce0b005a"
      },
      "source": [
        "#with out msg argument\n",
        "greet(\"satish\")\n"
      ],
      "execution_count": null,
      "outputs": [
        {
          "output_type": "stream",
          "text": [
            "Hello satish , Good Morning\n"
          ],
          "name": "stdout"
        }
      ]
    },
    {
      "cell_type": "markdown",
      "metadata": {
        "id": "3jJg69PgJRxU"
      },
      "source": [
        "Once we have a default argument, all the arguments to its right must also have default values."
      ]
    },
    {
      "cell_type": "markdown",
      "metadata": {
        "id": "kvC03lIFJRxU"
      },
      "source": [
        "def greet(msg=\"Good Morning\", name)   \n",
        "\n",
        "#will get a SyntaxError : non-default argument follows default argument"
      ]
    },
    {
      "cell_type": "markdown",
      "metadata": {
        "id": "WDX2OrUKJRxV"
      },
      "source": [
        "# 2. Keyword Arguments"
      ]
    },
    {
      "cell_type": "markdown",
      "metadata": {
        "id": "Rt7Wjjk5JRxW"
      },
      "source": [
        "kwargs allows you to pass keyworded variable length of arguments to a function. You should use **kwargs if you want to handle named arguments in a function"
      ]
    },
    {
      "cell_type": "markdown",
      "metadata": {
        "id": "dSfi0ixQJRxW"
      },
      "source": [
        "# Example:"
      ]
    },
    {
      "cell_type": "code",
      "metadata": {
        "id": "hAyL0iPrJRxX",
        "outputId": "ce4e3cf6-4edf-4e7a-97f3-1afa0b6d54eb",
        "colab": {
          "base_uri": "https://localhost:8080/"
        }
      },
      "source": [
        "def greet(**kwargs):\n",
        "    \"\"\"\n",
        "    This function greets to person with the provided message\n",
        "    \"\"\"\n",
        "    if kwargs:\n",
        "        print(\"Hello {0} , {1}\".format(kwargs['name'], kwargs['msg']))\n",
        "greet(name=\"satish\", msg=\"Good Morning\")\n"
      ],
      "execution_count": 6,
      "outputs": [
        {
          "output_type": "stream",
          "name": "stdout",
          "text": [
            "Hello satish , Good Morning\n"
          ]
        }
      ]
    },
    {
      "cell_type": "markdown",
      "metadata": {
        "id": "peD0sEQ2JRxY"
      },
      "source": [
        "# 3. Arbitary Arguments"
      ]
    },
    {
      "cell_type": "markdown",
      "metadata": {
        "id": "zcM0Px64JRxY"
      },
      "source": [
        "Sometimes, we do not know in advance the number of arguments that will be passed into a function.Python allows us to handle this kind of situation through function calls with arbitrary number of arguments."
      ]
    },
    {
      "cell_type": "markdown",
      "metadata": {
        "id": "FUyJdXVhJRxZ"
      },
      "source": [
        "# Example:"
      ]
    },
    {
      "cell_type": "code",
      "metadata": {
        "id": "LiwrfzBqJRxZ",
        "outputId": "5319b32d-1816-4211-839f-95ef37c38e10",
        "colab": {
          "base_uri": "https://localhost:8080/"
        }
      },
      "source": [
        "def greet(*names):\n",
        "    \"\"\"\n",
        "    This function greets all persons in the names tuple \n",
        "    \"\"\"\n",
        "    print(names)\n",
        "    \n",
        "    for name in names:\n",
        "        print(\"Hello,  {0} \".format(name))\n",
        "\n",
        "greet(\"satish\", \"murali\", \"naveen\", \"srikanth\")\n"
      ],
      "execution_count": 4,
      "outputs": [
        {
          "output_type": "stream",
          "name": "stdout",
          "text": [
            "('satish', 'murali', 'naveen', 'srikanth')\n",
            "Hello,  satish \n",
            "Hello,  murali \n",
            "Hello,  naveen \n",
            "Hello,  srikanth \n"
          ]
        }
      ]
    },
    {
      "cell_type": "code",
      "metadata": {
        "collapsed": true,
        "id": "KIfWXlGlJRxb",
        "colab": {
          "base_uri": "https://localhost:8080/"
        },
        "outputId": "932c99cd-c83b-485d-9df8-f217cebd646b"
      },
      "source": [
        "greet(\"satish\", \"murali\")"
      ],
      "execution_count": 5,
      "outputs": [
        {
          "output_type": "stream",
          "name": "stdout",
          "text": [
            "('satish', 'murali')\n",
            "Hello,  satish \n",
            "Hello,  murali \n"
          ]
        }
      ]
    }
  ]
}