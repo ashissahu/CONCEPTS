{
  "cells": [
    {
      "cell_type": "markdown",
      "metadata": {
        "id": "view-in-github",
        "colab_type": "text"
      },
      "source": [
        "<a href=\"https://colab.research.google.com/github/ashissahu/CONCEPTS/blob/master/12_Strings.ipynb\" target=\"_parent\"><img src=\"https://colab.research.google.com/assets/colab-badge.svg\" alt=\"Open In Colab\"/></a>"
      ]
    },
    {
      "cell_type": "markdown",
      "metadata": {
        "id": "QyX-ixv08rR4"
      },
      "source": [
        "# Strings"
      ]
    },
    {
      "cell_type": "markdown",
      "metadata": {
        "id": "BjFCjZ-O8rSP"
      },
      "source": [
        "    A string is a sequence of characters.\n",
        "\n",
        "    Computers do not deal with characters, they deal with numbers (binary). Even though you may see characters on your screen, internally it is stored and manipulated as a combination of 0's and 1's.\n",
        "\n",
        "    This conversion of character to a number is called encoding, and the reverse process is decoding. ASCII and Unicode are some of the popular encoding used.\n",
        "\n",
        "    In Python, string is a sequence of Unicode character."
      ]
    },
    {
      "cell_type": "markdown",
      "metadata": {
        "id": "ON5Qm19b8rSR"
      },
      "source": [
        "For more details about unicode \n",
        "\n",
        "https://docs.python.org/3.3/howto/unicode.html"
      ]
    },
    {
      "cell_type": "markdown",
      "metadata": {
        "id": "krxcUpmW8rSS"
      },
      "source": [
        "# How to create a string?"
      ]
    },
    {
      "cell_type": "markdown",
      "metadata": {
        "id": "pGRUHr__8rST"
      },
      "source": [
        "Strings can be created by enclosing characters inside a single quote or double quotes. \n",
        "\n",
        "Even triple quotes can be used in Python but generally used to represent multiline strings and docstrings.\n"
      ]
    },
    {
      "cell_type": "code",
      "execution_count": 1,
      "metadata": {
        "id": "3YDi9Qpj8rSV",
        "outputId": "d0544922-5e4f-4fdd-fd15-683292782a64",
        "colab": {
          "base_uri": "https://localhost:8080/"
        }
      },
      "outputs": [
        {
          "output_type": "stream",
          "name": "stdout",
          "text": [
            "Hello\n",
            "Hello\n",
            "Hello\n"
          ]
        }
      ],
      "source": [
        "myString = 'Hello'\n",
        "\n",
        "print(myString)\n",
        "\n",
        "\n",
        "myString = \"Hello\"\n",
        "print(myString)\n",
        "\n",
        "\n",
        "myString = '''Hello'''\n",
        "print(myString)"
      ]
    },
    {
      "cell_type": "markdown",
      "metadata": {
        "id": "GYfuRUrc8rSa"
      },
      "source": [
        "# How to access characters in a string?"
      ]
    },
    {
      "cell_type": "markdown",
      "metadata": {
        "id": "9M0hK_w78rSc"
      },
      "source": [
        "We can access individual characters using indexing and a range of characters using slicing.\n",
        "\n",
        "Index starts from 0. \n",
        "\n",
        "Trying to access a character out of index range will raise an IndexError. \n",
        "\n",
        "The index must be an integer. We can't use float or other types, this will result into TypeError.\n",
        "\n",
        "Python allows negative indexing for its sequences."
      ]
    },
    {
      "cell_type": "code",
      "execution_count": 2,
      "metadata": {
        "id": "bBKAcqdM8rSe",
        "outputId": "3b047202-5e9f-464f-e28d-2b4772e42ebc",
        "colab": {
          "base_uri": "https://localhost:8080/"
        }
      },
      "outputs": [
        {
          "output_type": "stream",
          "name": "stdout",
          "text": [
            "H\n",
            "o\n",
            "llo\n"
          ]
        }
      ],
      "source": [
        "myString = \"Hello\"\n",
        "\n",
        "#print first Character\n",
        "print(myString[0])\n",
        "\n",
        "#print last character using negative indexing\n",
        "print(myString[-1])\n",
        "\n",
        "#slicing 2nd to 5th character\n",
        "print(myString[2:5])"
      ]
    },
    {
      "cell_type": "markdown",
      "metadata": {
        "id": "cY7Cd3DC8rSg"
      },
      "source": [
        "If we try to access index out of the range or use decimal number, we will get errors."
      ]
    },
    {
      "cell_type": "code",
      "execution_count": 3,
      "metadata": {
        "id": "R9HyC34t8rSh",
        "outputId": "912a9272-6cdb-43d9-a31b-1db5413d624e",
        "colab": {
          "base_uri": "https://localhost:8080/",
          "height": 165
        }
      },
      "outputs": [
        {
          "output_type": "error",
          "ename": "IndexError",
          "evalue": "ignored",
          "traceback": [
            "\u001b[0;31m---------------------------------------------------------------------------\u001b[0m",
            "\u001b[0;31mIndexError\u001b[0m                                Traceback (most recent call last)",
            "\u001b[0;32m<ipython-input-3-a6e04654a783>\u001b[0m in \u001b[0;36m<module>\u001b[0;34m()\u001b[0m\n\u001b[0;32m----> 1\u001b[0;31m \u001b[0mprint\u001b[0m\u001b[0;34m(\u001b[0m\u001b[0mmyString\u001b[0m\u001b[0;34m[\u001b[0m\u001b[0;36m15\u001b[0m\u001b[0;34m]\u001b[0m\u001b[0;34m)\u001b[0m\u001b[0;34m\u001b[0m\u001b[0;34m\u001b[0m\u001b[0m\n\u001b[0m",
            "\u001b[0;31mIndexError\u001b[0m: string index out of range"
          ]
        }
      ],
      "source": [
        "print(myString[15])"
      ]
    },
    {
      "cell_type": "code",
      "execution_count": 4,
      "metadata": {
        "id": "5k5_Zk8N8rSi",
        "outputId": "53ba9738-ee0c-4710-85f5-450820f2973c",
        "colab": {
          "base_uri": "https://localhost:8080/",
          "height": 165
        }
      },
      "outputs": [
        {
          "output_type": "error",
          "ename": "TypeError",
          "evalue": "ignored",
          "traceback": [
            "\u001b[0;31m---------------------------------------------------------------------------\u001b[0m",
            "\u001b[0;31mTypeError\u001b[0m                                 Traceback (most recent call last)",
            "\u001b[0;32m<ipython-input-4-f317be76d762>\u001b[0m in \u001b[0;36m<module>\u001b[0;34m()\u001b[0m\n\u001b[0;32m----> 1\u001b[0;31m \u001b[0mprint\u001b[0m\u001b[0;34m(\u001b[0m\u001b[0mmyString\u001b[0m\u001b[0;34m[\u001b[0m\u001b[0;36m1.5\u001b[0m\u001b[0;34m]\u001b[0m\u001b[0;34m)\u001b[0m\u001b[0;34m\u001b[0m\u001b[0;34m\u001b[0m\u001b[0m\n\u001b[0m",
            "\u001b[0;31mTypeError\u001b[0m: string indices must be integers"
          ]
        }
      ],
      "source": [
        "print(myString[1.5])"
      ]
    },
    {
      "cell_type": "markdown",
      "metadata": {
        "id": "pgX1_I6f8rSj"
      },
      "source": [
        "# How to change or delete a string ?"
      ]
    },
    {
      "cell_type": "markdown",
      "metadata": {
        "id": "xlsRirpK8rSj"
      },
      "source": [
        "Strings are immutable. This means that elements of a string cannot be changed once it has been assigned. \n",
        "\n",
        "We can simply reassign different strings to the same name."
      ]
    },
    {
      "cell_type": "code",
      "execution_count": 5,
      "metadata": {
        "id": "jcXyvkCd8rSk",
        "outputId": "25a8e7bc-5b4d-42db-9202-9c19ddc674fe",
        "colab": {
          "base_uri": "https://localhost:8080/",
          "height": 183
        }
      },
      "outputs": [
        {
          "output_type": "error",
          "ename": "TypeError",
          "evalue": "ignored",
          "traceback": [
            "\u001b[0;31m---------------------------------------------------------------------------\u001b[0m",
            "\u001b[0;31mTypeError\u001b[0m                                 Traceback (most recent call last)",
            "\u001b[0;32m<ipython-input-5-786fea0a1f9c>\u001b[0m in \u001b[0;36m<module>\u001b[0;34m()\u001b[0m\n\u001b[1;32m      1\u001b[0m \u001b[0mmyString\u001b[0m \u001b[0;34m=\u001b[0m \u001b[0;34m\"Hello\"\u001b[0m\u001b[0;34m\u001b[0m\u001b[0;34m\u001b[0m\u001b[0m\n\u001b[0;32m----> 2\u001b[0;31m \u001b[0mmyString\u001b[0m\u001b[0;34m[\u001b[0m\u001b[0;36m4\u001b[0m\u001b[0;34m]\u001b[0m \u001b[0;34m=\u001b[0m \u001b[0;34m's'\u001b[0m \u001b[0;31m# strings are immutable\u001b[0m\u001b[0;34m\u001b[0m\u001b[0;34m\u001b[0m\u001b[0m\n\u001b[0m",
            "\u001b[0;31mTypeError\u001b[0m: 'str' object does not support item assignment"
          ]
        }
      ],
      "source": [
        "myString = \"Hello\"\n",
        "myString[4] = 's' # strings are immutable"
      ]
    },
    {
      "cell_type": "markdown",
      "metadata": {
        "id": "d3F_5-7D8rSl"
      },
      "source": [
        "We cannot delete or remove characters from a string. But deleting the string entirely is possible using the keyword       del."
      ]
    },
    {
      "cell_type": "code",
      "execution_count": 6,
      "metadata": {
        "collapsed": true,
        "id": "utrtl0XX8rSn"
      },
      "outputs": [],
      "source": [
        "del myString # delete complete string"
      ]
    },
    {
      "cell_type": "code",
      "execution_count": 7,
      "metadata": {
        "id": "boanuF9c8rSo",
        "outputId": "ce1520d6-9f52-4c63-fc3c-f16cacc582bc",
        "colab": {
          "base_uri": "https://localhost:8080/",
          "height": 165
        }
      },
      "outputs": [
        {
          "output_type": "error",
          "ename": "NameError",
          "evalue": "ignored",
          "traceback": [
            "\u001b[0;31m---------------------------------------------------------------------------\u001b[0m",
            "\u001b[0;31mNameError\u001b[0m                                 Traceback (most recent call last)",
            "\u001b[0;32m<ipython-input-7-13235c81a0c6>\u001b[0m in \u001b[0;36m<module>\u001b[0;34m()\u001b[0m\n\u001b[0;32m----> 1\u001b[0;31m \u001b[0mprint\u001b[0m\u001b[0;34m(\u001b[0m\u001b[0mmyString\u001b[0m\u001b[0;34m)\u001b[0m\u001b[0;34m\u001b[0m\u001b[0;34m\u001b[0m\u001b[0m\n\u001b[0m",
            "\u001b[0;31mNameError\u001b[0m: name 'myString' is not defined"
          ]
        }
      ],
      "source": [
        "print(myString)"
      ]
    },
    {
      "cell_type": "markdown",
      "metadata": {
        "id": "T-jkYL6T8rSq"
      },
      "source": [
        "# String Operations"
      ]
    },
    {
      "cell_type": "markdown",
      "metadata": {
        "id": "yQaFaPkp8rSr"
      },
      "source": [
        "# Concatenation"
      ]
    },
    {
      "cell_type": "markdown",
      "metadata": {
        "id": "oWEK28Wt8rSr"
      },
      "source": [
        "Joining of two or more strings into a single one is called concatenation.\n",
        "\n",
        "The + operator does this in Python. Simply writing two string literals together also concatenates them.\n",
        "\n",
        "The * operator can be used to repeat the string for a given number of times."
      ]
    },
    {
      "cell_type": "code",
      "execution_count": 8,
      "metadata": {
        "id": "tFoY_X5M8rSs",
        "outputId": "7e6db690-5023-48b2-ed8c-e375fca7e6e3",
        "colab": {
          "base_uri": "https://localhost:8080/"
        }
      },
      "outputs": [
        {
          "output_type": "stream",
          "name": "stdout",
          "text": [
            "Hello Satish\n",
            "Hello Hello Hello \n"
          ]
        }
      ],
      "source": [
        "s1 = \"Hello \"\n",
        "s2 = \"Satish\"\n",
        "\n",
        "#concatenation of 2 strings\n",
        "print(s1 + s2)\n",
        "\n",
        "#repeat string n times\n",
        "print(s1 * 3)"
      ]
    },
    {
      "cell_type": "markdown",
      "metadata": {
        "id": "lR3qgeS18rSt"
      },
      "source": [
        "# Iterating Through String"
      ]
    },
    {
      "cell_type": "code",
      "execution_count": 9,
      "metadata": {
        "id": "zKW9aVsh8rSu",
        "outputId": "4d455903-730c-47c4-ab05-aa2cdf3ccb28",
        "colab": {
          "base_uri": "https://localhost:8080/"
        }
      },
      "outputs": [
        {
          "output_type": "stream",
          "name": "stdout",
          "text": [
            "2  letters found\n"
          ]
        }
      ],
      "source": [
        "count = 0\n",
        "for l in \"Hello World\":\n",
        "    if l == 'o':\n",
        "        count += 1\n",
        "print(count, ' letters found')"
      ]
    },
    {
      "cell_type": "markdown",
      "metadata": {
        "id": "FwngBN_S8rSv"
      },
      "source": [
        "# String Membership Test"
      ]
    },
    {
      "cell_type": "code",
      "execution_count": 10,
      "metadata": {
        "id": "K7abswqe8rSv",
        "outputId": "ea59acde-56ff-4647-ea0c-a27625cf0766",
        "colab": {
          "base_uri": "https://localhost:8080/"
        }
      },
      "outputs": [
        {
          "output_type": "stream",
          "name": "stdout",
          "text": [
            "True\n"
          ]
        }
      ],
      "source": [
        "print('l' in 'Hello World') #in operator to test membership"
      ]
    },
    {
      "cell_type": "code",
      "execution_count": null,
      "metadata": {
        "id": "jp4JY24s8rSw",
        "outputId": "141cf514-c998-4aab-eca7-580356ca9545"
      },
      "outputs": [
        {
          "name": "stdout",
          "output_type": "stream",
          "text": [
            "True\n"
          ]
        }
      ],
      "source": [
        "print('or' in 'Hello World')"
      ]
    },
    {
      "cell_type": "markdown",
      "metadata": {
        "id": "PNLEsgCc8rSx"
      },
      "source": [
        "# String Methods"
      ]
    },
    {
      "cell_type": "markdown",
      "metadata": {
        "id": "20GGhUQb8rSx"
      },
      "source": [
        "    Some of the commonly used methods are lower(), upper(), join(), split(), find(), replace() etc"
      ]
    },
    {
      "cell_type": "code",
      "execution_count": 11,
      "metadata": {
        "id": "2XYSD66D8rSy",
        "outputId": "7ee934eb-936a-4bfd-a686-e85cf495adaf",
        "colab": {
          "base_uri": "https://localhost:8080/",
          "height": 35
        }
      },
      "outputs": [
        {
          "output_type": "execute_result",
          "data": {
            "text/plain": [
              "'hello'"
            ],
            "application/vnd.google.colaboratory.intrinsic+json": {
              "type": "string"
            }
          },
          "metadata": {},
          "execution_count": 11
        }
      ],
      "source": [
        "\"Hello\".lower()"
      ]
    },
    {
      "cell_type": "code",
      "execution_count": null,
      "metadata": {
        "id": "MNUa3nPQ8rSy",
        "outputId": "872314a0-8821-4853-be78-9e0b6607430b"
      },
      "outputs": [
        {
          "data": {
            "text/plain": [
              "'HELLO'"
            ]
          },
          "execution_count": 15,
          "metadata": {},
          "output_type": "execute_result"
        }
      ],
      "source": [
        "\"Hello\".upper()"
      ]
    },
    {
      "cell_type": "code",
      "execution_count": 12,
      "metadata": {
        "id": "0Q-Hv84R8rSz",
        "outputId": "fd5135b0-94d2-4a5f-f51d-2ffce73a10a8",
        "colab": {
          "base_uri": "https://localhost:8080/"
        }
      },
      "outputs": [
        {
          "output_type": "execute_result",
          "data": {
            "text/plain": [
              "['This', 'will', 'split', 'all', 'words', 'in', 'a', 'list']"
            ]
          },
          "metadata": {},
          "execution_count": 12
        }
      ],
      "source": [
        "\"This will split all words in a list\".split()"
      ]
    },
    {
      "cell_type": "code",
      "execution_count": 14,
      "metadata": {
        "id": "VhJ6jzMw8rSz",
        "outputId": "464f7d91-c9e8-46ae-d3ec-31112714f5d1",
        "colab": {
          "base_uri": "https://localhost:8080/",
          "height": 35
        }
      },
      "outputs": [
        {
          "output_type": "execute_result",
          "data": {
            "text/plain": [
              "'This will split all words in a list'"
            ],
            "application/vnd.google.colaboratory.intrinsic+json": {
              "type": "string"
            }
          },
          "metadata": {},
          "execution_count": 14
        }
      ],
      "source": [
        "' '.join(['This', 'will', 'split', 'all', 'words', 'in', 'a', 'list'])"
      ]
    },
    {
      "cell_type": "code",
      "execution_count": 13,
      "metadata": {
        "id": "ODz7bUB58rS0",
        "outputId": "47f12b5f-e308-4caa-baa9-d6fa265942e8",
        "colab": {
          "base_uri": "https://localhost:8080/"
        }
      },
      "outputs": [
        {
          "output_type": "execute_result",
          "data": {
            "text/plain": [
              "5"
            ]
          },
          "metadata": {},
          "execution_count": 13
        }
      ],
      "source": [
        "\"Good Morning\".find(\"Mo\")"
      ]
    },
    {
      "cell_type": "code",
      "execution_count": 15,
      "metadata": {
        "id": "H3CpVVW-8rS0",
        "outputId": "f337eed9-df87-4971-ee4d-03ee2967a701",
        "colab": {
          "base_uri": "https://localhost:8080/"
        }
      },
      "outputs": [
        {
          "output_type": "stream",
          "name": "stdout",
          "text": [
            "Bad morning\n",
            "Good morning\n"
          ]
        }
      ],
      "source": [
        "s1 = \"Bad morning\"\n",
        "\n",
        "s2 = s1.replace(\"Bad\", \"Good\")\n",
        "\n",
        "print(s1)\n",
        "print(s2)"
      ]
    },
    {
      "cell_type": "markdown",
      "metadata": {
        "id": "g4AYqFO78rS1"
      },
      "source": [
        "# Python Program to Check where a String is Palindrome or not ?"
      ]
    },
    {
      "cell_type": "code",
      "execution_count": 16,
      "metadata": {
        "id": "l3mzXmcT8rS1",
        "outputId": "941e6a14-157d-4e43-bd09-e45c2ead0ea7",
        "colab": {
          "base_uri": "https://localhost:8080/"
        }
      },
      "outputs": [
        {
          "output_type": "stream",
          "name": "stdout",
          "text": [
            "type of revStr: <class 'reversed'>\n",
            "Given String is palindrome\n"
          ]
        }
      ],
      "source": [
        "myStr = \"Madam\"\n",
        "\n",
        "#convert entire string to either lower or upper\n",
        "myStr = myStr.lower()\n",
        "\n",
        "#reverse string\n",
        "revStr = reversed(myStr)\n",
        "print('type of revStr:',type(revStr))\n",
        "\n",
        "\n",
        "#check if the string is equal to its reverse\n",
        "if list(myStr) == list(revStr):\n",
        "    print(\"Given String is palindrome\")\n",
        "else:\n",
        "    print(\"Given String is not palindrome\")\n"
      ]
    },
    {
      "cell_type": "markdown",
      "metadata": {
        "id": "o3aenS5i8rS2"
      },
      "source": [
        "# Python Program to Sort Words in Alphabetic Order?"
      ]
    },
    {
      "cell_type": "code",
      "execution_count": 18,
      "metadata": {
        "id": "deCuY0KA8rS2",
        "outputId": "7763d812-c308-4cfe-febb-a0834fa7edb4",
        "colab": {
          "base_uri": "https://localhost:8080/"
        }
      },
      "outputs": [
        {
          "output_type": "stream",
          "name": "stdout",
          "text": [
            "['Alphabetic', 'Order', 'Program', 'Sort', 'in', 'python', 'to', 'words']\n",
            "**********\n",
            "Alphabetic\n",
            "Order\n",
            "Program\n",
            "Sort\n",
            "in\n",
            "python\n",
            "to\n",
            "words\n"
          ]
        }
      ],
      "source": [
        "myStr = \"python Program to Sort words in Alphabetic Order\"\n",
        "\n",
        "#breakdown the string into list of words\n",
        "words = myStr.split()\n",
        "\n",
        "#sort the list\n",
        "words.sort()\n",
        "print(words)\n",
        "print(\"*\"*10)\n",
        "\n",
        "#print Sorted words are\n",
        "for word in words:\n",
        "    print(word)"
      ]
    },
    {
      "cell_type": "code",
      "execution_count": null,
      "metadata": {
        "collapsed": true,
        "id": "MmJWV6id8rS3"
      },
      "outputs": [],
      "source": [
        ""
      ]
    },
    {
      "cell_type": "code",
      "execution_count": null,
      "metadata": {
        "collapsed": true,
        "id": "pJUDp25e8rS3"
      },
      "outputs": [],
      "source": [
        ""
      ]
    }
  ],
  "metadata": {
    "kernelspec": {
      "display_name": "Python 3",
      "language": "python",
      "name": "python3"
    },
    "language_info": {
      "codemirror_mode": {
        "name": "ipython",
        "version": 3
      },
      "file_extension": ".py",
      "mimetype": "text/x-python",
      "name": "python",
      "nbconvert_exporter": "python",
      "pygments_lexer": "ipython3",
      "version": "3.6.1"
    },
    "colab": {
      "name": "12_Strings.ipynb",
      "provenance": [],
      "collapsed_sections": [],
      "include_colab_link": true
    }
  },
  "nbformat": 4,
  "nbformat_minor": 0
}