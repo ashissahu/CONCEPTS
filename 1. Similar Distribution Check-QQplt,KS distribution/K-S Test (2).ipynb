{
 "cells": [
  {
   "cell_type": "markdown",
   "metadata": {
    "colab_type": "text",
    "id": "G00e-lK26-wc"
   },
   "source": [
    "# K-S Test\n",
    "\n",
    "Ks test is used for checking whether 2 1D distributions are similar"
   ]
  },
  {
   "cell_type": "code",
   "execution_count": 1,
   "metadata": {
    "colab": {},
    "colab_type": "code",
    "id": "VVaUsg6J6-we",
    "outputId": "e5eaf590-2739-473a-aa53-e71988b04055"
   },
   "outputs": [
    {
     "data": {
      "text/plain": [
       "<Figure size 640x480 with 1 Axes>"
      ]
     },
     "metadata": {},
     "output_type": "display_data"
    }
   ],
   "source": [
    "import numpy as np\n",
    "import seaborn as sns\n",
    "from scipy import stats\n",
    "import matplotlib.pyplot as plt\n",
    "\n",
    "#generate a gaussian r.v X\n",
    "x = stats.norm.rvs(size=1000);#gaussian distributed 1000 random points\n",
    "sns.set_style('whitegrid')\n",
    "sns.kdeplot(np.array(x), bw=0.5)\n",
    "plt.show()\n",
    "\n",
    "\n"
   ]
  },
  {
   "cell_type": "code",
   "execution_count": 2,
   "metadata": {
    "colab": {},
    "colab_type": "code",
    "id": "Yc6xyZVd6-ws",
    "outputId": "a085ef18-d5e1-4f5d-e2d8-0e16f0636e11"
   },
   "outputs": [
    {
     "data": {
      "text/plain": [
       "KstestResult(statistic=0.02183393860775329, pvalue=0.7270694930551557)"
      ]
     },
     "execution_count": 2,
     "metadata": {},
     "output_type": "execute_result"
    }
   ],
   "source": [
    "stats.kstest(x, 'norm') #As p value is 0.75 or 75%, so our null hypothesis accepted i.e x is normally distributed"
   ]
  },
  {
   "cell_type": "code",
   "execution_count": 3,
   "metadata": {
    "colab": {},
    "colab_type": "code",
    "id": "BndtAi0L6-w0",
    "outputId": "fc3b0c56-ee28-4d05-9ef7-83188f9b19e6"
   },
   "outputs": [
    {
     "data": {
      "image/png": "[encoded data removed]",
      "text/plain": [
       "<Figure size 432x288 with 1 Axes>"
      ]
     },
     "metadata": {},
     "output_type": "display_data"
    }
   ],
   "source": [
    "# Y ~ Continous Uniform Distribution(0,1)\n",
    "y = np.random.uniform(0,1,10000);\n",
    "sns.kdeplot(np.array(y), bw=0.1)\n",
    "plt.show()"
   ]
  },
  {
   "cell_type": "code",
   "execution_count": 4,
   "metadata": {
    "colab": {},
    "colab_type": "code",
    "id": "macSZRAt6-w6",
    "outputId": "337c8140-46e0-432d-f3ad-f01c8726ba0f"
   },
   "outputs": [
    {
     "data": {
      "text/plain": [
       "KstestResult(statistic=0.5000367170548907, pvalue=0.0)"
      ]
     },
     "execution_count": 4,
     "metadata": {},
     "output_type": "execute_result"
    }
   ],
   "source": [
    "stats.kstest(y, 'norm') #As p value is 0.0 or 0%, so our null hypothesis(H0) rejected i.e x is not normally distributed"
   ]
  },
  {
   "cell_type": "code",
   "execution_count": null,
   "metadata": {
    "colab": {},
    "colab_type": "code",
    "id": "QGewRMzS6-xC"
   },
   "outputs": [],
   "source": []
  }
 ],
 "metadata": {
  "colab": {
   "name": "12.26.ipynb",
   "provenance": []
  },
  "kernelspec": {
   "display_name": "Python 3",
   "language": "python",
   "name": "python3"
  },
  "language_info": {
   "codemirror_mode": {
    "name": "ipython",
    "version": 3
   },
   "file_extension": ".py",
   "mimetype": "text/x-python",
   "name": "python",
   "nbconvert_exporter": "python",
   "pygments_lexer": "ipython3",
   "version": "3.6.5"
  }
 },
 "nbformat": 4,
 "nbformat_minor": 1
}
