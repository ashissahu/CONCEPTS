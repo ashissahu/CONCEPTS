{
  "cells": [
    {
      "cell_type": "markdown",
      "metadata": {
        "id": "view-in-github",
        "colab_type": "text"
      },
      "source": [
        "<a href=\"https://colab.research.google.com/github/ashissahu/CONCEPTS/blob/master/10_Lists.ipynb\" target=\"_parent\"><img src=\"https://colab.research.google.com/assets/colab-badge.svg\" alt=\"Open In Colab\"/></a>"
      ]
    },
    {
      "cell_type": "markdown",
      "metadata": {
        "id": "OUO3CW8Psx3L"
      },
      "source": [
        "# Lists"
      ]
    },
    {
      "cell_type": "markdown",
      "metadata": {
        "id": "Su7sJN0nsx3e"
      },
      "source": [
        "Data Structure:\n",
        "    \n",
        "A data structure is a collection of data elements (such as numbers or characters—or even other data structures) that is structured in some way, for example, by numbering the elements. The most basic data structure in Python is the \"sequence\"."
      ]
    },
    {
      "cell_type": "markdown",
      "metadata": {
        "id": "RgYi74Rnsx3g"
      },
      "source": [
        "-> List is one of the Sequence Data structure\n",
        "\n",
        "-> Lists are collection of items (Strings, integers or even other lists)\n",
        "\n",
        "-> Lists are enclosed in [ ]\n",
        "\n",
        "-> Each item in the list has an assigned index value.\n",
        "\n",
        "-> Each item in a list is separated by a comma\n",
        "\n",
        "-> Lists are mutable, which means they can be changed.\n"
      ]
    },
    {
      "cell_type": "markdown",
      "metadata": {
        "collapsed": true,
        "id": "_-FwQrPvsx3i"
      },
      "source": [
        "# List Creation"
      ]
    },
    {
      "cell_type": "code",
      "execution_count": 14,
      "metadata": {
        "colab": {
          "base_uri": "https://localhost:8080/"
        },
        "id": "XAnA-tugsx3j",
        "outputId": "2abc4062-44a5-49f3-b431-de140f1f7ded"
      },
      "outputs": [
        {
          "output_type": "stream",
          "name": "stdout",
          "text": [
            "[1, 'ramu', 24, 1.24]\n"
          ]
        }
      ],
      "source": [
        "emptyList = []\n",
        "\n",
        "lst = ['one', 'two', 'three', 'four'] # list of strings\n",
        "\n",
        "lst2 = [1, 2, 3, 4] #list of integers\n",
        "\n",
        "lst3 = [[1, 2], [3, 4]] # list of lists\n",
        "\n",
        "lst4 = [1, 'ramu', 24, 1.24] # list of different datatypes\n",
        "\n",
        "print(lst4)\n"
      ]
    },
    {
      "cell_type": "markdown",
      "metadata": {
        "id": "OZONGCUasx3n"
      },
      "source": [
        "# List Length"
      ]
    },
    {
      "cell_type": "code",
      "execution_count": 15,
      "metadata": {
        "colab": {
          "base_uri": "https://localhost:8080/"
        },
        "id": "pHC49pMUsx3q",
        "outputId": "ba1fc12f-6424-491e-bea3-0b6cb9db77e7"
      },
      "outputs": [
        {
          "output_type": "stream",
          "name": "stdout",
          "text": [
            "4\n"
          ]
        }
      ],
      "source": [
        "lst = ['one', 'two', 'three', 'four']\n",
        "\n",
        "#find length of a list\n",
        "print(len(lst))"
      ]
    },
    {
      "cell_type": "markdown",
      "metadata": {
        "id": "K8feaB13sx3s"
      },
      "source": [
        "# List Append"
      ]
    },
    {
      "cell_type": "code",
      "execution_count": 16,
      "metadata": {
        "colab": {
          "base_uri": "https://localhost:8080/"
        },
        "id": "yr4vVhI1sx3u",
        "outputId": "8578aa99-5e59-4008-ba4b-54c1c2ad0560"
      },
      "outputs": [
        {
          "output_type": "stream",
          "name": "stdout",
          "text": [
            "['one', 'two', 'three', 'four', 'five']\n"
          ]
        }
      ],
      "source": [
        "lst = ['one', 'two', 'three', 'four']\n",
        "\n",
        "lst.append('five') # append will add the item at the end\n",
        "\n",
        "print(lst)"
      ]
    },
    {
      "cell_type": "markdown",
      "metadata": {
        "id": "JlcP8O0Vsx3w"
      },
      "source": [
        "# List Insert"
      ]
    },
    {
      "cell_type": "code",
      "execution_count": 17,
      "metadata": {
        "colab": {
          "base_uri": "https://localhost:8080/"
        },
        "id": "YPpYR4zFsx3x",
        "outputId": "592f3da7-d6a5-498b-e887-c66367c5754d"
      },
      "outputs": [
        {
          "output_type": "stream",
          "name": "stdout",
          "text": [
            "['one', 'two', 'three', 'four']\n"
          ]
        }
      ],
      "source": [
        "#syntax: lst.insert(x, y) \n",
        "\n",
        "lst = ['one', 'two', 'four']\n",
        "\n",
        "lst.insert(2, \"three\") # will add element y at location x\n",
        "\n",
        "print(lst)\n"
      ]
    },
    {
      "cell_type": "markdown",
      "metadata": {
        "id": "UPDjTtwesx3y"
      },
      "source": [
        "# List Remove"
      ]
    },
    {
      "cell_type": "code",
      "execution_count": 18,
      "metadata": {
        "colab": {
          "base_uri": "https://localhost:8080/"
        },
        "id": "pn9Ufifzsx3z",
        "outputId": "1a8ab76f-f171-4bbc-b31d-2d364f863be2"
      },
      "outputs": [
        {
          "output_type": "stream",
          "name": "stdout",
          "text": [
            "['one', 'three', 'four', 'two']\n"
          ]
        }
      ],
      "source": [
        "#syntax: lst.remove(x) \n",
        "\n",
        "lst = ['one', 'two', 'three', 'four', 'two']\n",
        "\n",
        "lst.remove('two') #it will remove first occurence of 'two' in a given list\n",
        "\n",
        "print(lst)"
      ]
    },
    {
      "cell_type": "markdown",
      "metadata": {
        "id": "-rtcj7eAsx30"
      },
      "source": [
        "# List Append & Extend"
      ]
    },
    {
      "cell_type": "code",
      "execution_count": 19,
      "metadata": {
        "colab": {
          "base_uri": "https://localhost:8080/"
        },
        "id": "f_1wucibsx31",
        "outputId": "95a5f197-2060-4fa7-95a4-b6c6250b6984"
      },
      "outputs": [
        {
          "output_type": "stream",
          "name": "stdout",
          "text": [
            "['one', 'two', 'three', 'four', ['five', 'six']]\n"
          ]
        }
      ],
      "source": [
        "lst = ['one', 'two', 'three', 'four']\n",
        "\n",
        "lst2 = ['five', 'six']\n",
        "\n",
        "#append \n",
        "lst.append(lst2)\n",
        "\n",
        "print(lst)"
      ]
    },
    {
      "cell_type": "code",
      "execution_count": 20,
      "metadata": {
        "colab": {
          "base_uri": "https://localhost:8080/"
        },
        "id": "l0xVaDjisx32",
        "outputId": "f28d326d-d5b8-4bae-c851-a4f46b24631f"
      },
      "outputs": [
        {
          "output_type": "stream",
          "name": "stdout",
          "text": [
            "['one', 'two', 'three', 'four', 'five', 'six']\n"
          ]
        }
      ],
      "source": [
        "lst = ['one', 'two', 'three', 'four']\n",
        "\n",
        "lst2 = ['five', 'six']\n",
        "\n",
        "#extend will join the list with list1\n",
        "\n",
        "lst.extend(lst2)\n",
        "\n",
        "print(lst)"
      ]
    },
    {
      "cell_type": "markdown",
      "metadata": {
        "id": "eTAVf57lsx33"
      },
      "source": [
        "# List Delete"
      ]
    },
    {
      "cell_type": "code",
      "execution_count": 21,
      "metadata": {
        "colab": {
          "base_uri": "https://localhost:8080/"
        },
        "id": "yrYG7qPFsx33",
        "outputId": "fb2f476f-9fa5-4a93-827f-c2aae0eea2c6"
      },
      "outputs": [
        {
          "output_type": "stream",
          "name": "stdout",
          "text": [
            "['one', 'three', 'four', 'five']\n",
            "three\n",
            "['one', 'four', 'five']\n"
          ]
        }
      ],
      "source": [
        "#del to remove item based on index position\n",
        "\n",
        "lst = ['one', 'two', 'three', 'four', 'five']\n",
        "\n",
        "del lst[1]\n",
        "print(lst)\n",
        "\n",
        "#or we can use pop() method\n",
        "a = lst.pop(1)\n",
        "print(a)\n",
        "\n",
        "print(lst)"
      ]
    },
    {
      "cell_type": "code",
      "execution_count": 22,
      "metadata": {
        "colab": {
          "base_uri": "https://localhost:8080/"
        },
        "id": "SFf73xnOsx34",
        "outputId": "8e7f8f96-7384-40cc-b58b-1551fdf10e20"
      },
      "outputs": [
        {
          "output_type": "stream",
          "name": "stdout",
          "text": [
            "['one', 'two', 'four']\n"
          ]
        }
      ],
      "source": [
        "lst = ['one', 'two', 'three', 'four']\n",
        "\n",
        "#remove an item from list\n",
        "lst.remove('three')\n",
        "\n",
        "print(lst)"
      ]
    },
    {
      "cell_type": "markdown",
      "metadata": {
        "id": "A21q4gphsx35"
      },
      "source": [
        "# List related keywords in Python"
      ]
    },
    {
      "cell_type": "code",
      "execution_count": 23,
      "metadata": {
        "colab": {
          "base_uri": "https://localhost:8080/"
        },
        "id": "KHBgZmdBsx36",
        "outputId": "36e8c43a-7da3-4606-beeb-3f42755f298b"
      },
      "outputs": [
        {
          "output_type": "stream",
          "name": "stdout",
          "text": [
            "AI\n",
            "ML\n"
          ]
        }
      ],
      "source": [
        "#keyword 'in' is used to test if an item is in a list\n",
        "lst = ['one', 'two', 'three', 'four']\n",
        "\n",
        "if 'two' in lst:\n",
        "    print('AI')\n",
        "\n",
        "#keyword 'not' can combined with 'in'\n",
        "if 'six' not in lst:\n",
        "    print('ML')"
      ]
    },
    {
      "cell_type": "markdown",
      "metadata": {
        "id": "cU7_EMDCsx37"
      },
      "source": [
        "# List Reverse"
      ]
    },
    {
      "cell_type": "code",
      "execution_count": 24,
      "metadata": {
        "colab": {
          "base_uri": "https://localhost:8080/"
        },
        "id": "58Rv8aRgsx38",
        "outputId": "795839e2-1bb7-4e6b-c0ba-a1f6ddc60e34"
      },
      "outputs": [
        {
          "output_type": "stream",
          "name": "stdout",
          "text": [
            "['four', 'three', 'two', 'one']\n"
          ]
        }
      ],
      "source": [
        "#reverse is reverses the entire list\n",
        "\n",
        "lst = ['one', 'two', 'three', 'four']\n",
        "\n",
        "lst.reverse()\n",
        "\n",
        "print(lst)"
      ]
    },
    {
      "cell_type": "code",
      "source": [
        "lst[::]"
      ],
      "metadata": {
        "colab": {
          "base_uri": "https://localhost:8080/"
        },
        "id": "Bxf5djgLvuva",
        "outputId": "e9c5e669-e3e9-4320-aaf7-8fb6157ef148"
      },
      "execution_count": 25,
      "outputs": [
        {
          "output_type": "execute_result",
          "data": {
            "text/plain": [
              "['four', 'three', 'two', 'one']"
            ]
          },
          "metadata": {},
          "execution_count": 25
        }
      ]
    },
    {
      "cell_type": "markdown",
      "metadata": {
        "id": "mq6FLn06sx39"
      },
      "source": [
        "# List Sorting"
      ]
    },
    {
      "cell_type": "markdown",
      "metadata": {
        "id": "FIpqWka1sx39"
      },
      "source": [
        "The easiest way to sort a List is with the sorted(list) function. \n",
        "\n",
        "That takes a list and returns a new list with those elements in sorted order. \n",
        "\n",
        "The original list is not changed. \n",
        "\n",
        "The sorted() optional argument reverse=True, e.g. sorted(list, reverse=True), \n",
        "makes it sort backwards."
      ]
    },
    {
      "cell_type": "code",
      "execution_count": 26,
      "metadata": {
        "id": "PPyGbIyCsx4A",
        "outputId": "c75eb8d9-fe35-425e-9855-7719a23aa84b",
        "colab": {
          "base_uri": "https://localhost:8080/"
        }
      },
      "outputs": [
        {
          "output_type": "stream",
          "name": "stdout",
          "text": [
            "Sorted list : [1, 2, 3, 6, 8]\n",
            "Original list:  [3, 1, 6, 2, 8]\n"
          ]
        }
      ],
      "source": [
        "#create a list with numbers\n",
        "numbers = [3, 1, 6, 2, 8]\n",
        "\n",
        "sorted_lst = sorted(numbers)\n",
        "\n",
        "\n",
        "print(\"Sorted list :\", sorted_lst)\n",
        "\n",
        "#original list remain unchanged\n",
        "print(\"Original list: \", numbers)"
      ]
    },
    {
      "cell_type": "code",
      "execution_count": 27,
      "metadata": {
        "id": "cVbjFEassx4C",
        "outputId": "783bd56d-6919-40d2-82fb-d2704735ba5d",
        "colab": {
          "base_uri": "https://localhost:8080/"
        }
      },
      "outputs": [
        {
          "output_type": "stream",
          "name": "stdout",
          "text": [
            "Reverse sorted list : [8, 6, 3, 2, 1]\n",
            "Original list : [3, 1, 6, 2, 8]\n"
          ]
        }
      ],
      "source": [
        "#print a list in reverse sorted order\n",
        "print(\"Reverse sorted list :\", sorted(numbers, reverse=True))\n",
        "\n",
        "#orginal list remain unchanged\n",
        "print(\"Original list :\",  numbers)"
      ]
    },
    {
      "cell_type": "code",
      "execution_count": 28,
      "metadata": {
        "id": "HWInNPVrsx4C",
        "outputId": "a61e053a-178f-4fb5-bed1-fae4f536736c",
        "colab": {
          "base_uri": "https://localhost:8080/"
        }
      },
      "outputs": [
        {
          "output_type": "stream",
          "name": "stdout",
          "text": [
            "Sorted list:  [1, 4.2, 5, 5, 20]\n"
          ]
        }
      ],
      "source": [
        "lst = [1, 20, 5, 5, 4.2]\n",
        "\n",
        "#sort the list and stored in itself\n",
        "lst.sort()\n",
        "\n",
        "# add element 'a' to the list to show an error\n",
        "\n",
        "print(\"Sorted list: \", lst)"
      ]
    },
    {
      "cell_type": "code",
      "execution_count": 29,
      "metadata": {
        "id": "fS4ymZkusx4E",
        "outputId": "d92bc62e-beb8-46c4-af72-fc10d7ed9223",
        "colab": {
          "base_uri": "https://localhost:8080/",
          "height": 183
        }
      },
      "outputs": [
        {
          "output_type": "error",
          "ename": "TypeError",
          "evalue": "ignored",
          "traceback": [
            "\u001b[0;31m---------------------------------------------------------------------------\u001b[0m",
            "\u001b[0;31mTypeError\u001b[0m                                 Traceback (most recent call last)",
            "\u001b[0;32m<ipython-input-29-0354af416f5c>\u001b[0m in \u001b[0;36m<module>\u001b[0;34m()\u001b[0m\n\u001b[1;32m      1\u001b[0m \u001b[0mlst\u001b[0m \u001b[0;34m=\u001b[0m \u001b[0;34m[\u001b[0m\u001b[0;36m1\u001b[0m\u001b[0;34m,\u001b[0m \u001b[0;36m20\u001b[0m\u001b[0;34m,\u001b[0m \u001b[0;34m'b'\u001b[0m\u001b[0;34m,\u001b[0m \u001b[0;36m5\u001b[0m\u001b[0;34m,\u001b[0m \u001b[0;34m'a'\u001b[0m\u001b[0;34m]\u001b[0m\u001b[0;34m\u001b[0m\u001b[0;34m\u001b[0m\u001b[0m\n\u001b[0;32m----> 2\u001b[0;31m \u001b[0mprint\u001b[0m\u001b[0;34m(\u001b[0m\u001b[0mlst\u001b[0m\u001b[0;34m.\u001b[0m\u001b[0msort\u001b[0m\u001b[0;34m(\u001b[0m\u001b[0;34m)\u001b[0m\u001b[0;34m)\u001b[0m \u001b[0;31m# sort list with element of different datatypes.\u001b[0m\u001b[0;34m\u001b[0m\u001b[0;34m\u001b[0m\u001b[0m\n\u001b[0m",
            "\u001b[0;31mTypeError\u001b[0m: '<' not supported between instances of 'str' and 'int'"
          ]
        }
      ],
      "source": [
        "lst = [1, 20, 'b', 5, 'a']\n",
        "print(lst.sort()) # sort list with element of different datatypes.\n"
      ]
    },
    {
      "cell_type": "markdown",
      "metadata": {
        "id": "AaUVZfk-sx4E"
      },
      "source": [
        "# List Having Multiple References"
      ]
    },
    {
      "cell_type": "code",
      "execution_count": 30,
      "metadata": {
        "id": "Mg4ReeKksx4F",
        "outputId": "48dcacfc-3cd7-4d69-ca38-94006ff86ceb",
        "colab": {
          "base_uri": "https://localhost:8080/"
        }
      },
      "outputs": [
        {
          "output_type": "stream",
          "name": "stdout",
          "text": [
            "Original list:  [1, 2, 3, 4, 5, 6]\n"
          ]
        }
      ],
      "source": [
        "lst = [1, 2, 3, 4, 5]\n",
        "abc = lst\n",
        "abc.append(6)\n",
        "\n",
        "#print original list\n",
        "print(\"Original list: \", lst)"
      ]
    },
    {
      "cell_type": "markdown",
      "metadata": {
        "id": "s09UICVEsx4G"
      },
      "source": [
        "# String Split to create a list"
      ]
    },
    {
      "cell_type": "code",
      "execution_count": 31,
      "metadata": {
        "scrolled": true,
        "id": "DYcez0Masx4G",
        "outputId": "978af028-c9cd-4700-9187-3c919b381a18",
        "colab": {
          "base_uri": "https://localhost:8080/"
        }
      },
      "outputs": [
        {
          "output_type": "stream",
          "name": "stdout",
          "text": [
            "['one', 'two', 'three', 'four', 'five']\n"
          ]
        }
      ],
      "source": [
        "#let's take a string\n",
        "\n",
        "s = \"one,two,three,four,five\"\n",
        "slst = s.split(',')\n",
        "print(slst)"
      ]
    },
    {
      "cell_type": "code",
      "execution_count": 33,
      "metadata": {
        "id": "M9W-fHf7sx4H",
        "outputId": "e3ba9e4b-8f65-467b-c3e4-8c6e7359ba47",
        "colab": {
          "base_uri": "https://localhost:8080/"
        }
      },
      "outputs": [
        {
          "output_type": "stream",
          "name": "stdout",
          "text": [
            "['I', 'am', 'learning']\n"
          ]
        }
      ],
      "source": [
        "s = \"I am learning\"\n",
        "split_lst = s.split() # default split is white-character: space or tab\n",
        "print(split_lst)"
      ]
    },
    {
      "cell_type": "markdown",
      "metadata": {
        "id": "vDc3cPmgsx4H"
      },
      "source": [
        "# List Indexing"
      ]
    },
    {
      "cell_type": "markdown",
      "metadata": {
        "id": "Bx5fnu40sx4H"
      },
      "source": [
        "Each item in the list has an assigned index value starting from 0.\n",
        "\n",
        "Accessing elements in a list is called indexing."
      ]
    },
    {
      "cell_type": "code",
      "execution_count": 34,
      "metadata": {
        "id": "JxZwh9Dnsx4I",
        "outputId": "8da71e80-723c-4bf6-cd8a-fba2f2809200",
        "colab": {
          "base_uri": "https://localhost:8080/"
        }
      },
      "outputs": [
        {
          "output_type": "stream",
          "name": "stdout",
          "text": [
            "2\n",
            "3\n"
          ]
        }
      ],
      "source": [
        "lst = [1, 2, 3, 4]\n",
        "print(lst[1]) #print second element\n",
        "\n",
        "#print last element using negative index\n",
        "print(lst[-2])"
      ]
    },
    {
      "cell_type": "markdown",
      "metadata": {
        "id": "3XOHAxU_sx4J"
      },
      "source": [
        "# List Slicing"
      ]
    },
    {
      "cell_type": "markdown",
      "metadata": {
        "id": "KA04puOSsx4J"
      },
      "source": [
        "Accessing parts of segments is called slicing. \n",
        "\n",
        "The key point to remember is that the :end value represents the first value that \n",
        "is not in the selected slice. "
      ]
    },
    {
      "cell_type": "code",
      "execution_count": 35,
      "metadata": {
        "id": "TMkRV2gBsx4K",
        "outputId": "4828ffe4-2c0f-414f-b1e7-691b0cfe46ff",
        "colab": {
          "base_uri": "https://localhost:8080/"
        }
      },
      "outputs": [
        {
          "output_type": "stream",
          "name": "stdout",
          "text": [
            "[10, 20, 30, 40, 50, 60, 70, 80]\n",
            "[10, 20, 30, 40]\n"
          ]
        }
      ],
      "source": [
        "numbers = [10, 20, 30, 40, 50,60,70,80]\n",
        "\n",
        "#print all numbers\n",
        "print(numbers[:]) \n",
        "\n",
        "#print from index 0 to index 3\n",
        "print(numbers[0:4])\n"
      ]
    },
    {
      "cell_type": "code",
      "execution_count": 36,
      "metadata": {
        "id": "GRtNUCpVsx4K",
        "outputId": "9b6e11d0-bc07-451a-fd7a-63f751ee8316",
        "colab": {
          "base_uri": "https://localhost:8080/"
        }
      },
      "outputs": [
        {
          "output_type": "stream",
          "name": "stdout",
          "text": [
            "[10, 20, 30, 40, 50, 60, 70, 80]\n",
            "[10, 30, 50, 70]\n",
            "[30, 50, 70]\n"
          ]
        }
      ],
      "source": [
        "print (numbers)\n",
        "#print alternate elements in a list\n",
        "print(numbers[::2])\n",
        "\n",
        "\n",
        "#print elemnts start from 0 through rest of the list\n",
        "print(numbers[2::2])\n"
      ]
    },
    {
      "cell_type": "markdown",
      "metadata": {
        "id": "bW5kmww7sx4L"
      },
      "source": [
        "# List extend using \"+\""
      ]
    },
    {
      "cell_type": "code",
      "execution_count": 37,
      "metadata": {
        "id": "yi8sLv6Bsx4N",
        "outputId": "0a91ca19-008d-4792-cd8d-7c7b3cda3f03",
        "colab": {
          "base_uri": "https://localhost:8080/"
        }
      },
      "outputs": [
        {
          "output_type": "stream",
          "name": "stdout",
          "text": [
            "[1, 2, 3, 4, 'varma', 'naveen', 'murali', 'brahma']\n"
          ]
        }
      ],
      "source": [
        "lst1 = [1, 2, 3, 4]\n",
        "lst2 = ['varma', 'naveen', 'murali', 'brahma']\n",
        "new_lst = lst1 + lst2\n",
        "\n",
        "print(new_lst)"
      ]
    },
    {
      "cell_type": "markdown",
      "metadata": {
        "id": "BquEmFgQsx4O"
      },
      "source": [
        "# List Count"
      ]
    },
    {
      "cell_type": "code",
      "execution_count": 38,
      "metadata": {
        "id": "UDq7pVJqsx4O",
        "outputId": "b2229c26-47cd-41b9-ee15-d3aaf59d00ed",
        "colab": {
          "base_uri": "https://localhost:8080/"
        }
      },
      "outputs": [
        {
          "output_type": "stream",
          "name": "stdout",
          "text": [
            "2\n",
            "2\n"
          ]
        }
      ],
      "source": [
        "numbers = [1, 2, 3, 1, 3, 4, 2, 5]\n",
        "\n",
        "#frequency of 1 in a list\n",
        "print(numbers.count(1))\n",
        "\n",
        "#frequency of 3 in a list\n",
        "print(numbers.count(3))"
      ]
    },
    {
      "cell_type": "markdown",
      "metadata": {
        "id": "GPT1uj3Jsx4P"
      },
      "source": [
        "# List Looping"
      ]
    },
    {
      "cell_type": "code",
      "execution_count": 39,
      "metadata": {
        "id": "ReN9GoWBsx4P",
        "outputId": "1129be48-0241-4d35-c6ef-e63d03d70d28",
        "colab": {
          "base_uri": "https://localhost:8080/"
        }
      },
      "outputs": [
        {
          "output_type": "stream",
          "name": "stdout",
          "text": [
            "one\n",
            "two\n",
            "three\n",
            "four\n"
          ]
        }
      ],
      "source": [
        "#loop through a list\n",
        "\n",
        "lst = ['one', 'two', 'three', 'four']\n",
        "\n",
        "for ele in lst:\n",
        "    print(ele)"
      ]
    },
    {
      "cell_type": "markdown",
      "metadata": {
        "id": "5XfaY53tsx4P"
      },
      "source": [
        "# List Comprehensions"
      ]
    },
    {
      "cell_type": "markdown",
      "metadata": {
        "id": "CEYKtdj7sx4Q"
      },
      "source": [
        "List comprehensions provide a concise way to create lists. \n",
        "\n",
        "Common applications are to make new lists where each element is the result of some operations applied to each member of another sequence or iterable, or to create a subsequence of those elements that satisfy a certain condition."
      ]
    },
    {
      "cell_type": "code",
      "execution_count": 40,
      "metadata": {
        "id": "0NqZWtD1sx4Q",
        "outputId": "db65fe42-aa61-4ff3-dd21-527540eb435b",
        "colab": {
          "base_uri": "https://localhost:8080/"
        }
      },
      "outputs": [
        {
          "output_type": "stream",
          "name": "stdout",
          "text": [
            "[0, 1, 4, 9, 16, 25, 36, 49, 64, 81]\n"
          ]
        }
      ],
      "source": [
        "# without list comprehension\n",
        "squares = []\n",
        "for i in range(10):\n",
        "    squares.append(i**2)   #list append\n",
        "print(squares)"
      ]
    },
    {
      "cell_type": "code",
      "execution_count": 41,
      "metadata": {
        "id": "upw_86dQsx4R",
        "outputId": "cc3b1938-8070-4945-91de-2b837837bd84",
        "colab": {
          "base_uri": "https://localhost:8080/"
        }
      },
      "outputs": [
        {
          "output_type": "stream",
          "name": "stdout",
          "text": [
            "[0, 1, 4, 9, 16, 25, 36, 49, 64, 81]\n"
          ]
        }
      ],
      "source": [
        "#using list comprehension\n",
        "squares = [i**2 for i in range(10)]\n",
        "print(squares)"
      ]
    },
    {
      "cell_type": "code",
      "execution_count": 42,
      "metadata": {
        "id": "VAMfva1rsx4S",
        "outputId": "deadeee2-4c2c-4166-893b-41ec171dcd36",
        "colab": {
          "base_uri": "https://localhost:8080/"
        }
      },
      "outputs": [
        {
          "output_type": "stream",
          "name": "stdout",
          "text": [
            "[-20, -40, 20, 40, 100]\n",
            "[10, 20, 50]\n",
            "[(0, 0), (1, 1), (2, 4), (3, 9), (4, 16), (5, 25), (6, 36), (7, 49), (8, 64), (9, 81)]\n"
          ]
        }
      ],
      "source": [
        "#example\n",
        "\n",
        "lst = [-10, -20, 10, 20, 50]\n",
        "\n",
        "#create a new list with values doubled\n",
        "new_lst = [i*2 for i in lst]\n",
        "print(new_lst)\n",
        "\n",
        "#filter the list to exclude negative numbers\n",
        "new_lst = [i for i in lst if i >= 0]\n",
        "print(new_lst)\n",
        "\n",
        "\n",
        "#create a list of tuples like (number, square_of_number)\n",
        "new_lst = [(i, i**2) for i in range(10)]\n",
        "print(new_lst)"
      ]
    },
    {
      "cell_type": "markdown",
      "metadata": {
        "id": "AR5tw_Zhsx4S"
      },
      "source": [
        "# Nested List Comprehensions"
      ]
    },
    {
      "cell_type": "code",
      "execution_count": 43,
      "metadata": {
        "id": "GhdeY4E9sx4T",
        "outputId": "87cea45f-5b86-40b6-904c-b474d4737c72",
        "colab": {
          "base_uri": "https://localhost:8080/"
        }
      },
      "outputs": [
        {
          "output_type": "stream",
          "name": "stdout",
          "text": [
            "[[1, 5, 9], [2, 6, 10], [3, 7, 11], [4, 8, 12]]\n"
          ]
        }
      ],
      "source": [
        "#let's suppose we have a matrix\n",
        "\n",
        "matrix = [\n",
        "    [1, 2, 3, 4],\n",
        "    [5, 6, 7, 8],\n",
        "    [9, 10, 11, 12]\n",
        "]\n",
        "\n",
        "#transpose of a matrix without list comprehension\n",
        "transposed = []\n",
        "for i in range(4):\n",
        "    lst = []\n",
        "    for row in matrix:\n",
        "        lst.append(row[i])\n",
        "    transposed.append(lst)\n",
        "\n",
        "print(transposed)\n"
      ]
    },
    {
      "cell_type": "code",
      "execution_count": 44,
      "metadata": {
        "id": "gJPJiXZqsx4T",
        "outputId": "f3006041-20f1-40b8-a379-469a8544a39c",
        "colab": {
          "base_uri": "https://localhost:8080/"
        }
      },
      "outputs": [
        {
          "output_type": "stream",
          "name": "stdout",
          "text": [
            "[[1, 5, 9], [2, 6, 10], [3, 7, 11], [4, 8, 12]]\n"
          ]
        }
      ],
      "source": [
        "#with list comprehension\n",
        "transposed = [[row[i] for row in matrix] for i in range(4)]\n",
        "print(transposed)"
      ]
    },
    {
      "cell_type": "code",
      "execution_count": null,
      "metadata": {
        "collapsed": true,
        "id": "8EpXFDT-sx4U"
      },
      "outputs": [],
      "source": [
        ""
      ]
    }
  ],
  "metadata": {
    "kernelspec": {
      "display_name": "Python 3",
      "language": "python",
      "name": "python3"
    },
    "language_info": {
      "codemirror_mode": {
        "name": "ipython",
        "version": 3
      },
      "file_extension": ".py",
      "mimetype": "text/x-python",
      "name": "python",
      "nbconvert_exporter": "python",
      "pygments_lexer": "ipython3",
      "version": "3.6.1"
    },
    "colab": {
      "name": "10_Lists.ipynb",
      "provenance": [],
      "collapsed_sections": [],
      "include_colab_link": true
    }
  },
  "nbformat": 4,
  "nbformat_minor": 0
}