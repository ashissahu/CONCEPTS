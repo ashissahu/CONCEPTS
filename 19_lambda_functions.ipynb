{
  "nbformat": 4,
  "nbformat_minor": 0,
  "metadata": {
    "colab": {
      "name": "19_lambda_functions.ipynb",
      "provenance": [],
      "collapsed_sections": [],
      "include_colab_link": true
    },
    "language_info": {
      "codemirror_mode": {
        "name": "ipython",
        "version": 3
      },
      "file_extension": ".py",
      "mimetype": "text/x-python",
      "name": "python",
      "nbconvert_exporter": "python",
      "pygments_lexer": "ipython3",
      "version": "3.6.1"
    },
    "kernelspec": {
      "display_name": "Python 3",
      "language": "python",
      "name": "python3"
    }
  },
  "cells": [
    {
      "cell_type": "markdown",
      "metadata": {
        "id": "view-in-github",
        "colab_type": "text"
      },
      "source": [
        "<a href=\"https://colab.research.google.com/github/ashissahu/CONCEPTS/blob/master/19_lambda_functions.ipynb\" target=\"_parent\"><img src=\"https://colab.research.google.com/assets/colab-badge.svg\" alt=\"Open In Colab\"/></a>"
      ]
    },
    {
      "cell_type": "markdown",
      "metadata": {
        "id": "9hwg-SFGkuwl"
      },
      "source": [
        "# Anonymous / Lambda Function"
      ]
    },
    {
      "cell_type": "markdown",
      "metadata": {
        "id": "T968WlfYkuwn"
      },
      "source": [
        "In Python, anonymous function is a function that is defined without a name.\n",
        "\n",
        "While normal functions are defined using the def keyword, in Python anonymous functions are defined using the lambda keyword.\n",
        "\n",
        "Lambda functions are used extensively along with built-in functions like filter(), map()"
      ]
    },
    {
      "cell_type": "markdown",
      "metadata": {
        "id": "W1J2Es82kuwp"
      },
      "source": [
        "syntax:\n",
        "    \n",
        "    lambda arguments: expression"
      ]
    },
    {
      "cell_type": "markdown",
      "metadata": {
        "id": "ELGfMrUQkuwq"
      },
      "source": [
        "# Example:"
      ]
    },
    {
      "cell_type": "code",
      "metadata": {
        "id": "uPnqlXPkkuws",
        "colab": {
          "base_uri": "https://localhost:8080/"
        },
        "outputId": "eb7e1200-b9e1-417e-e9c1-ecd92031dc76"
      },
      "source": [
        "double = lambda x: x*2\n",
        "\n",
        "print(double(5))\n"
      ],
      "execution_count": 1,
      "outputs": [
        {
          "output_type": "stream",
          "name": "stdout",
          "text": [
            "10\n"
          ]
        }
      ]
    },
    {
      "cell_type": "code",
      "metadata": {
        "id": "E9CTFNv9kuw4",
        "colab": {
          "base_uri": "https://localhost:8080/"
        },
        "outputId": "39c6de7e-276d-4751-ee03-2285b1b10575"
      },
      "source": [
        "def double(x):\n",
        "    return x * 2\n",
        "\n",
        "print(double(5))\n"
      ],
      "execution_count": 2,
      "outputs": [
        {
          "output_type": "stream",
          "name": "stdout",
          "text": [
            "10\n"
          ]
        }
      ]
    },
    {
      "cell_type": "code",
      "metadata": {
        "id": "aahzcZxlkuw_",
        "colab": {
          "base_uri": "https://localhost:8080/"
        },
        "outputId": "52a4058f-8b68-48dc-cfc8-43d9507d5faf"
      },
      "source": [
        "#Example use with filter()\n",
        "lst = [1, 2, 3, 4, 5]\n",
        "even_lst = list(filter(lambda x: (x%2 == 0), lst))\n",
        "print(even_lst)\n"
      ],
      "execution_count": 3,
      "outputs": [
        {
          "output_type": "stream",
          "name": "stdout",
          "text": [
            "[2, 4]\n"
          ]
        }
      ]
    },
    {
      "cell_type": "code",
      "metadata": {
        "id": "F9yMVkN7kuxE",
        "colab": {
          "base_uri": "https://localhost:8080/"
        },
        "outputId": "a1e3e1ce-2da4-4f3e-8b50-e6f3658941d1"
      },
      "source": [
        "#Example use with map()\n",
        "lst = [1, 2, 3, 4, 5]\n",
        "new_lst = list(map(lambda x: x ** 2, lst))\n",
        "print(new_lst)\n"
      ],
      "execution_count": 4,
      "outputs": [
        {
          "output_type": "stream",
          "name": "stdout",
          "text": [
            "[1, 4, 9, 16, 25]\n"
          ]
        }
      ]
    },
    {
      "cell_type": "code",
      "metadata": {
        "id": "HtOP0Q31kuxM",
        "outputId": "60b60bb3-7d47-42f3-d0a4-bd8d77b592e5",
        "colab": {
          "base_uri": "https://localhost:8080/"
        }
      },
      "source": [
        "#Example use with reduce()\n",
        "from functools import reduce\n",
        "\n",
        "lst = [1, 2, 3, 4, 5]\n",
        "product_lst = reduce(lambda x, y: x*y, lst)\n",
        "print(product_lst)\n"
      ],
      "execution_count": 5,
      "outputs": [
        {
          "output_type": "stream",
          "name": "stdout",
          "text": [
            "120\n"
          ]
        }
      ]
    },
    {
      "cell_type": "code",
      "metadata": {
        "id": "ijo7VPg9kuxW"
      },
      "source": [
        ""
      ],
      "execution_count": null,
      "outputs": []
    }
  ]
}